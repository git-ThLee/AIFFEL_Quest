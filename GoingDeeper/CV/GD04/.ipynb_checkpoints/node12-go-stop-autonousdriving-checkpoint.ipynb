{
 "cells": [
  {
   "cell_type": "markdown",
   "metadata": {
    "_cell_guid": "b1076dfc-b9ad-4769-8c92-a6c4dae69d19",
    "_uuid": "8f2839f25d086af736a60e9eeb907d3b93b6e0e5"
   },
   "source": [
    "## 12-1 프로젝트: 자율주행 보조 시스템 만들기\n",
    "먼저 주요 라이브러리 버전을 확인해봅시다."
   ]
  },
  {
   "cell_type": "code",
   "execution_count": null,
   "metadata": {},
   "outputs": [],
   "source": [
    "import tensorflow as tf\n",
    "\n",
    "print(tf.__version__)"
   ]
  },
  {
   "cell_type": "markdown",
   "metadata": {},
   "source": [
    "### 1. 자율주행 시스템 만들기\n",
    "위에서 만든 모델을 통해 아래의 조건을 만족하는 함수를 만들어 주세요.\n",
    "\n",
    "- 입력으로 이미지 경로를 받습니다.\n",
    "- 정지조건에 맞는 경우 \"Stop\" 아닌 경우 \"Go\"를 반환합니다.\n",
    "- 조건은 다음과 같습니다.\n",
    "    - 사람이 한 명 이상 있는 경우\n",
    "    - 차량의 크기(width or height)가 300px이상인 경우"
   ]
  },
  {
   "cell_type": "code",
   "execution_count": null,
   "metadata": {},
   "outputs": [],
   "source": [
    "import os\n",
    "img_path = os.getenv('HOME')+'/aiffel/object_detection/data/stop_1.png'\n",
    "\n",
    "def self_drive_assist(img_path, size_limit=300):\n",
    "    pass\n",
    "    # 코드 구현\n",
    "        # 정지조건에 맞으면 return \"Stop\"\n",
    "        # 아닌 경우 return \"Go\"\n",
    "\n",
    "print(self_drive_assist(img_path))"
   ]
  },
  {
   "cell_type": "markdown",
   "metadata": {},
   "source": [
    "### 2. 자율주행 시스템 평가하기\n",
    "아래 test_system() 를 통해서 위에서 만든 함수를 평가해봅시다. 10장에 대해 Go와 Stop을 맞게 반환하는지 확인하고 100점 만점으로 평가해줍니다."
   ]
  },
  {
   "cell_type": "code",
   "execution_count": null,
   "metadata": {},
   "outputs": [],
   "source": [
    "import os\n",
    "\n",
    "def test_system(func):\n",
    "    work_dir = os.getenv('HOME')+'/aiffel/object_detection/data'\n",
    "    score = 0\n",
    "    test_set=[\n",
    "        (\"stop_1.png\", \"Stop\"),\n",
    "        (\"stop_2.png\", \"Stop\"),\n",
    "        (\"stop_3.png\", \"Stop\"),\n",
    "        (\"stop_4.png\", \"Stop\"),\n",
    "        (\"stop_5.png\", \"Stop\"),\n",
    "        (\"go_1.png\", \"Go\"),\n",
    "        (\"go_2.png\", \"Go\"),\n",
    "        (\"go_3.png\", \"Go\"),\n",
    "        (\"go_4.png\", \"Go\"),\n",
    "        (\"go_5.png\", \"Go\"),\n",
    "    ]\n",
    "    \n",
    "    for image_file, answer in test_set:\n",
    "        image_path = work_dir + '/' + image_file\n",
    "        pred = func(image_path)\n",
    "        if pred == answer:\n",
    "            score += 10\n",
    "    print(f\"{score}점입니다.\")\n",
    "\n",
    "test_system(self_drive_assist)"
   ]
  },
  {
   "cell_type": "markdown",
   "metadata": {},
   "source": [
    "## 루브릭\n",
    "아래의 기준을 바탕으로 프로젝트를 평가합니다.\n",
    "|평가문항|상세기준|\n",
    "|1. KITTI 데이터셋에 대한 분석이 체계적으로 진행되었다.|KITTI 데이터셋 구조와 내용을 파악하고 이를 토대로 필요한 데이터셋 가공을 정상 진행하였다.|\n",
    "|2. RetinaNet 학습이 정상적으로 진행되어 object detection 결과의 시각화까지 진행되었다.| 바운딩박스가 정확히 표시된 시각화된 이미지를 생성하였다.|\n",
    "|3. 자율주행 Object Detection| 테스트시스템 적용결과 만족스러운 정확도 성능을 달성하였다.|"
   ]
  }
 ],
 "metadata": {
  "kaggle": {
   "accelerator": "none",
   "dataSources": [],
   "isGpuEnabled": false,
   "isInternetEnabled": true,
   "language": "python",
   "sourceType": "notebook"
  },
  "kernelspec": {
   "display_name": "Python 3",
   "language": "python",
   "name": "python3"
  },
  "language_info": {
   "codemirror_mode": {
    "name": "ipython",
    "version": 3
   },
   "file_extension": ".py",
   "mimetype": "text/x-python",
   "name": "python",
   "nbconvert_exporter": "python",
   "pygments_lexer": "ipython3",
   "version": "3.6.4"
  }
 },
 "nbformat": 4,
 "nbformat_minor": 4
}
