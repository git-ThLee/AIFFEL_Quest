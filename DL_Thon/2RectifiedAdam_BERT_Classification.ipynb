{
 "cells": [
  {
   "cell_type": "code",
   "execution_count": 1,
   "id": "9a9c9436",
   "metadata": {},
   "outputs": [],
   "source": [
    "import os\n",
    "import numpy as np\n",
    "import pandas as pd"
   ]
  },
  {
   "cell_type": "code",
   "execution_count": 2,
   "id": "8e06265b",
   "metadata": {},
   "outputs": [
    {
     "data": {
      "text/html": [
       "<div>\n",
       "<style scoped>\n",
       "    .dataframe tbody tr th:only-of-type {\n",
       "        vertical-align: middle;\n",
       "    }\n",
       "\n",
       "    .dataframe tbody tr th {\n",
       "        vertical-align: top;\n",
       "    }\n",
       "\n",
       "    .dataframe thead th {\n",
       "        text-align: right;\n",
       "    }\n",
       "</style>\n",
       "<table border=\"1\" class=\"dataframe\">\n",
       "  <thead>\n",
       "    <tr style=\"text-align: right;\">\n",
       "      <th></th>\n",
       "      <th>idx</th>\n",
       "      <th>class</th>\n",
       "      <th>conversation</th>\n",
       "    </tr>\n",
       "  </thead>\n",
       "  <tbody>\n",
       "    <tr>\n",
       "      <th>0</th>\n",
       "      <td>0</td>\n",
       "      <td>협박 대화</td>\n",
       "      <td>지금 너 스스로를 죽여달라고 애원하는 것인가?\\n 아닙니다. 죄송합니다.\\n 죽을 ...</td>\n",
       "    </tr>\n",
       "    <tr>\n",
       "      <th>1</th>\n",
       "      <td>1</td>\n",
       "      <td>협박 대화</td>\n",
       "      <td>길동경찰서입니다.\\n9시 40분 마트에 폭발물을 설치할거다.\\n네?\\n똑바로 들어 ...</td>\n",
       "    </tr>\n",
       "    <tr>\n",
       "      <th>2</th>\n",
       "      <td>2</td>\n",
       "      <td>기타 괴롭힘 대화</td>\n",
       "      <td>너 되게 귀여운거 알지? 나보다 작은 남자는 첨봤어.\\n그만해. 니들 놀리는거 재미...</td>\n",
       "    </tr>\n",
       "    <tr>\n",
       "      <th>3</th>\n",
       "      <td>3</td>\n",
       "      <td>갈취 대화</td>\n",
       "      <td>어이 거기\\n예??\\n너 말이야 너. 이리 오라고\\n무슨 일.\\n너 옷 좋아보인다?...</td>\n",
       "    </tr>\n",
       "    <tr>\n",
       "      <th>4</th>\n",
       "      <td>4</td>\n",
       "      <td>갈취 대화</td>\n",
       "      <td>저기요 혹시 날이 너무 뜨겁잖아요? 저희 회사에서 이 선크림 파는데 한 번 손등에 ...</td>\n",
       "    </tr>\n",
       "  </tbody>\n",
       "</table>\n",
       "</div>"
      ],
      "text/plain": [
       "   idx      class                                       conversation\n",
       "0    0      협박 대화  지금 너 스스로를 죽여달라고 애원하는 것인가?\\n 아닙니다. 죄송합니다.\\n 죽을 ...\n",
       "1    1      협박 대화  길동경찰서입니다.\\n9시 40분 마트에 폭발물을 설치할거다.\\n네?\\n똑바로 들어 ...\n",
       "2    2  기타 괴롭힘 대화  너 되게 귀여운거 알지? 나보다 작은 남자는 첨봤어.\\n그만해. 니들 놀리는거 재미...\n",
       "3    3      갈취 대화  어이 거기\\n예??\\n너 말이야 너. 이리 오라고\\n무슨 일.\\n너 옷 좋아보인다?...\n",
       "4    4      갈취 대화  저기요 혹시 날이 너무 뜨겁잖아요? 저희 회사에서 이 선크림 파는데 한 번 손등에 ..."
      ]
     },
     "execution_count": 2,
     "metadata": {},
     "output_type": "execute_result"
    }
   ],
   "source": [
    "train_df_path = \"~/data/train.csv\"\n",
    "train_df = pd.read_csv(train_df_path)\n",
    "train_df.head()"
   ]
  },
  {
   "cell_type": "code",
   "execution_count": 3,
   "id": "6a3cd4fa",
   "metadata": {},
   "outputs": [
    {
     "data": {
      "text/html": [
       "<div>\n",
       "<style scoped>\n",
       "    .dataframe tbody tr th:only-of-type {\n",
       "        vertical-align: middle;\n",
       "    }\n",
       "\n",
       "    .dataframe tbody tr th {\n",
       "        vertical-align: top;\n",
       "    }\n",
       "\n",
       "    .dataframe thead th {\n",
       "        text-align: right;\n",
       "    }\n",
       "</style>\n",
       "<table border=\"1\" class=\"dataframe\">\n",
       "  <thead>\n",
       "    <tr style=\"text-align: right;\">\n",
       "      <th></th>\n",
       "      <th>idx</th>\n",
       "      <th>conversation</th>\n",
       "    </tr>\n",
       "    <tr>\n",
       "      <th>class</th>\n",
       "      <th></th>\n",
       "      <th></th>\n",
       "    </tr>\n",
       "  </thead>\n",
       "  <tbody>\n",
       "    <tr>\n",
       "      <th>갈취 대화</th>\n",
       "      <td>981</td>\n",
       "      <td>981</td>\n",
       "    </tr>\n",
       "    <tr>\n",
       "      <th>기타 괴롭힘 대화</th>\n",
       "      <td>1094</td>\n",
       "      <td>1094</td>\n",
       "    </tr>\n",
       "    <tr>\n",
       "      <th>직장 내 괴롭힘 대화</th>\n",
       "      <td>979</td>\n",
       "      <td>979</td>\n",
       "    </tr>\n",
       "    <tr>\n",
       "      <th>협박 대화</th>\n",
       "      <td>896</td>\n",
       "      <td>896</td>\n",
       "    </tr>\n",
       "  </tbody>\n",
       "</table>\n",
       "</div>"
      ],
      "text/plain": [
       "              idx  conversation\n",
       "class                          \n",
       "갈취 대화         981           981\n",
       "기타 괴롭힘 대화    1094          1094\n",
       "직장 내 괴롭힘 대화   979           979\n",
       "협박 대화         896           896"
      ]
     },
     "execution_count": 3,
     "metadata": {},
     "output_type": "execute_result"
    }
   ],
   "source": [
    "train_df.groupby(by=['class']).count()"
   ]
  },
  {
   "cell_type": "markdown",
   "id": "ecd32ec5",
   "metadata": {},
   "source": [
    "### Label Encoding"
   ]
  },
  {
   "cell_type": "code",
   "execution_count": 4,
   "id": "680ea333",
   "metadata": {},
   "outputs": [],
   "source": [
    "label_encode = {\n",
    "    \"협박 대화\" : 0,\n",
    "    \"갈취 대화\" : 1,\n",
    "    \"직장 내 괴롭힘 대화\" : 2,\n",
    "    \"기타 괴롭힘 대화\" : 3,   \n",
    "}\n",
    "train_df['encoded_label'] = train_df['class'].map(label_encode)"
   ]
  },
  {
   "cell_type": "code",
   "execution_count": 5,
   "id": "b2e08651",
   "metadata": {
    "scrolled": true
   },
   "outputs": [
    {
     "data": {
      "text/plain": [
       "0       0\n",
       "1       0\n",
       "2       3\n",
       "3       1\n",
       "4       1\n",
       "       ..\n",
       "3945    3\n",
       "3946    1\n",
       "3947    2\n",
       "3948    1\n",
       "3949    2\n",
       "Name: encoded_label, Length: 3950, dtype: int64"
      ]
     },
     "execution_count": 5,
     "metadata": {},
     "output_type": "execute_result"
    }
   ],
   "source": [
    "train_df['encoded_label']"
   ]
  },
  {
   "cell_type": "markdown",
   "id": "c345cc1c",
   "metadata": {},
   "source": [
    "### Spliting data into training and validation set"
   ]
  },
  {
   "cell_type": "code",
   "execution_count": 6,
   "id": "a0de688b",
   "metadata": {},
   "outputs": [],
   "source": [
    "train_texts = train_df['conversation'].to_list()\n",
    "train_labels = train_df['encoded_label'].to_list()"
   ]
  },
  {
   "cell_type": "code",
   "execution_count": 7,
   "id": "aa5443c7",
   "metadata": {},
   "outputs": [],
   "source": [
    "from sklearn.model_selection import train_test_split\n",
    "\n",
    "# Stratified Split Train and Validation data \n",
    "train_texts, val_texts, train_labels, val_labels = train_test_split(train_texts, train_labels, test_size=0.2, random_state=121, stratify=train_labels)"
   ]
  },
  {
   "cell_type": "markdown",
   "id": "bd47673c",
   "metadata": {},
   "source": [
    "# 2. Tokenizing the text\n",
    "## Load Tokenizer and Tokenizing"
   ]
  },
  {
   "cell_type": "code",
   "execution_count": 16,
   "id": "b6f88c62",
   "metadata": {},
   "outputs": [],
   "source": [
    "MODEL_PATH = \"klue/bert-base\"\n",
    "# MODEL_PATH = \"skt/kobert-base-v1\""
   ]
  },
  {
   "cell_type": "code",
   "execution_count": 17,
   "id": "c86d5073",
   "metadata": {
    "scrolled": true
   },
   "outputs": [],
   "source": [
    "from transformers import BertTokenizerFast\n",
    "from transformers import AutoTokenizer, AutoModel, BertModel\n",
    "\n",
    "# Load Tokenizer \n",
    "tokenizer = BertTokenizerFast.from_pretrained(MODEL_PATH)\n",
    "# tokenizer = KoBertTokenizer.from_pretrained(\"skt/kobert-base-v1\")\n",
    "\n",
    "# Tokenizing\n",
    "# dict_keys(['input_ids', 'token_type_ids', 'attention_mask']) 이런식으로 \n",
    "train_encodings = tokenizer(train_texts, truncation=True, padding=True) \n",
    "val_encodings = tokenizer(val_texts, truncation=True, padding=True)"
   ]
  },
  {
   "cell_type": "code",
   "execution_count": 18,
   "id": "26a1c7f9",
   "metadata": {},
   "outputs": [
    {
     "name": "stdout",
     "output_type": "stream",
     "text": [
      "dict_keys(['input_ids', 'token_type_ids', 'attention_mask'])\n"
     ]
    }
   ],
   "source": [
    "print(dict(val_encodings).keys())"
   ]
  },
  {
   "cell_type": "markdown",
   "id": "e71a503e",
   "metadata": {},
   "source": [
    "# 3. Creating a Dataset Object for Tensorflow"
   ]
  },
  {
   "cell_type": "code",
   "execution_count": 19,
   "id": "04aaf9b5",
   "metadata": {},
   "outputs": [],
   "source": [
    "import tensorflow as tf\n",
    "\n",
    "# trainset-set\n",
    "train_dataset = tf.data.Dataset.from_tensor_slices((\n",
    "    dict(train_encodings),\n",
    "    train_labels\n",
    "))\n",
    "\n",
    "# validation-set\n",
    "val_dataset = tf.data.Dataset.from_tensor_slices((\n",
    "    dict(val_encodings),\n",
    "    val_labels\n",
    "))"
   ]
  },
  {
   "cell_type": "markdown",
   "id": "e35a64e2",
   "metadata": {},
   "source": [
    "# 4. Fine-Tuning BERT\n",
    "## 4.1 Using Native Tensorflow pipeline\n",
    "### Load Pretrained Model"
   ]
  },
  {
   "cell_type": "code",
   "execution_count": 20,
   "id": "fd7f3465",
   "metadata": {},
   "outputs": [
    {
     "name": "stdout",
     "output_type": "stream",
     "text": [
      "4\n"
     ]
    },
    {
     "name": "stderr",
     "output_type": "stream",
     "text": [
      "Some weights of the PyTorch model were not used when initializing the TF 2.0 model TFBertForSequenceClassification: ['bert.embeddings.position_ids']\n",
      "- This IS expected if you are initializing TFBertForSequenceClassification from a PyTorch model trained on another task or with another architecture (e.g. initializing a TFBertForSequenceClassification model from a BertForPreTraining model).\n",
      "- This IS NOT expected if you are initializing TFBertForSequenceClassification from a PyTorch model that you expect to be exactly identical (e.g. initializing a TFBertForSequenceClassification model from a BertForSequenceClassification model).\n",
      "Some weights or buffers of the TF 2.0 model TFBertForSequenceClassification were not initialized from the PyTorch model and are newly initialized: ['classifier.weight', 'classifier.bias']\n",
      "You should probably TRAIN this model on a down-stream task to be able to use it for predictions and inference.\n",
      "/opt/conda/lib/python3.9/site-packages/keras/optimizer_v2/optimizer_v2.py:355: UserWarning: The `lr` argument is deprecated, use `learning_rate` instead.\n",
      "  warnings.warn(\n"
     ]
    }
   ],
   "source": [
    "from transformers import TFBertForSequenceClassification\n",
    "from tensorflow.keras import optimizers\n",
    "import tensorflow_addons as tfa\n",
    "\n",
    "num_labels = len(label_encode)\n",
    "print(num_labels)\n",
    "# TODO : from_pt=False 혹은 없이 해보기\n",
    "# from_pt – (optional) boolean, default False: Load the model weights from a PyTorch state_dict save file (see docstring of pretrained_model_name_or_path argument).\n",
    "model = TFBertForSequenceClassification.from_pretrained(MODEL_PATH, num_labels=num_labels, from_pt=True)\n",
    "\n",
    "\n",
    "optimizer = tfa.optimizers.RectifiedAdam(lr=5.0e-5, total_steps = 2344*3, warmup_proportion=0.1, min_lr=1e-5, epsilon=1e-08, clipnorm=1.0)\n",
    "model.compile(optimizer=optimizer, loss=model.compute_loss, metrics=['accuracy'])"
   ]
  },
  {
   "cell_type": "code",
   "execution_count": 21,
   "id": "e9d3bc10",
   "metadata": {},
   "outputs": [
    {
     "data": {
      "text/plain": [
       "<bound method TFSequenceClassificationLoss.compute_loss of <transformers.models.bert.modeling_tf_bert.TFBertForSequenceClassification object at 0x7ff3318331c0>>"
      ]
     },
     "execution_count": 21,
     "metadata": {},
     "output_type": "execute_result"
    }
   ],
   "source": [
    "model.compute_loss"
   ]
  },
  {
   "cell_type": "code",
   "execution_count": 22,
   "id": "5b230a23",
   "metadata": {
    "scrolled": false
   },
   "outputs": [
    {
     "name": "stdout",
     "output_type": "stream",
     "text": [
      "Epoch 1/5\n",
      "395/395 [==============================] - 442s 982ms/step - loss: 1.0173 - accuracy: 0.5886 - val_loss: 0.3911 - val_accuracy: 0.8734\n",
      "WARNING:tensorflow:Can save best model only with vall_accuracy available, skipping.\n",
      "Epoch 2/5\n",
      "395/395 [==============================] - 387s 979ms/step - loss: 0.3319 - accuracy: 0.8880 - val_loss: 0.6564 - val_accuracy: 0.7975\n",
      "WARNING:tensorflow:Can save best model only with vall_accuracy available, skipping.\n",
      "Epoch 3/5\n",
      "395/395 [==============================] - 387s 979ms/step - loss: 0.1930 - accuracy: 0.9383 - val_loss: 0.4105 - val_accuracy: 0.8937\n",
      "WARNING:tensorflow:Can save best model only with vall_accuracy available, skipping.\n",
      "Epoch 4/5\n",
      "395/395 [==============================] - 387s 979ms/step - loss: 0.0455 - accuracy: 0.9892 - val_loss: 0.3697 - val_accuracy: 0.9038\n",
      "WARNING:tensorflow:Can save best model only with vall_accuracy available, skipping.\n",
      "Epoch 5/5\n",
      "395/395 [==============================] - 387s 980ms/step - loss: 0.0287 - accuracy: 0.9949 - val_loss: 0.3987 - val_accuracy: 0.8962\n",
      "WARNING:tensorflow:Can save best model only with vall_accuracy available, skipping.\n"
     ]
    },
    {
     "data": {
      "text/plain": [
       "<keras.callbacks.History at 0x7ff353db9700>"
      ]
     },
     "execution_count": 22,
     "metadata": {},
     "output_type": "execute_result"
    }
   ],
   "source": [
    "from tensorflow.keras.callbacks import EarlyStopping, LearningRateScheduler, ModelCheckpoint\n",
    "\n",
    "callback_earlystopping = EarlyStopping(\n",
    "    monitor=\"val_accuracy\", \n",
    "    min_delta=0.001, # the threshold that triggers the termination (acc should at least improve 0.001)\n",
    "    patience=2)\n",
    "\n",
    "callback_learningrate_scheduler = tf.keras.callbacks.ReduceLROnPlateau(\n",
    "    monitor='val_loss',\n",
    "    factor=0.1,\n",
    "    patience=2,\n",
    "    verbose=0,\n",
    "    mode='auto',\n",
    "    min_delta=0.0001,\n",
    "    cooldown=0,\n",
    "    min_lr=0,\n",
    ")\n",
    "\n",
    "\n",
    "callback_modelcheckpoint = ModelCheckpoint(\n",
    "    filepath = \"BERT_BestModel.keras\",\n",
    "    monitor=\"vall_accuracy\",\n",
    "    save_best_only=True,\n",
    ")\n",
    "\n",
    "callback_list = [callback_earlystopping, callback_learningrate_scheduler, callback_modelcheckpoint]\n",
    "\n",
    "model.fit(\n",
    "    train_dataset.shuffle(1000).batch(8), epochs=5, batch_size=4,\n",
    "    validation_data=val_dataset.shuffle(1000).batch(16),\n",
    "    callbacks = callback_list\n",
    ")"
   ]
  },
  {
   "cell_type": "markdown",
   "id": "1eb68736",
   "metadata": {},
   "source": [
    "### Saving the model and tokenizer"
   ]
  },
  {
   "cell_type": "code",
   "execution_count": 23,
   "id": "9dd75c11",
   "metadata": {},
   "outputs": [
    {
     "name": "stdout",
     "output_type": "stream",
     "text": [
      "_model/fine-tuned-klue-bert-base -- Folder already exists \n",
      "\n"
     ]
    },
    {
     "data": {
      "text/plain": [
       "('_model/fine-tuned-klue-bert-base/tokenizer_config.json',\n",
       " '_model/fine-tuned-klue-bert-base/special_tokens_map.json',\n",
       " '_model/fine-tuned-klue-bert-base/vocab.txt',\n",
       " '_model/fine-tuned-klue-bert-base/added_tokens.json',\n",
       " '_model/fine-tuned-klue-bert-base/tokenizer.json')"
      ]
     },
     "execution_count": 23,
     "metadata": {},
     "output_type": "execute_result"
    }
   ],
   "source": [
    "MODEL_NAME = 'fine-tuned-klue-bert-base'\n",
    "MODEL_SAVE_PATH = os.path.join(\"_model\", MODEL_NAME) # change this to your preferred location\n",
    "\n",
    "if os.path.exists(MODEL_SAVE_PATH):\n",
    "    print(f\"{MODEL_SAVE_PATH} -- Folder already exists \\n\")\n",
    "else:\n",
    "    os.makedirs(MODEL_SAVE_PATH, exist_ok=True)\n",
    "    print(f\"{MODEL_SAVE_PATH} -- Folder create complete \\n\")\n",
    "\n",
    "# save tokenizer, model\n",
    "model.save_pretrained(MODEL_SAVE_PATH)\n",
    "tokenizer.save_pretrained(MODEL_SAVE_PATH)"
   ]
  },
  {
   "cell_type": "markdown",
   "id": "7d25e73c",
   "metadata": {},
   "source": [
    "# 6. Loading the saved Model and Prediction"
   ]
  },
  {
   "cell_type": "code",
   "execution_count": 24,
   "id": "0fc30dee",
   "metadata": {},
   "outputs": [
    {
     "name": "stderr",
     "output_type": "stream",
     "text": [
      "Some layers from the model checkpoint at _model/fine-tuned-klue-bert-base were not used when initializing TFBertForSequenceClassification: ['dropout_37']\n",
      "- This IS expected if you are initializing TFBertForSequenceClassification from the checkpoint of a model trained on another task or with another architecture (e.g. initializing a BertForSequenceClassification model from a BertForPreTraining model).\n",
      "- This IS NOT expected if you are initializing TFBertForSequenceClassification from the checkpoint of a model that you expect to be exactly identical (initializing a BertForSequenceClassification model from a BertForSequenceClassification model).\n",
      "All the layers of TFBertForSequenceClassification were initialized from the model checkpoint at _model/fine-tuned-klue-bert-base.\n",
      "If your task is similar to the task the model of the checkpoint was trained on, you can already use TFBertForSequenceClassification for predictions without further training.\n"
     ]
    }
   ],
   "source": [
    "from transformers import TextClassificationPipeline\n",
    "\n",
    "# Load Fine-tuning model\n",
    "loaded_tokenizer = BertTokenizerFast.from_pretrained(MODEL_SAVE_PATH)\n",
    "loaded_model = TFBertForSequenceClassification.from_pretrained(MODEL_SAVE_PATH)\n",
    "\n",
    "text_classifier = TextClassificationPipeline(\n",
    "    tokenizer=loaded_tokenizer, \n",
    "    model=loaded_model, \n",
    "    framework='tf',\n",
    "    return_all_scores=True\n",
    ")"
   ]
  },
  {
   "cell_type": "code",
   "execution_count": 25,
   "id": "036ace35",
   "metadata": {},
   "outputs": [
    {
     "data": {
      "text/html": [
       "<div>\n",
       "<style scoped>\n",
       "    .dataframe tbody tr th:only-of-type {\n",
       "        vertical-align: middle;\n",
       "    }\n",
       "\n",
       "    .dataframe tbody tr th {\n",
       "        vertical-align: top;\n",
       "    }\n",
       "\n",
       "    .dataframe thead th {\n",
       "        text-align: right;\n",
       "    }\n",
       "</style>\n",
       "<table border=\"1\" class=\"dataframe\">\n",
       "  <thead>\n",
       "    <tr style=\"text-align: right;\">\n",
       "      <th></th>\n",
       "      <th>file_name</th>\n",
       "      <th>class</th>\n",
       "    </tr>\n",
       "  </thead>\n",
       "  <tbody>\n",
       "  </tbody>\n",
       "</table>\n",
       "</div>"
      ],
      "text/plain": [
       "Empty DataFrame\n",
       "Columns: [file_name, class]\n",
       "Index: []"
      ]
     },
     "execution_count": 25,
     "metadata": {},
     "output_type": "execute_result"
    }
   ],
   "source": [
    "test_df = pd.DataFrame(columns=['file_name', 'class'])\n",
    "test_df.head()"
   ]
  },
  {
   "cell_type": "code",
   "execution_count": 26,
   "id": "00ca07c7",
   "metadata": {
    "scrolled": true
   },
   "outputs": [],
   "source": [
    "import json\n",
    "\n",
    "with open('/aiffel/data/test.json', 'r') as f:\n",
    "    test_json = json.load(f)\n",
    "    \n",
    "# test_json"
   ]
  },
  {
   "cell_type": "code",
   "execution_count": 27,
   "id": "d3863a58",
   "metadata": {},
   "outputs": [
    {
     "data": {
      "application/vnd.jupyter.widget-view+json": {
       "model_id": "6ef8cf9627764e38b1080ee93d694a23",
       "version_major": 2,
       "version_minor": 0
      },
      "text/plain": [
       "  0%|          | 0/400 [00:00<?, ?it/s]"
      ]
     },
     "metadata": {},
     "output_type": "display_data"
    },
    {
     "data": {
      "text/plain": [
       "{'t_000': 1,\n",
       " 't_001': 2,\n",
       " 't_002': 2,\n",
       " 't_004': 3,\n",
       " 't_005': 0,\n",
       " 't_006': 0,\n",
       " 't_007': 3,\n",
       " 't_009': 1,\n",
       " 't_010': 0,\n",
       " 't_012': 2,\n",
       " 't_014': 2,\n",
       " 't_015': 0,\n",
       " 't_018': 0,\n",
       " 't_019': 3,\n",
       " 't_020': 0,\n",
       " 't_021': 3,\n",
       " 't_022': 3,\n",
       " 't_023': 1,\n",
       " 't_024': 1,\n",
       " 't_025': 2,\n",
       " 't_028': 2,\n",
       " 't_030': 1,\n",
       " 't_031': 0,\n",
       " 't_033': 1,\n",
       " 't_034': 0,\n",
       " 't_035': 3,\n",
       " 't_036': 3,\n",
       " 't_037': 1,\n",
       " 't_038': 0,\n",
       " 't_039': 1,\n",
       " 't_040': 0,\n",
       " 't_041': 1,\n",
       " 't_042': 2,\n",
       " 't_043': 1,\n",
       " 't_045': 2,\n",
       " 't_046': 0,\n",
       " 't_047': 3,\n",
       " 't_049': 0,\n",
       " 't_050': 1,\n",
       " 't_051': 3,\n",
       " 't_052': 1,\n",
       " 't_053': 2,\n",
       " 't_054': 2,\n",
       " 't_055': 3,\n",
       " 't_056': 3,\n",
       " 't_058': 3,\n",
       " 't_059': 3,\n",
       " 't_060': 1,\n",
       " 't_061': 3,\n",
       " 't_062': 0,\n",
       " 't_063': 3,\n",
       " 't_064': 2,\n",
       " 't_065': 0,\n",
       " 't_066': 3,\n",
       " 't_067': 3,\n",
       " 't_069': 1,\n",
       " 't_071': 2,\n",
       " 't_072': 3,\n",
       " 't_073': 2,\n",
       " 't_074': 0,\n",
       " 't_076': 2,\n",
       " 't_077': 1,\n",
       " 't_078': 2,\n",
       " 't_081': 0,\n",
       " 't_083': 0,\n",
       " 't_084': 3,\n",
       " 't_085': 2,\n",
       " 't_086': 1,\n",
       " 't_088': 1,\n",
       " 't_089': 2,\n",
       " 't_091': 2,\n",
       " 't_092': 0,\n",
       " 't_093': 3,\n",
       " 't_095': 2,\n",
       " 't_097': 2,\n",
       " 't_098': 1,\n",
       " 't_099': 0,\n",
       " 't_101': 1,\n",
       " 't_103': 0,\n",
       " 't_104': 0,\n",
       " 't_105': 2,\n",
       " 't_106': 2,\n",
       " 't_107': 3,\n",
       " 't_109': 0,\n",
       " 't_111': 0,\n",
       " 't_112': 1,\n",
       " 't_113': 2,\n",
       " 't_114': 1,\n",
       " 't_115': 1,\n",
       " 't_117': 2,\n",
       " 't_118': 2,\n",
       " 't_119': 1,\n",
       " 't_120': 2,\n",
       " 't_121': 3,\n",
       " 't_122': 1,\n",
       " 't_123': 1,\n",
       " 't_124': 1,\n",
       " 't_125': 1,\n",
       " 't_126': 2,\n",
       " 't_128': 1,\n",
       " 't_130': 3,\n",
       " 't_131': 3,\n",
       " 't_132': 2,\n",
       " 't_133': 3,\n",
       " 't_134': 1,\n",
       " 't_135': 0,\n",
       " 't_136': 0,\n",
       " 't_137': 0,\n",
       " 't_138': 3,\n",
       " 't_140': 0,\n",
       " 't_142': 1,\n",
       " 't_143': 3,\n",
       " 't_144': 2,\n",
       " 't_145': 0,\n",
       " 't_146': 0,\n",
       " 't_147': 0,\n",
       " 't_148': 0,\n",
       " 't_149': 1,\n",
       " 't_150': 0,\n",
       " 't_151': 3,\n",
       " 't_156': 0,\n",
       " 't_157': 2,\n",
       " 't_159': 3,\n",
       " 't_160': 0,\n",
       " 't_161': 3,\n",
       " 't_163': 0,\n",
       " 't_164': 2,\n",
       " 't_166': 2,\n",
       " 't_168': 3,\n",
       " 't_170': 0,\n",
       " 't_171': 2,\n",
       " 't_172': 2,\n",
       " 't_173': 3,\n",
       " 't_174': 2,\n",
       " 't_175': 3,\n",
       " 't_176': 0,\n",
       " 't_177': 2,\n",
       " 't_178': 1,\n",
       " 't_179': 1,\n",
       " 't_180': 2,\n",
       " 't_181': 3,\n",
       " 't_182': 2,\n",
       " 't_183': 2,\n",
       " 't_184': 0,\n",
       " 't_187': 0,\n",
       " 't_188': 1,\n",
       " 't_189': 0,\n",
       " 't_190': 0,\n",
       " 't_192': 1,\n",
       " 't_193': 3,\n",
       " 't_194': 1,\n",
       " 't_195': 3,\n",
       " 't_196': 3,\n",
       " 't_198': 0,\n",
       " 't_199': 3,\n",
       " 't_200': 2,\n",
       " 't_201': 0,\n",
       " 't_202': 3,\n",
       " 't_203': 1,\n",
       " 't_204': 0,\n",
       " 't_205': 3,\n",
       " 't_206': 2,\n",
       " 't_207': 1,\n",
       " 't_208': 2,\n",
       " 't_209': 2,\n",
       " 't_211': 1,\n",
       " 't_212': 3,\n",
       " 't_213': 2,\n",
       " 't_214': 1,\n",
       " 't_218': 0,\n",
       " 't_219': 0,\n",
       " 't_220': 1,\n",
       " 't_222': 0,\n",
       " 't_224': 0,\n",
       " 't_226': 1,\n",
       " 't_227': 0,\n",
       " 't_228': 1,\n",
       " 't_229': 0,\n",
       " 't_230': 2,\n",
       " 't_231': 0,\n",
       " 't_232': 3,\n",
       " 't_233': 3,\n",
       " 't_234': 1,\n",
       " 't_235': 3,\n",
       " 't_236': 3,\n",
       " 't_237': 1,\n",
       " 't_238': 0,\n",
       " 't_239': 3,\n",
       " 't_240': 3,\n",
       " 't_241': 3,\n",
       " 't_242': 3,\n",
       " 't_243': 2,\n",
       " 't_245': 1,\n",
       " 't_246': 2,\n",
       " 't_247': 1,\n",
       " 't_248': 2,\n",
       " 't_249': 1,\n",
       " 't_250': 0,\n",
       " 't_252': 0,\n",
       " 't_253': 2,\n",
       " 't_254': 2,\n",
       " 't_255': 1,\n",
       " 't_257': 2,\n",
       " 't_258': 1,\n",
       " 't_259': 2,\n",
       " 't_260': 1,\n",
       " 't_262': 0,\n",
       " 't_263': 3,\n",
       " 't_266': 3,\n",
       " 't_269': 1,\n",
       " 't_270': 0,\n",
       " 't_272': 0,\n",
       " 't_273': 2,\n",
       " 't_275': 2,\n",
       " 't_276': 2,\n",
       " 't_277': 3,\n",
       " 't_278': 2,\n",
       " 't_279': 2,\n",
       " 't_280': 1,\n",
       " 't_281': 0,\n",
       " 't_282': 3,\n",
       " 't_283': 2,\n",
       " 't_285': 2,\n",
       " 't_286': 1,\n",
       " 't_287': 2,\n",
       " 't_288': 1,\n",
       " 't_289': 3,\n",
       " 't_290': 1,\n",
       " 't_291': 1,\n",
       " 't_292': 3,\n",
       " 't_293': 3,\n",
       " 't_294': 2,\n",
       " 't_295': 0,\n",
       " 't_298': 1,\n",
       " 't_299': 0,\n",
       " 't_301': 3,\n",
       " 't_302': 0,\n",
       " 't_303': 2,\n",
       " 't_304': 1,\n",
       " 't_305': 1,\n",
       " 't_306': 3,\n",
       " 't_307': 3,\n",
       " 't_308': 1,\n",
       " 't_309': 2,\n",
       " 't_310': 1,\n",
       " 't_311': 1,\n",
       " 't_312': 3,\n",
       " 't_314': 2,\n",
       " 't_315': 3,\n",
       " 't_316': 1,\n",
       " 't_317': 3,\n",
       " 't_318': 3,\n",
       " 't_319': 0,\n",
       " 't_320': 2,\n",
       " 't_321': 0,\n",
       " 't_322': 0,\n",
       " 't_323': 1,\n",
       " 't_324': 1,\n",
       " 't_325': 1,\n",
       " 't_326': 1,\n",
       " 't_328': 2,\n",
       " 't_329': 3,\n",
       " 't_330': 3,\n",
       " 't_331': 0,\n",
       " 't_332': 0,\n",
       " 't_333': 3,\n",
       " 't_334': 1,\n",
       " 't_336': 1,\n",
       " 't_337': 1,\n",
       " 't_339': 3,\n",
       " 't_340': 0,\n",
       " 't_341': 2,\n",
       " 't_342': 0,\n",
       " 't_343': 0,\n",
       " 't_344': 1,\n",
       " 't_345': 2,\n",
       " 't_347': 1,\n",
       " 't_348': 0,\n",
       " 't_349': 0,\n",
       " 't_350': 0,\n",
       " 't_351': 3,\n",
       " 't_352': 1,\n",
       " 't_354': 1,\n",
       " 't_355': 3,\n",
       " 't_356': 3,\n",
       " 't_357': 3,\n",
       " 't_358': 0,\n",
       " 't_360': 3,\n",
       " 't_361': 0,\n",
       " 't_362': 1,\n",
       " 't_363': 1,\n",
       " 't_364': 2,\n",
       " 't_366': 3,\n",
       " 't_367': 2,\n",
       " 't_368': 0,\n",
       " 't_369': 3,\n",
       " 't_370': 2,\n",
       " 't_371': 2,\n",
       " 't_372': 0,\n",
       " 't_373': 2,\n",
       " 't_374': 2,\n",
       " 't_375': 3,\n",
       " 't_376': 1,\n",
       " 't_377': 3,\n",
       " 't_378': 1,\n",
       " 't_379': 1,\n",
       " 't_380': 2,\n",
       " 't_381': 0,\n",
       " 't_382': 2,\n",
       " 't_383': 2,\n",
       " 't_384': 3,\n",
       " 't_385': 1,\n",
       " 't_387': 0,\n",
       " 't_388': 0,\n",
       " 't_389': 3,\n",
       " 't_390': 1,\n",
       " 't_391': 0,\n",
       " 't_392': 1,\n",
       " 't_393': 2,\n",
       " 't_394': 1,\n",
       " 't_395': 3,\n",
       " 't_396': 0,\n",
       " 't_398': 1,\n",
       " 't_399': 0,\n",
       " 't_400': 3,\n",
       " 't_401': 3,\n",
       " 't_402': 2,\n",
       " 't_403': 2,\n",
       " 't_405': 0,\n",
       " 't_406': 2,\n",
       " 't_408': 2,\n",
       " 't_409': 1,\n",
       " 't_410': 0,\n",
       " 't_411': 3,\n",
       " 't_412': 0,\n",
       " 't_413': 2,\n",
       " 't_416': 3,\n",
       " 't_418': 1,\n",
       " 't_419': 0,\n",
       " 't_420': 1,\n",
       " 't_421': 0,\n",
       " 't_422': 3,\n",
       " 't_423': 3,\n",
       " 't_424': 3,\n",
       " 't_425': 1,\n",
       " 't_426': 1,\n",
       " 't_428': 2,\n",
       " 't_429': 0,\n",
       " 't_430': 3,\n",
       " 't_432': 1,\n",
       " 't_433': 0,\n",
       " 't_436': 0,\n",
       " 't_439': 2,\n",
       " 't_440': 3,\n",
       " 't_441': 0,\n",
       " 't_442': 2,\n",
       " 't_443': 1,\n",
       " 't_445': 2,\n",
       " 't_446': 0,\n",
       " 't_447': 2,\n",
       " 't_448': 2,\n",
       " 't_450': 1,\n",
       " 't_451': 0,\n",
       " 't_452': 2,\n",
       " 't_453': 3,\n",
       " 't_455': 1,\n",
       " 't_456': 2,\n",
       " 't_457': 2,\n",
       " 't_458': 1,\n",
       " 't_459': 1,\n",
       " 't_461': 1,\n",
       " 't_462': 0,\n",
       " 't_463': 2,\n",
       " 't_464': 2,\n",
       " 't_465': 3,\n",
       " 't_466': 3,\n",
       " 't_467': 2,\n",
       " 't_469': 0,\n",
       " 't_470': 2,\n",
       " 't_471': 1,\n",
       " 't_472': 0,\n",
       " 't_474': 3,\n",
       " 't_475': 2,\n",
       " 't_476': 1,\n",
       " 't_479': 2,\n",
       " 't_481': 3,\n",
       " 't_482': 1,\n",
       " 't_483': 0,\n",
       " 't_484': 1,\n",
       " 't_485': 3,\n",
       " 't_489': 3,\n",
       " 't_490': 3,\n",
       " 't_492': 0,\n",
       " 't_493': 1,\n",
       " 't_494': 1,\n",
       " 't_495': 2,\n",
       " 't_496': 2,\n",
       " 't_497': 1,\n",
       " 't_498': 0,\n",
       " 't_499': 0}"
      ]
     },
     "execution_count": 27,
     "metadata": {},
     "output_type": "execute_result"
    }
   ],
   "source": [
    "from tqdm.auto import tqdm\n",
    "answer_dict = {}\n",
    "for file_name, text in tqdm(test_json.items()):\n",
    "    preds_list = text_classifier(text['text'])[0]\n",
    "    best_label = int(sorted(preds_list, key=lambda x : x['score'])[-1]['label'].split('_')[-1])\n",
    "    answer_dict[file_name] = best_label\n",
    "          \n",
    "answer_dict"
   ]
  },
  {
   "cell_type": "code",
   "execution_count": 28,
   "id": "918994b5",
   "metadata": {},
   "outputs": [],
   "source": [
    "for key, value in answer_dict.items():\n",
    "    test_df = test_df.append({'file_name': key, 'class': value}, ignore_index=True)"
   ]
  },
  {
   "cell_type": "code",
   "execution_count": 29,
   "id": "d5bcd8fb",
   "metadata": {},
   "outputs": [],
   "source": [
    "# test_df.to_csv(\"HanBERT.csv\")  # accuracy - 0.9125\n",
    "# test_df.to_csv(\"HanBERT_ver2.csv\")  # accuracy - 0.875\n",
    "# test_df.to_csv(\"HanBERT_ver4.csv\") # accuracy - 0.8975\n",
    "# test_df.to_csv(\"HanBERT_ver5.csv\") # accuracy - 0.91\n",
    "# test_df.to_csv(\"HanBERT_ver6.csv\") # accuracy - 0.885\n",
    "# test_df.to_csv(\"klue_BERT_ver7.csv\") # accuracy - 0.8875\n",
    "# test_df.to_csv(\"klue_BERT_ver8.csv\")  # accuracy - 0.9025\n",
    "# test_df.to_csv(\"klue_BERT_ver9.csv\")  # accuracy - 0.9\n",
    "# test_df.to_csv(\"klue_BERT_ver10.csv\")  # accuracy - 0.9\n",
    "test_df.to_csv(\".csv\")"
   ]
  },
  {
   "cell_type": "code",
   "execution_count": null,
   "id": "33899513",
   "metadata": {},
   "outputs": [],
   "source": []
  },
  {
   "cell_type": "code",
   "execution_count": null,
   "id": "e104c27d",
   "metadata": {},
   "outputs": [],
   "source": []
  },
  {
   "cell_type": "code",
   "execution_count": null,
   "id": "7df53ae7",
   "metadata": {},
   "outputs": [],
   "source": []
  },
  {
   "cell_type": "code",
   "execution_count": null,
   "id": "720bcb04",
   "metadata": {},
   "outputs": [],
   "source": []
  },
  {
   "cell_type": "code",
   "execution_count": null,
   "id": "fdf4889e",
   "metadata": {},
   "outputs": [],
   "source": []
  },
  {
   "cell_type": "code",
   "execution_count": null,
   "id": "9f01c353",
   "metadata": {},
   "outputs": [],
   "source": []
  }
 ],
 "metadata": {
  "kernelspec": {
   "display_name": "Python 3 (ipykernel)",
   "language": "python",
   "name": "python3"
  },
  "language_info": {
   "codemirror_mode": {
    "name": "ipython",
    "version": 3
   },
   "file_extension": ".py",
   "mimetype": "text/x-python",
   "name": "python",
   "nbconvert_exporter": "python",
   "pygments_lexer": "ipython3",
   "version": "3.9.7"
  }
 },
 "nbformat": 4,
 "nbformat_minor": 5
}
