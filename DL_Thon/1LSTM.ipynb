{
 "cells": [
  {
   "cell_type": "code",
   "execution_count": 45,
   "id": "f5922912",
   "metadata": {},
   "outputs": [],
   "source": [
    "import os\n",
    "import pandas as pd\n",
    "import tensorflow\n",
    "import numpy as np\n",
    "import matplotlib\n",
    "import os\n",
    "import re\n",
    "import sentencepiece as spm\n",
    "import matplotlib.pyplot as plt\n",
    "import tensorflow as tf\n",
    "%matplotlib inline\n",
    "\n",
    "import pandas as pd\n",
    "import numpy as np\n",
    "import matplotlib.pyplot as plt\n",
    "import seaborn as sns\n",
    "\n",
    "import warnings\n",
    "warnings.filterwarnings(\"ignore\")\n",
    "\n",
    "import pandas as pd\n",
    "import numpy as np\n",
    "from sklearn.model_selection import train_test_split\n",
    "from sklearn.preprocessing import LabelEncoder\n",
    "from sklearn.metrics import classification_report\n",
    "from sklearn.model_selection import GridSearchCV\n",
    "from tensorflow.keras.models import Sequential\n",
    "from tensorflow.keras.layers import Embedding, LSTM, Dense\n",
    "from tensorflow.keras.preprocessing.text import Tokenizer\n",
    "from tensorflow.keras.preprocessing.sequence import pad_sequences\n",
    "from tensorflow.keras.callbacks import EarlyStopping, ModelCheckpoint, LearningRateScheduler\n",
    "\n",
    "from sklearn.model_selection import GridSearchCV\n",
    "from sklearn.metrics import make_scorer\n",
    "from tensorflow.keras.wrappers.scikit_learn import KerasClassifier\n",
    "from tensorflow.keras.models import Sequential\n",
    "from tensorflow.keras.layers import Embedding, LSTM, Dense\n",
    "from tensorflow.keras.preprocessing.text import Tokenizer\n",
    "from tensorflow.keras.preprocessing.sequence import pad_sequences\n",
    "from tensorflow.keras.callbacks import EarlyStopping, ModelCheckpoint, LearningRateScheduler"
   ]
  },
  {
   "cell_type": "markdown",
   "id": "7402f2eb",
   "metadata": {},
   "source": [
    "## LOAD DATA"
   ]
  },
  {
   "cell_type": "code",
   "execution_count": 46,
   "id": "39799ff1",
   "metadata": {},
   "outputs": [
    {
     "name": "stdout",
     "output_type": "stream",
     "text": [
      "<class 'pandas.core.frame.DataFrame'>\n",
      "RangeIndex: 3950 entries, 0 to 3949\n",
      "Data columns (total 4 columns):\n",
      " #   Column        Non-Null Count  Dtype \n",
      "---  ------        --------------  ----- \n",
      " 0   class         3950 non-null   object\n",
      " 1   conversation  3950 non-null   object\n",
      " 2   okt           3950 non-null   object\n",
      " 3   mecab         3950 non-null   object\n",
      "dtypes: object(4)\n",
      "memory usage: 123.6+ KB\n"
     ]
    }
   ],
   "source": [
    "df = pd.read_csv('data2.csv')\n",
    "df.info()"
   ]
  },
  {
   "cell_type": "code",
   "execution_count": 50,
   "id": "8c8e483f",
   "metadata": {},
   "outputs": [
    {
     "data": {
      "text/plain": [
       "'저기요 혹시 날이 너무 뜨겁잖아요 저희 회사에서 이 선크림 파는데 한 번 손등에 발라보실래요 아 진짜요 안 그래도 선크림 필요해서 알아보던 중인데 한 번 발라 볼게요 여기 한 번 발라보세요 진짜 성분도 좋고 다 좋아요 음 성분이 좋다고 하셔서 좋은거 같기는 한데 제 피부에 맞지 않나봐요 피부가 따끔거리네요 이번에 진짜 열심히 연구해서 만든건데 피부가 많이 예민하신가봐요 네 많이 예민해요 그럼 많이 파시고 안녕히 계세요 아니 저기요 돈 안내요 네 발라보는것도 돈 내야 하나요 그럼 이거 누구한테 팔아요 당신이 바른거를 아니 먼저 발라 보시라고 하셨잖아요 먼저 권유해놓고 사라고 강매하는거 갈취인거 몰라요 내가 안 사도 된다고 말 한 적 있어 그것도 모르고 바른걸 누구 탓 하나 빨리 사 당신이 바른거 당신이 사야지 진짜 어이가 없어서 다른 사람들한텐 이렇게 갈취하지마세요 화딱지나네'"
      ]
     },
     "execution_count": 50,
     "metadata": {},
     "output_type": "execute_result"
    }
   ],
   "source": [
    "df['conversation'][4]"
   ]
  },
  {
   "cell_type": "code",
   "execution_count": 3,
   "id": "514d0ab3",
   "metadata": {
    "scrolled": false
   },
   "outputs": [
    {
     "data": {
      "text/html": [
       "<div>\n",
       "<style scoped>\n",
       "    .dataframe tbody tr th:only-of-type {\n",
       "        vertical-align: middle;\n",
       "    }\n",
       "\n",
       "    .dataframe tbody tr th {\n",
       "        vertical-align: top;\n",
       "    }\n",
       "\n",
       "    .dataframe thead th {\n",
       "        text-align: right;\n",
       "    }\n",
       "</style>\n",
       "<table border=\"1\" class=\"dataframe\">\n",
       "  <thead>\n",
       "    <tr style=\"text-align: right;\">\n",
       "      <th></th>\n",
       "      <th>class</th>\n",
       "      <th>conversation</th>\n",
       "      <th>okt</th>\n",
       "      <th>mecab</th>\n",
       "    </tr>\n",
       "  </thead>\n",
       "  <tbody>\n",
       "    <tr>\n",
       "      <th>0</th>\n",
       "      <td>협박 대화</td>\n",
       "      <td>지금 너 스스로를 죽여달라고 애원하는 것인가  아닙니다 죄송합니다  죽을 거면 혼자...</td>\n",
       "      <td>['지금', '너', '스스로', '를', '죽여', '달라', '고', '애원',...</td>\n",
       "      <td>['지금', '너', '스스로', '를', '죽여', '달', '라고', '애원',...</td>\n",
       "    </tr>\n",
       "    <tr>\n",
       "      <th>1</th>\n",
       "      <td>협박 대화</td>\n",
       "      <td>길동경찰서입니다 시 분 마트에 폭발물을 설치할거다 네 똑바로 들어 한번만 더 얘기한...</td>\n",
       "      <td>['길동', '경찰서', '입니다', '시', '분', '마트', '에', '폭발물...</td>\n",
       "      <td>['길동', '경찰서', '입니다', '시', '분', '마트', '에', '폭발물...</td>\n",
       "    </tr>\n",
       "    <tr>\n",
       "      <th>2</th>\n",
       "      <td>기타 괴롭힘 대화</td>\n",
       "      <td>너 되게 귀여운거 알지 나보다 작은 남자는 첨봤어 그만해 니들 놀리는거 재미없어 지...</td>\n",
       "      <td>['너', '되게', '귀여운거', '알', '지', '나', '보다', '작은',...</td>\n",
       "      <td>['너', '되게', '귀여운', '거', '알', '지', '나', '보다', '...</td>\n",
       "    </tr>\n",
       "    <tr>\n",
       "      <th>3</th>\n",
       "      <td>갈취 대화</td>\n",
       "      <td>어이 거기 예 너 말이야 너 이리 오라고 무슨 일 너 옷 좋아보인다 얘 돈 좀 있나...</td>\n",
       "      <td>['어이', '거기', '예', '너', '말', '이야', '너', '이리', '...</td>\n",
       "      <td>['어', '이', '거기', '예', '너', '말', '이', '야', '너',...</td>\n",
       "    </tr>\n",
       "    <tr>\n",
       "      <th>4</th>\n",
       "      <td>갈취 대화</td>\n",
       "      <td>저기요 혹시 날이 너무 뜨겁잖아요 저희 회사에서 이 선크림 파는데 한 번 손등에 발...</td>\n",
       "      <td>['저기', '요', '혹시', '날', '이', '너무', '뜨겁잖아요', '저희...</td>\n",
       "      <td>['저기', '요', '혹시', '날', '이', '너무', '뜨겁', '잖아요',...</td>\n",
       "    </tr>\n",
       "  </tbody>\n",
       "</table>\n",
       "</div>"
      ],
      "text/plain": [
       "       class                                       conversation  \\\n",
       "0      협박 대화  지금 너 스스로를 죽여달라고 애원하는 것인가  아닙니다 죄송합니다  죽을 거면 혼자...   \n",
       "1      협박 대화  길동경찰서입니다 시 분 마트에 폭발물을 설치할거다 네 똑바로 들어 한번만 더 얘기한...   \n",
       "2  기타 괴롭힘 대화  너 되게 귀여운거 알지 나보다 작은 남자는 첨봤어 그만해 니들 놀리는거 재미없어 지...   \n",
       "3      갈취 대화  어이 거기 예 너 말이야 너 이리 오라고 무슨 일 너 옷 좋아보인다 얘 돈 좀 있나...   \n",
       "4      갈취 대화  저기요 혹시 날이 너무 뜨겁잖아요 저희 회사에서 이 선크림 파는데 한 번 손등에 발...   \n",
       "\n",
       "                                                 okt  \\\n",
       "0  ['지금', '너', '스스로', '를', '죽여', '달라', '고', '애원',...   \n",
       "1  ['길동', '경찰서', '입니다', '시', '분', '마트', '에', '폭발물...   \n",
       "2  ['너', '되게', '귀여운거', '알', '지', '나', '보다', '작은',...   \n",
       "3  ['어이', '거기', '예', '너', '말', '이야', '너', '이리', '...   \n",
       "4  ['저기', '요', '혹시', '날', '이', '너무', '뜨겁잖아요', '저희...   \n",
       "\n",
       "                                               mecab  \n",
       "0  ['지금', '너', '스스로', '를', '죽여', '달', '라고', '애원',...  \n",
       "1  ['길동', '경찰서', '입니다', '시', '분', '마트', '에', '폭발물...  \n",
       "2  ['너', '되게', '귀여운', '거', '알', '지', '나', '보다', '...  \n",
       "3  ['어', '이', '거기', '예', '너', '말', '이', '야', '너',...  \n",
       "4  ['저기', '요', '혹시', '날', '이', '너무', '뜨겁', '잖아요',...  "
      ]
     },
     "execution_count": 3,
     "metadata": {},
     "output_type": "execute_result"
    }
   ],
   "source": [
    "df.head()"
   ]
  },
  {
   "cell_type": "code",
   "execution_count": 4,
   "id": "a0ccca3e",
   "metadata": {},
   "outputs": [],
   "source": [
    "# 레이블 인코딩\n",
    "label_encoder = LabelEncoder()\n",
    "df['label'] = label_encoder.fit_transform(df['class'])"
   ]
  },
  {
   "cell_type": "markdown",
   "id": "72ab5182",
   "metadata": {},
   "source": [
    "### 패딩, 토크나이징"
   ]
  },
  {
   "cell_type": "code",
   "execution_count": 5,
   "id": "a455731f",
   "metadata": {},
   "outputs": [],
   "source": [
    "# 텍스트 토큰화 및 패딩\n",
    "tokenizer = Tokenizer()\n",
    "tokenizer.fit_on_texts(df['conversation'])\n",
    "sequences = tokenizer.texts_to_sequences(df['conversation'])\n",
    "max_length = max([len(seq) for seq in sequences])\n",
    "X = pad_sequences(sequences, maxlen=max_length, padding='pre')\n",
    "y = df['label']"
   ]
  },
  {
   "cell_type": "code",
   "execution_count": 6,
   "id": "63163093",
   "metadata": {},
   "outputs": [],
   "source": [
    "X_train, X_test, y_train, y_test = train_test_split(X, y, test_size=0.2, random_state=42)\n"
   ]
  },
  {
   "cell_type": "code",
   "execution_count": 12,
   "id": "b898dee3",
   "metadata": {},
   "outputs": [
    {
     "name": "stdout",
     "output_type": "stream",
     "text": [
      "Fitting 3 folds for each of 12 candidates, totalling 36 fits\n",
      "Best: 0.562662 using {'embedding_dim': 100, 'hidden_units': 256, 'lstm_units': 128}\n"
     ]
    }
   ],
   "source": [
    "# LSTM 모델 구성 함수\n",
    "# LSTM 모델 구성 함수\n",
    "def create_lstm_model(embedding_dim, lstm_units, hidden_units, dropout_rate=0.4):\n",
    "    model = Sequential()\n",
    "    model.add(Embedding(input_dim=len(tokenizer.word_index)+1, output_dim=embedding_dim, input_length=max_length))\n",
    "    model.add(LSTM(units=lstm_units, dropout=dropout_rate))\n",
    "    model.add(Dense(hidden_units, activation='relu'))  # 추가된 은닉 레이어\n",
    "    model.add(Dense(4, activation='softmax'))\n",
    "    model.compile(loss='categorical_crossentropy', optimizer='adam', metrics=['accuracy'])\n",
    "    return model\n",
    "\n",
    "# KerasClassifier를 활용하여 Keras 모델을 scikit-learn 모델로 래핑\n",
    "model = KerasClassifier(build_fn=create_lstm_model, verbose=0)\n",
    "\n",
    "# 그리드 서치를 통한 모델 하이퍼파라미터 튜닝\n",
    "param_grid = {\n",
    "    'embedding_dim': [50, 100],\n",
    "    'lstm_units': [64, 128],\n",
    "    'hidden_units':[64, 128, 256],\n",
    "}\n",
    "\n",
    "grid_search = GridSearchCV(estimator=model, param_grid=param_grid, cv=3, scoring='accuracy', verbose=1)\n",
    "grid_result = grid_search.fit(X_train, y_train)\n",
    "\n",
    "# 최적 모델의 하이퍼파라미터 출력\n",
    "print(\"Best: %f using %s\" % (grid_result.best_score_, grid_result.best_params_))\n"
   ]
  },
  {
   "cell_type": "code",
   "execution_count": 15,
   "id": "b1c99ce9",
   "metadata": {},
   "outputs": [],
   "source": [
    "import tensorflow as tf\n",
    "\n",
    "# 클래스 인덱스를 원-핫 인코딩 형태로 변환\n",
    "y_train_encoded = tf.one_hot(y_train, depth=4)  # 클래스 개수인 4로 depth 설정\n",
    "y_test_encoded = tf.one_hot(y_test, depth=4)\n"
   ]
  },
  {
   "cell_type": "code",
   "execution_count": 16,
   "id": "5bf85dd1",
   "metadata": {},
   "outputs": [
    {
     "data": {
      "text/plain": [
       "<keras.callbacks.History at 0x7f28cb5436a0>"
      ]
     },
     "execution_count": 16,
     "metadata": {},
     "output_type": "execute_result"
    }
   ],
   "source": [
    "callbacks = [\n",
    "    EarlyStopping(monitor='val_loss', patience=3, restore_best_weights=True),\n",
    "    ModelCheckpoint(filepath='best_model.h5', save_best_only=True),\n",
    "    LearningRateScheduler(lambda epoch: 1e-3 * (0.6 ** epoch))\n",
    "]\n",
    "\n",
    "# 모델 학습\n",
    "best_model = grid_result.best_estimator_\n",
    "best_model.fit(X_train, y_train_encoded, epochs=20, batch_size=32, validation_data=(X_test, y_test_encoded), callbacks=callbacks)\n"
   ]
  },
  {
   "cell_type": "code",
   "execution_count": 17,
   "id": "0e081940",
   "metadata": {},
   "outputs": [
    {
     "name": "stdout",
     "output_type": "stream",
     "text": [
      "              precision    recall  f1-score   support\n",
      "\n",
      "       갈취 대화       0.86      0.68      0.76       213\n",
      "   기타 괴롭힘 대화       0.73      0.82      0.77       209\n",
      " 직장 내 괴롭힘 대화       0.86      0.87      0.87       183\n",
      "       협박 대화       0.78      0.84      0.81       185\n",
      "\n",
      "    accuracy                           0.80       790\n",
      "   macro avg       0.81      0.80      0.80       790\n",
      "weighted avg       0.81      0.80      0.80       790\n",
      "\n"
     ]
    }
   ],
   "source": [
    "# 테스트 데이터로 평가\n",
    "y_pred = best_model.predict(X_test)\n",
    "y_pred = np.round(y_pred).flatten()\n",
    "print(classification_report(y_test, y_pred, target_names=label_encoder.classes_))"
   ]
  },
  {
   "cell_type": "code",
   "execution_count": 19,
   "id": "711a353b",
   "metadata": {},
   "outputs": [],
   "source": [
    "# 모델 내부 Keras 모델 저장\n",
    "best_model.model.save('best_lstm_model.h5')\n"
   ]
  },
  {
   "cell_type": "code",
   "execution_count": 27,
   "id": "536cea4e",
   "metadata": {},
   "outputs": [
    {
     "data": {
      "text/html": [
       "<div>\n",
       "<style scoped>\n",
       "    .dataframe tbody tr th:only-of-type {\n",
       "        vertical-align: middle;\n",
       "    }\n",
       "\n",
       "    .dataframe tbody tr th {\n",
       "        vertical-align: top;\n",
       "    }\n",
       "\n",
       "    .dataframe thead th {\n",
       "        text-align: right;\n",
       "    }\n",
       "</style>\n",
       "<table border=\"1\" class=\"dataframe\">\n",
       "  <thead>\n",
       "    <tr style=\"text-align: right;\">\n",
       "      <th></th>\n",
       "      <th>text</th>\n",
       "    </tr>\n",
       "  </thead>\n",
       "  <tbody>\n",
       "    <tr>\n",
       "      <th>t_000</th>\n",
       "      <td>아가씨 담배한갑주소 네 4500원입니다 어 네 지갑어디갔지 에이 버스에서 잃어버렸나...</td>\n",
       "    </tr>\n",
       "    <tr>\n",
       "      <th>t_001</th>\n",
       "      <td>우리팀에서 다른팀으로 갈 사람 없나? 그럼 영지씨가 가는건 어때?  네? 제가요? ...</td>\n",
       "    </tr>\n",
       "    <tr>\n",
       "      <th>t_002</th>\n",
       "      <td>너 오늘 그게 뭐야 네 제가 뭘 잘못했나요.? 제대로 좀 하지 네 똑바로 좀 하지 ...</td>\n",
       "    </tr>\n",
       "    <tr>\n",
       "      <th>t_004</th>\n",
       "      <td>아무튼 앞으로 니가 내 와이파이야. .응 와이파이 온. 켰어. 반말? 주인님이라고도...</td>\n",
       "    </tr>\n",
       "    <tr>\n",
       "      <th>t_005</th>\n",
       "      <td>그러니까 빨리 말해. 선생님 제발 살려주십시오.  비밀번호 틀릴 때마다 손톱 하나씩...</td>\n",
       "    </tr>\n",
       "  </tbody>\n",
       "</table>\n",
       "</div>"
      ],
      "text/plain": [
       "                                                    text\n",
       "t_000  아가씨 담배한갑주소 네 4500원입니다 어 네 지갑어디갔지 에이 버스에서 잃어버렸나...\n",
       "t_001  우리팀에서 다른팀으로 갈 사람 없나? 그럼 영지씨가 가는건 어때?  네? 제가요? ...\n",
       "t_002  너 오늘 그게 뭐야 네 제가 뭘 잘못했나요.? 제대로 좀 하지 네 똑바로 좀 하지 ...\n",
       "t_004  아무튼 앞으로 니가 내 와이파이야. .응 와이파이 온. 켰어. 반말? 주인님이라고도...\n",
       "t_005  그러니까 빨리 말해. 선생님 제발 살려주십시오.  비밀번호 틀릴 때마다 손톱 하나씩..."
      ]
     },
     "execution_count": 27,
     "metadata": {},
     "output_type": "execute_result"
    }
   ],
   "source": [
    "test = pd.read_json('./data/test.json').T\n",
    "test.head()"
   ]
  },
  {
   "cell_type": "code",
   "execution_count": 28,
   "id": "2828277e",
   "metadata": {},
   "outputs": [],
   "source": [
    "tokenizer = Tokenizer()\n",
    "tokenizer.fit_on_texts(test['text'])\n",
    "sequences = tokenizer.texts_to_sequences(test['text'])\n",
    "max_length = max([len(seq) for seq in sequences])\n",
    "X = pad_sequences(sequences, maxlen=max_length, padding='pre')"
   ]
  },
  {
   "cell_type": "code",
   "execution_count": 29,
   "id": "93122d37",
   "metadata": {},
   "outputs": [
    {
     "name": "stdout",
     "output_type": "stream",
     "text": [
      "WARNING:tensorflow:Model was constructed with shape (None, 223) for input KerasTensor(type_spec=TensorSpec(shape=(None, 223), dtype=tf.float32, name='embedding_76_input'), name='embedding_76_input', description=\"created by layer 'embedding_76_input'\"), but it was called on an input with incompatible shape (None, 192).\n",
      "[2 3 1 1 0 0 1 0 3 1 0 1 3 3 3 3 1 1 1 1 1 0 3 1 0 1 3 2 1 1 3 1 0 3 1 3 3\n",
      " 0 0 1 1 3 1 1 2 1 3 1 1 2 3 1 0 1 3 1 3 3 1 3 1 2 2 1 3 3 2 3 0 2 1 0 0 1\n",
      " 1 3 1 1 3 0 0 1 1 0 3 3 1 1 1 2 1 0 3 3 1 1 1 1 3 1 1 0 2 3 1 3 1 1 1 0 2\n",
      " 0 2 2 1 1 0 0 3 0 2 2 0 3 0 3 1 1 1 1 2 0 2 1 1 3 2 1 1 1 2 2 1 0 1 2 3 3\n",
      " 0 0 3 1 1 1 1 1 1 1 3 2 1 3 0 3 2 0 3 1 1 1 0 1 2 1 2 3 0 2 3 1 0 2 1 1 3\n",
      " 2 1 1 0 1 1 1 1 1 3 1 2 1 3 0 0 3 3 1 1 1 1 1 3 1 2 1 1 1 1 0 0 3 1 2 3 3\n",
      " 2 1 1 3 1 1 2 0 0 1 2 3 0 1 1 1 0 0 2 3 3 3 1 3 1 0 1 2 1 1 2 1 3 1 1 1 3\n",
      " 0 0 2 1 1 2 2 1 1 1 3 3 1 2 1 1 1 1 0 3 3 1 1 1 2 3 1 0 0 2 0 1 0 1 1 3 1\n",
      " 1 1 0 1 3 0 0 1 1 2 2 1 3 3 1 3 1 2 3 1 1 2 2 1 0 2 1 0 1 1 2 2 2 3 1 1 3\n",
      " 1 3 3 3 0 1 0 0 3 1 0 3 1 1 1 3 1 1 1 1 1 1 3 0 3 0 2 1 1 2 1 3 1 1 1 1 2\n",
      " 1 1 2 3 1 3 1 3 2 1 1 1 1 1 2 0 1 1 3 1 1 3 0 1 3 1 1 1 1 2]\n"
     ]
    }
   ],
   "source": [
    "from keras.models import load_model\n",
    "import numpy as np\n",
    "\n",
    "# 저장한 모델 로드\n",
    "loaded_model = load_model('best_lstm_model.h5')\n",
    "\n",
    "# 테스트 데이터에 대한 예측 수행\n",
    "y_pred_probs = loaded_model.predict(X)\n",
    "\n",
    "# 예측 확률을 클래스 인덱스로 변환\n",
    "y_pred_classes = np.argmax(y_pred_probs, axis=1)\n",
    "\n",
    "# 예측된 클래스 출력\n",
    "print(y_pred_classes)\n"
   ]
  },
  {
   "cell_type": "code",
   "execution_count": 33,
   "id": "01dcfd56",
   "metadata": {},
   "outputs": [
    {
     "name": "stdout",
     "output_type": "stream",
     "text": [
      "['직장 내 괴롭힘 대화' '협박 대화' '기타 괴롭힘 대화' '기타 괴롭힘 대화' '갈취 대화' '갈취 대화' '기타 괴롭힘 대화'\n",
      " '갈취 대화' '협박 대화' '기타 괴롭힘 대화' '갈취 대화' '기타 괴롭힘 대화' '협박 대화' '협박 대화' '협박 대화'\n",
      " '협박 대화' '기타 괴롭힘 대화' '기타 괴롭힘 대화' '기타 괴롭힘 대화' '기타 괴롭힘 대화' '기타 괴롭힘 대화'\n",
      " '갈취 대화' '협박 대화' '기타 괴롭힘 대화' '갈취 대화' '기타 괴롭힘 대화' '협박 대화' '직장 내 괴롭힘 대화'\n",
      " '기타 괴롭힘 대화' '기타 괴롭힘 대화' '협박 대화' '기타 괴롭힘 대화' '갈취 대화' '협박 대화' '기타 괴롭힘 대화'\n",
      " '협박 대화' '협박 대화' '갈취 대화' '갈취 대화' '기타 괴롭힘 대화' '기타 괴롭힘 대화' '협박 대화'\n",
      " '기타 괴롭힘 대화' '기타 괴롭힘 대화' '직장 내 괴롭힘 대화' '기타 괴롭힘 대화' '협박 대화' '기타 괴롭힘 대화'\n",
      " '기타 괴롭힘 대화' '직장 내 괴롭힘 대화' '협박 대화' '기타 괴롭힘 대화' '갈취 대화' '기타 괴롭힘 대화' '협박 대화'\n",
      " '기타 괴롭힘 대화' '협박 대화' '협박 대화' '기타 괴롭힘 대화' '협박 대화' '기타 괴롭힘 대화' '직장 내 괴롭힘 대화'\n",
      " '직장 내 괴롭힘 대화' '기타 괴롭힘 대화' '협박 대화' '협박 대화' '직장 내 괴롭힘 대화' '협박 대화' '갈취 대화'\n",
      " '직장 내 괴롭힘 대화' '기타 괴롭힘 대화' '갈취 대화' '갈취 대화' '기타 괴롭힘 대화' '기타 괴롭힘 대화' '협박 대화'\n",
      " '기타 괴롭힘 대화' '기타 괴롭힘 대화' '협박 대화' '갈취 대화' '갈취 대화' '기타 괴롭힘 대화' '기타 괴롭힘 대화'\n",
      " '갈취 대화' '협박 대화' '협박 대화' '기타 괴롭힘 대화' '기타 괴롭힘 대화' '기타 괴롭힘 대화' '직장 내 괴롭힘 대화'\n",
      " '기타 괴롭힘 대화' '갈취 대화' '협박 대화' '협박 대화' '기타 괴롭힘 대화' '기타 괴롭힘 대화' '기타 괴롭힘 대화'\n",
      " '기타 괴롭힘 대화' '협박 대화' '기타 괴롭힘 대화' '기타 괴롭힘 대화' '갈취 대화' '직장 내 괴롭힘 대화' '협박 대화'\n",
      " '기타 괴롭힘 대화' '협박 대화' '기타 괴롭힘 대화' '기타 괴롭힘 대화' '기타 괴롭힘 대화' '갈취 대화'\n",
      " '직장 내 괴롭힘 대화' '갈취 대화' '직장 내 괴롭힘 대화' '직장 내 괴롭힘 대화' '기타 괴롭힘 대화' '기타 괴롭힘 대화'\n",
      " '갈취 대화' '갈취 대화' '협박 대화' '갈취 대화' '직장 내 괴롭힘 대화' '직장 내 괴롭힘 대화' '갈취 대화'\n",
      " '협박 대화' '갈취 대화' '협박 대화' '기타 괴롭힘 대화' '기타 괴롭힘 대화' '기타 괴롭힘 대화' '기타 괴롭힘 대화'\n",
      " '직장 내 괴롭힘 대화' '갈취 대화' '직장 내 괴롭힘 대화' '기타 괴롭힘 대화' '기타 괴롭힘 대화' '협박 대화'\n",
      " '직장 내 괴롭힘 대화' '기타 괴롭힘 대화' '기타 괴롭힘 대화' '기타 괴롭힘 대화' '직장 내 괴롭힘 대화'\n",
      " '직장 내 괴롭힘 대화' '기타 괴롭힘 대화' '갈취 대화' '기타 괴롭힘 대화' '직장 내 괴롭힘 대화' '협박 대화'\n",
      " '협박 대화' '갈취 대화' '갈취 대화' '협박 대화' '기타 괴롭힘 대화' '기타 괴롭힘 대화' '기타 괴롭힘 대화'\n",
      " '기타 괴롭힘 대화' '기타 괴롭힘 대화' '기타 괴롭힘 대화' '기타 괴롭힘 대화' '협박 대화' '직장 내 괴롭힘 대화'\n",
      " '기타 괴롭힘 대화' '협박 대화' '갈취 대화' '협박 대화' '직장 내 괴롭힘 대화' '갈취 대화' '협박 대화'\n",
      " '기타 괴롭힘 대화' '기타 괴롭힘 대화' '기타 괴롭힘 대화' '갈취 대화' '기타 괴롭힘 대화' '직장 내 괴롭힘 대화'\n",
      " '기타 괴롭힘 대화' '직장 내 괴롭힘 대화' '협박 대화' '갈취 대화' '직장 내 괴롭힘 대화' '협박 대화'\n",
      " '기타 괴롭힘 대화' '갈취 대화' '직장 내 괴롭힘 대화' '기타 괴롭힘 대화' '기타 괴롭힘 대화' '협박 대화'\n",
      " '직장 내 괴롭힘 대화' '기타 괴롭힘 대화' '기타 괴롭힘 대화' '갈취 대화' '기타 괴롭힘 대화' '기타 괴롭힘 대화'\n",
      " '기타 괴롭힘 대화' '기타 괴롭힘 대화' '기타 괴롭힘 대화' '협박 대화' '기타 괴롭힘 대화' '직장 내 괴롭힘 대화'\n",
      " '기타 괴롭힘 대화' '협박 대화' '갈취 대화' '갈취 대화' '협박 대화' '협박 대화' '기타 괴롭힘 대화'\n",
      " '기타 괴롭힘 대화' '기타 괴롭힘 대화' '기타 괴롭힘 대화' '기타 괴롭힘 대화' '협박 대화' '기타 괴롭힘 대화'\n",
      " '직장 내 괴롭힘 대화' '기타 괴롭힘 대화' '기타 괴롭힘 대화' '기타 괴롭힘 대화' '기타 괴롭힘 대화' '갈취 대화'\n",
      " '갈취 대화' '협박 대화' '기타 괴롭힘 대화' '직장 내 괴롭힘 대화' '협박 대화' '협박 대화' '직장 내 괴롭힘 대화'\n",
      " '기타 괴롭힘 대화' '기타 괴롭힘 대화' '협박 대화' '기타 괴롭힘 대화' '기타 괴롭힘 대화' '직장 내 괴롭힘 대화'\n",
      " '갈취 대화' '갈취 대화' '기타 괴롭힘 대화' '직장 내 괴롭힘 대화' '협박 대화' '갈취 대화' '기타 괴롭힘 대화'\n",
      " '기타 괴롭힘 대화' '기타 괴롭힘 대화' '갈취 대화' '갈취 대화' '직장 내 괴롭힘 대화' '협박 대화' '협박 대화'\n",
      " '협박 대화' '기타 괴롭힘 대화' '협박 대화' '기타 괴롭힘 대화' '갈취 대화' '기타 괴롭힘 대화' '직장 내 괴롭힘 대화'\n",
      " '기타 괴롭힘 대화' '기타 괴롭힘 대화' '직장 내 괴롭힘 대화' '기타 괴롭힘 대화' '협박 대화' '기타 괴롭힘 대화'\n",
      " '기타 괴롭힘 대화' '기타 괴롭힘 대화' '협박 대화' '갈취 대화' '갈취 대화' '직장 내 괴롭힘 대화' '기타 괴롭힘 대화'\n",
      " '기타 괴롭힘 대화' '직장 내 괴롭힘 대화' '직장 내 괴롭힘 대화' '기타 괴롭힘 대화' '기타 괴롭힘 대화'\n",
      " '기타 괴롭힘 대화' '협박 대화' '협박 대화' '기타 괴롭힘 대화' '직장 내 괴롭힘 대화' '기타 괴롭힘 대화'\n",
      " '기타 괴롭힘 대화' '기타 괴롭힘 대화' '기타 괴롭힘 대화' '갈취 대화' '협박 대화' '협박 대화' '기타 괴롭힘 대화'\n",
      " '기타 괴롭힘 대화' '기타 괴롭힘 대화' '직장 내 괴롭힘 대화' '협박 대화' '기타 괴롭힘 대화' '갈취 대화' '갈취 대화'\n",
      " '직장 내 괴롭힘 대화' '갈취 대화' '기타 괴롭힘 대화' '갈취 대화' '기타 괴롭힘 대화' '기타 괴롭힘 대화' '협박 대화'\n",
      " '기타 괴롭힘 대화' '기타 괴롭힘 대화' '기타 괴롭힘 대화' '갈취 대화' '기타 괴롭힘 대화' '협박 대화' '갈취 대화'\n",
      " '갈취 대화' '기타 괴롭힘 대화' '기타 괴롭힘 대화' '직장 내 괴롭힘 대화' '직장 내 괴롭힘 대화' '기타 괴롭힘 대화'\n",
      " '협박 대화' '협박 대화' '기타 괴롭힘 대화' '협박 대화' '기타 괴롭힘 대화' '직장 내 괴롭힘 대화' '협박 대화'\n",
      " '기타 괴롭힘 대화' '기타 괴롭힘 대화' '직장 내 괴롭힘 대화' '직장 내 괴롭힘 대화' '기타 괴롭힘 대화' '갈취 대화'\n",
      " '직장 내 괴롭힘 대화' '기타 괴롭힘 대화' '갈취 대화' '기타 괴롭힘 대화' '기타 괴롭힘 대화' '직장 내 괴롭힘 대화'\n",
      " '직장 내 괴롭힘 대화' '직장 내 괴롭힘 대화' '협박 대화' '기타 괴롭힘 대화' '기타 괴롭힘 대화' '협박 대화'\n",
      " '기타 괴롭힘 대화' '협박 대화' '협박 대화' '협박 대화' '갈취 대화' '기타 괴롭힘 대화' '갈취 대화' '갈취 대화'\n",
      " '협박 대화' '기타 괴롭힘 대화' '갈취 대화' '협박 대화' '기타 괴롭힘 대화' '기타 괴롭힘 대화' '기타 괴롭힘 대화'\n",
      " '협박 대화' '기타 괴롭힘 대화' '기타 괴롭힘 대화' '기타 괴롭힘 대화' '기타 괴롭힘 대화' '기타 괴롭힘 대화'\n",
      " '기타 괴롭힘 대화' '협박 대화' '갈취 대화' '협박 대화' '갈취 대화' '직장 내 괴롭힘 대화' '기타 괴롭힘 대화'\n",
      " '기타 괴롭힘 대화' '직장 내 괴롭힘 대화' '기타 괴롭힘 대화' '협박 대화' '기타 괴롭힘 대화' '기타 괴롭힘 대화'\n",
      " '기타 괴롭힘 대화' '기타 괴롭힘 대화' '직장 내 괴롭힘 대화' '기타 괴롭힘 대화' '기타 괴롭힘 대화'\n",
      " '직장 내 괴롭힘 대화' '협박 대화' '기타 괴롭힘 대화' '협박 대화' '기타 괴롭힘 대화' '협박 대화'\n",
      " '직장 내 괴롭힘 대화' '기타 괴롭힘 대화' '기타 괴롭힘 대화' '기타 괴롭힘 대화' '기타 괴롭힘 대화' '기타 괴롭힘 대화'\n",
      " '직장 내 괴롭힘 대화' '갈취 대화' '기타 괴롭힘 대화' '기타 괴롭힘 대화' '협박 대화' '기타 괴롭힘 대화'\n",
      " '기타 괴롭힘 대화' '협박 대화' '갈취 대화' '기타 괴롭힘 대화' '협박 대화' '기타 괴롭힘 대화' '기타 괴롭힘 대화'\n",
      " '기타 괴롭힘 대화' '기타 괴롭힘 대화' '직장 내 괴롭힘 대화']\n"
     ]
    }
   ],
   "source": [
    "# 라벨 디코딩을 위한 역변환\n",
    "decoded_classes = label_encoder.inverse_transform(y_pred_classes)\n",
    "\n",
    "# 디코딩된 클래스 출력\n",
    "print(decoded_classes)\n"
   ]
  },
  {
   "cell_type": "code",
   "execution_count": 34,
   "id": "fa7c4fb1",
   "metadata": {},
   "outputs": [],
   "source": [
    "test['class'] = decoded_classes\n"
   ]
  },
  {
   "cell_type": "code",
   "execution_count": 35,
   "id": "9ed59bb0",
   "metadata": {},
   "outputs": [
    {
     "data": {
      "text/plain": [
       "<bound method NDFrame.head of                                                     text        class\n",
       "t_000  아가씨 담배한갑주소 네 4500원입니다 어 네 지갑어디갔지 에이 버스에서 잃어버렸나...  직장 내 괴롭힘 대화\n",
       "t_001  우리팀에서 다른팀으로 갈 사람 없나? 그럼 영지씨가 가는건 어때?  네? 제가요? ...        협박 대화\n",
       "t_002  너 오늘 그게 뭐야 네 제가 뭘 잘못했나요.? 제대로 좀 하지 네 똑바로 좀 하지 ...    기타 괴롭힘 대화\n",
       "t_004  아무튼 앞으로 니가 내 와이파이야. .응 와이파이 온. 켰어. 반말? 주인님이라고도...    기타 괴롭힘 대화\n",
       "t_005  그러니까 빨리 말해. 선생님 제발 살려주십시오.  비밀번호 틀릴 때마다 손톱 하나씩...        갈취 대화\n",
       "...                                                  ...          ...\n",
       "t_495  미나씨 휴가 결제 올리기 전에 저랑 상의하라고 말한거 기억해요? 네 합니다. 보고서...    기타 괴롭힘 대화\n",
       "t_496  교수님 제 논문에 제 이름이 없나요?  아 무슨 논문말이야?  지난 번 냈던 논문이...    기타 괴롭힘 대화\n",
       "t_497  야 너  네 저요? 그래 너 왜요 돈좀 줘봐  돈 없어요 돈이 왜 없어 지갑은 폼이...    기타 괴롭힘 대화\n",
       "t_498  야 너 빨리 안 뛰어와? 너 이 환자 제대로 봤어 안 봤어 어제 저녁부터 계속 보다...    기타 괴롭힘 대화\n",
       "t_499  엄마 저 그 돈 안해주시면 정말 큰일나요.  이유도 말하지 않고. 몇번째니 경민아....  직장 내 괴롭힘 대화\n",
       "\n",
       "[400 rows x 2 columns]>"
      ]
     },
     "execution_count": 35,
     "metadata": {},
     "output_type": "execute_result"
    }
   ],
   "source": [
    "test.head"
   ]
  },
  {
   "cell_type": "code",
   "execution_count": 36,
   "id": "b1352b1b",
   "metadata": {},
   "outputs": [
    {
     "name": "stdout",
     "output_type": "stream",
     "text": [
      "[2, 0, 3, 3, 1, 1, 3, 1, 0, 3, 1, 3, 0, 0, 0, 0, 3, 3, 3, 3, 3, 1, 0, 3, 1, 3, 0, 2, 3, 3, 0, 3, 1, 0, 3, 0, 0, 1, 1, 3, 3, 0, 3, 3, 2, 3, 0, 3, 3, 2, 0, 3, 1, 3, 0, 3, 0, 0, 3, 0, 3, 2, 2, 3, 0, 0, 2, 0, 1, 2, 3, 1, 1, 3, 3, 0, 3, 3, 0, 1, 1, 3, 3, 1, 0, 0, 3, 3, 3, 2, 3, 1, 0, 0, 3, 3, 3, 3, 0, 3, 3, 1, 2, 0, 3, 0, 3, 3, 3, 1, 2, 1, 2, 2, 3, 3, 1, 1, 0, 1, 2, 2, 1, 0, 1, 0, 3, 3, 3, 3, 2, 1, 2, 3, 3, 0, 2, 3, 3, 3, 2, 2, 3, 1, 3, 2, 0, 0, 1, 1, 0, 3, 3, 3, 3, 3, 3, 3, 0, 2, 3, 0, 1, 0, 2, 1, 0, 3, 3, 3, 1, 3, 2, 3, 2, 0, 1, 2, 0, 3, 1, 2, 3, 3, 0, 2, 3, 3, 1, 3, 3, 3, 3, 3, 0, 3, 2, 3, 0, 1, 1, 0, 0, 3, 3, 3, 3, 3, 0, 3, 2, 3, 3, 3, 3, 1, 1, 0, 3, 2, 0, 0, 2, 3, 3, 0, 3, 3, 2, 1, 1, 3, 2, 0, 1, 3, 3, 3, 1, 1, 2, 0, 0, 0, 3, 0, 3, 1, 3, 2, 3, 3, 2, 3, 0, 3, 3, 3, 0, 1, 1, 2, 3, 3, 2, 2, 3, 3, 3, 0, 0, 3, 2, 3, 3, 3, 3, 1, 0, 0, 3, 3, 3, 2, 0, 3, 1, 1, 2, 1, 3, 1, 3, 3, 0, 3, 3, 3, 1, 3, 0, 1, 1, 3, 3, 2, 2, 3, 0, 0, 3, 0, 3, 2, 0, 3, 3, 2, 2, 3, 1, 2, 3, 1, 3, 3, 2, 2, 2, 0, 3, 3, 0, 3, 0, 0, 0, 1, 3, 1, 1, 0, 3, 1, 0, 3, 3, 3, 0, 3, 3, 3, 3, 3, 3, 0, 1, 0, 1, 2, 3, 3, 2, 3, 0, 3, 3, 3, 3, 2, 3, 3, 2, 0, 3, 0, 3, 0, 2, 3, 3, 3, 3, 3, 2, 1, 3, 3, 0, 3, 3, 0, 1, 3, 0, 3, 3, 3, 3, 2]\n"
     ]
    }
   ],
   "source": [
    "# 디코딩된 클래스를 새로운 인코딩 값으로 매핑하는 딕셔너리 생성\n",
    "new_encoding_dict = {\n",
    "    '협박 대화': 0,\n",
    "    '갈취 대화': 1,\n",
    "    '직장 내 괴롭힘 대화': 2,\n",
    "    '기타 괴롭힘 대화': 3,\n",
    "}\n",
    "\n",
    "# 디코딩된 클래스를 새로운 인코딩 값으로 변환\n",
    "new_encoded_classes = [new_encoding_dict[decoded] for decoded in decoded_classes]\n",
    "\n",
    "# 변환된 새로운 인코딩 값 출력\n",
    "print(new_encoded_classes)\n"
   ]
  },
  {
   "cell_type": "code",
   "execution_count": 37,
   "id": "63bf5ecb",
   "metadata": {},
   "outputs": [],
   "source": [
    "test['class'] = new_encoded_classes"
   ]
  },
  {
   "cell_type": "code",
   "execution_count": 38,
   "id": "33f4adc8",
   "metadata": {},
   "outputs": [
    {
     "data": {
      "text/html": [
       "<div>\n",
       "<style scoped>\n",
       "    .dataframe tbody tr th:only-of-type {\n",
       "        vertical-align: middle;\n",
       "    }\n",
       "\n",
       "    .dataframe tbody tr th {\n",
       "        vertical-align: top;\n",
       "    }\n",
       "\n",
       "    .dataframe thead th {\n",
       "        text-align: right;\n",
       "    }\n",
       "</style>\n",
       "<table border=\"1\" class=\"dataframe\">\n",
       "  <thead>\n",
       "    <tr style=\"text-align: right;\">\n",
       "      <th></th>\n",
       "      <th>text</th>\n",
       "      <th>class</th>\n",
       "    </tr>\n",
       "  </thead>\n",
       "  <tbody>\n",
       "    <tr>\n",
       "      <th>t_000</th>\n",
       "      <td>아가씨 담배한갑주소 네 4500원입니다 어 네 지갑어디갔지 에이 버스에서 잃어버렸나...</td>\n",
       "      <td>2</td>\n",
       "    </tr>\n",
       "    <tr>\n",
       "      <th>t_001</th>\n",
       "      <td>우리팀에서 다른팀으로 갈 사람 없나? 그럼 영지씨가 가는건 어때?  네? 제가요? ...</td>\n",
       "      <td>0</td>\n",
       "    </tr>\n",
       "    <tr>\n",
       "      <th>t_002</th>\n",
       "      <td>너 오늘 그게 뭐야 네 제가 뭘 잘못했나요.? 제대로 좀 하지 네 똑바로 좀 하지 ...</td>\n",
       "      <td>3</td>\n",
       "    </tr>\n",
       "    <tr>\n",
       "      <th>t_004</th>\n",
       "      <td>아무튼 앞으로 니가 내 와이파이야. .응 와이파이 온. 켰어. 반말? 주인님이라고도...</td>\n",
       "      <td>3</td>\n",
       "    </tr>\n",
       "    <tr>\n",
       "      <th>t_005</th>\n",
       "      <td>그러니까 빨리 말해. 선생님 제발 살려주십시오.  비밀번호 틀릴 때마다 손톱 하나씩...</td>\n",
       "      <td>1</td>\n",
       "    </tr>\n",
       "    <tr>\n",
       "      <th>...</th>\n",
       "      <td>...</td>\n",
       "      <td>...</td>\n",
       "    </tr>\n",
       "    <tr>\n",
       "      <th>t_495</th>\n",
       "      <td>미나씨 휴가 결제 올리기 전에 저랑 상의하라고 말한거 기억해요? 네 합니다. 보고서...</td>\n",
       "      <td>3</td>\n",
       "    </tr>\n",
       "    <tr>\n",
       "      <th>t_496</th>\n",
       "      <td>교수님 제 논문에 제 이름이 없나요?  아 무슨 논문말이야?  지난 번 냈던 논문이...</td>\n",
       "      <td>3</td>\n",
       "    </tr>\n",
       "    <tr>\n",
       "      <th>t_497</th>\n",
       "      <td>야 너  네 저요? 그래 너 왜요 돈좀 줘봐  돈 없어요 돈이 왜 없어 지갑은 폼이...</td>\n",
       "      <td>3</td>\n",
       "    </tr>\n",
       "    <tr>\n",
       "      <th>t_498</th>\n",
       "      <td>야 너 빨리 안 뛰어와? 너 이 환자 제대로 봤어 안 봤어 어제 저녁부터 계속 보다...</td>\n",
       "      <td>3</td>\n",
       "    </tr>\n",
       "    <tr>\n",
       "      <th>t_499</th>\n",
       "      <td>엄마 저 그 돈 안해주시면 정말 큰일나요.  이유도 말하지 않고. 몇번째니 경민아....</td>\n",
       "      <td>2</td>\n",
       "    </tr>\n",
       "  </tbody>\n",
       "</table>\n",
       "<p>400 rows × 2 columns</p>\n",
       "</div>"
      ],
      "text/plain": [
       "                                                    text  class\n",
       "t_000  아가씨 담배한갑주소 네 4500원입니다 어 네 지갑어디갔지 에이 버스에서 잃어버렸나...      2\n",
       "t_001  우리팀에서 다른팀으로 갈 사람 없나? 그럼 영지씨가 가는건 어때?  네? 제가요? ...      0\n",
       "t_002  너 오늘 그게 뭐야 네 제가 뭘 잘못했나요.? 제대로 좀 하지 네 똑바로 좀 하지 ...      3\n",
       "t_004  아무튼 앞으로 니가 내 와이파이야. .응 와이파이 온. 켰어. 반말? 주인님이라고도...      3\n",
       "t_005  그러니까 빨리 말해. 선생님 제발 살려주십시오.  비밀번호 틀릴 때마다 손톱 하나씩...      1\n",
       "...                                                  ...    ...\n",
       "t_495  미나씨 휴가 결제 올리기 전에 저랑 상의하라고 말한거 기억해요? 네 합니다. 보고서...      3\n",
       "t_496  교수님 제 논문에 제 이름이 없나요?  아 무슨 논문말이야?  지난 번 냈던 논문이...      3\n",
       "t_497  야 너  네 저요? 그래 너 왜요 돈좀 줘봐  돈 없어요 돈이 왜 없어 지갑은 폼이...      3\n",
       "t_498  야 너 빨리 안 뛰어와? 너 이 환자 제대로 봤어 안 봤어 어제 저녁부터 계속 보다...      3\n",
       "t_499  엄마 저 그 돈 안해주시면 정말 큰일나요.  이유도 말하지 않고. 몇번째니 경민아....      2\n",
       "\n",
       "[400 rows x 2 columns]"
      ]
     },
     "execution_count": 38,
     "metadata": {},
     "output_type": "execute_result"
    }
   ],
   "source": [
    "test"
   ]
  },
  {
   "cell_type": "code",
   "execution_count": 39,
   "id": "41e9846f",
   "metadata": {
    "scrolled": true
   },
   "outputs": [
    {
     "data": {
      "text/html": [
       "<div>\n",
       "<style scoped>\n",
       "    .dataframe tbody tr th:only-of-type {\n",
       "        vertical-align: middle;\n",
       "    }\n",
       "\n",
       "    .dataframe tbody tr th {\n",
       "        vertical-align: top;\n",
       "    }\n",
       "\n",
       "    .dataframe thead th {\n",
       "        text-align: right;\n",
       "    }\n",
       "</style>\n",
       "<table border=\"1\" class=\"dataframe\">\n",
       "  <thead>\n",
       "    <tr style=\"text-align: right;\">\n",
       "      <th></th>\n",
       "      <th>class</th>\n",
       "    </tr>\n",
       "  </thead>\n",
       "  <tbody>\n",
       "    <tr>\n",
       "      <th>t_000</th>\n",
       "      <td>2</td>\n",
       "    </tr>\n",
       "    <tr>\n",
       "      <th>t_001</th>\n",
       "      <td>0</td>\n",
       "    </tr>\n",
       "    <tr>\n",
       "      <th>t_002</th>\n",
       "      <td>3</td>\n",
       "    </tr>\n",
       "    <tr>\n",
       "      <th>t_004</th>\n",
       "      <td>3</td>\n",
       "    </tr>\n",
       "    <tr>\n",
       "      <th>t_005</th>\n",
       "      <td>1</td>\n",
       "    </tr>\n",
       "    <tr>\n",
       "      <th>...</th>\n",
       "      <td>...</td>\n",
       "    </tr>\n",
       "    <tr>\n",
       "      <th>t_495</th>\n",
       "      <td>3</td>\n",
       "    </tr>\n",
       "    <tr>\n",
       "      <th>t_496</th>\n",
       "      <td>3</td>\n",
       "    </tr>\n",
       "    <tr>\n",
       "      <th>t_497</th>\n",
       "      <td>3</td>\n",
       "    </tr>\n",
       "    <tr>\n",
       "      <th>t_498</th>\n",
       "      <td>3</td>\n",
       "    </tr>\n",
       "    <tr>\n",
       "      <th>t_499</th>\n",
       "      <td>2</td>\n",
       "    </tr>\n",
       "  </tbody>\n",
       "</table>\n",
       "<p>400 rows × 1 columns</p>\n",
       "</div>"
      ],
      "text/plain": [
       "       class\n",
       "t_000      2\n",
       "t_001      0\n",
       "t_002      3\n",
       "t_004      3\n",
       "t_005      1\n",
       "...      ...\n",
       "t_495      3\n",
       "t_496      3\n",
       "t_497      3\n",
       "t_498      3\n",
       "t_499      2\n",
       "\n",
       "[400 rows x 1 columns]"
      ]
     },
     "execution_count": 39,
     "metadata": {},
     "output_type": "execute_result"
    }
   ],
   "source": [
    "submission = test[['class']]\n",
    "submission"
   ]
  },
  {
   "cell_type": "code",
   "execution_count": 40,
   "id": "35fb9654",
   "metadata": {},
   "outputs": [],
   "source": [
    "submission.to_csv('try1.csv')"
   ]
  },
  {
   "cell_type": "code",
   "execution_count": 41,
   "id": "34535bad",
   "metadata": {},
   "outputs": [
    {
     "data": {
      "text/html": [
       "<div>\n",
       "<style scoped>\n",
       "    .dataframe tbody tr th:only-of-type {\n",
       "        vertical-align: middle;\n",
       "    }\n",
       "\n",
       "    .dataframe tbody tr th {\n",
       "        vertical-align: top;\n",
       "    }\n",
       "\n",
       "    .dataframe thead th {\n",
       "        text-align: right;\n",
       "    }\n",
       "</style>\n",
       "<table border=\"1\" class=\"dataframe\">\n",
       "  <thead>\n",
       "    <tr style=\"text-align: right;\">\n",
       "      <th></th>\n",
       "      <th>text</th>\n",
       "      <th>class</th>\n",
       "    </tr>\n",
       "  </thead>\n",
       "  <tbody>\n",
       "    <tr>\n",
       "      <th>t_000</th>\n",
       "      <td>아가씨 담배한갑주소 네 4500원입니다 어 네 지갑어디갔지 에이 버스에서 잃어버렸나...</td>\n",
       "      <td>0</td>\n",
       "    </tr>\n",
       "    <tr>\n",
       "      <th>t_001</th>\n",
       "      <td>우리팀에서 다른팀으로 갈 사람 없나? 그럼 영지씨가 가는건 어때?  네? 제가요? ...</td>\n",
       "      <td>0</td>\n",
       "    </tr>\n",
       "    <tr>\n",
       "      <th>t_002</th>\n",
       "      <td>너 오늘 그게 뭐야 네 제가 뭘 잘못했나요.? 제대로 좀 하지 네 똑바로 좀 하지 ...</td>\n",
       "      <td>0</td>\n",
       "    </tr>\n",
       "    <tr>\n",
       "      <th>t_004</th>\n",
       "      <td>아무튼 앞으로 니가 내 와이파이야. .응 와이파이 온. 켰어. 반말? 주인님이라고도...</td>\n",
       "      <td>0</td>\n",
       "    </tr>\n",
       "    <tr>\n",
       "      <th>t_005</th>\n",
       "      <td>그러니까 빨리 말해. 선생님 제발 살려주십시오.  비밀번호 틀릴 때마다 손톱 하나씩...</td>\n",
       "      <td>0</td>\n",
       "    </tr>\n",
       "    <tr>\n",
       "      <th>...</th>\n",
       "      <td>...</td>\n",
       "      <td>...</td>\n",
       "    </tr>\n",
       "    <tr>\n",
       "      <th>t_495</th>\n",
       "      <td>미나씨 휴가 결제 올리기 전에 저랑 상의하라고 말한거 기억해요? 네 합니다. 보고서...</td>\n",
       "      <td>0</td>\n",
       "    </tr>\n",
       "    <tr>\n",
       "      <th>t_496</th>\n",
       "      <td>교수님 제 논문에 제 이름이 없나요?  아 무슨 논문말이야?  지난 번 냈던 논문이...</td>\n",
       "      <td>0</td>\n",
       "    </tr>\n",
       "    <tr>\n",
       "      <th>t_497</th>\n",
       "      <td>야 너  네 저요? 그래 너 왜요 돈좀 줘봐  돈 없어요 돈이 왜 없어 지갑은 폼이...</td>\n",
       "      <td>0</td>\n",
       "    </tr>\n",
       "    <tr>\n",
       "      <th>t_498</th>\n",
       "      <td>야 너 빨리 안 뛰어와? 너 이 환자 제대로 봤어 안 봤어 어제 저녁부터 계속 보다...</td>\n",
       "      <td>0</td>\n",
       "    </tr>\n",
       "    <tr>\n",
       "      <th>t_499</th>\n",
       "      <td>엄마 저 그 돈 안해주시면 정말 큰일나요.  이유도 말하지 않고. 몇번째니 경민아....</td>\n",
       "      <td>0</td>\n",
       "    </tr>\n",
       "  </tbody>\n",
       "</table>\n",
       "<p>400 rows × 2 columns</p>\n",
       "</div>"
      ],
      "text/plain": [
       "                                                    text  class\n",
       "t_000  아가씨 담배한갑주소 네 4500원입니다 어 네 지갑어디갔지 에이 버스에서 잃어버렸나...      0\n",
       "t_001  우리팀에서 다른팀으로 갈 사람 없나? 그럼 영지씨가 가는건 어때?  네? 제가요? ...      0\n",
       "t_002  너 오늘 그게 뭐야 네 제가 뭘 잘못했나요.? 제대로 좀 하지 네 똑바로 좀 하지 ...      0\n",
       "t_004  아무튼 앞으로 니가 내 와이파이야. .응 와이파이 온. 켰어. 반말? 주인님이라고도...      0\n",
       "t_005  그러니까 빨리 말해. 선생님 제발 살려주십시오.  비밀번호 틀릴 때마다 손톱 하나씩...      0\n",
       "...                                                  ...    ...\n",
       "t_495  미나씨 휴가 결제 올리기 전에 저랑 상의하라고 말한거 기억해요? 네 합니다. 보고서...      0\n",
       "t_496  교수님 제 논문에 제 이름이 없나요?  아 무슨 논문말이야?  지난 번 냈던 논문이...      0\n",
       "t_497  야 너  네 저요? 그래 너 왜요 돈좀 줘봐  돈 없어요 돈이 왜 없어 지갑은 폼이...      0\n",
       "t_498  야 너 빨리 안 뛰어와? 너 이 환자 제대로 봤어 안 봤어 어제 저녁부터 계속 보다...      0\n",
       "t_499  엄마 저 그 돈 안해주시면 정말 큰일나요.  이유도 말하지 않고. 몇번째니 경민아....      0\n",
       "\n",
       "[400 rows x 2 columns]"
      ]
     },
     "execution_count": 41,
     "metadata": {},
     "output_type": "execute_result"
    }
   ],
   "source": [
    "test['class'] = 0\n",
    "test"
   ]
  },
  {
   "cell_type": "code",
   "execution_count": 42,
   "id": "2ad580cf",
   "metadata": {},
   "outputs": [],
   "source": [
    "submission = test[['class']]\n"
   ]
  },
  {
   "cell_type": "code",
   "execution_count": 43,
   "id": "ecc9e64f",
   "metadata": {},
   "outputs": [],
   "source": [
    "submission.to_csv('try2.csv')"
   ]
  },
  {
   "cell_type": "code",
   "execution_count": null,
   "id": "33acf8c8",
   "metadata": {},
   "outputs": [],
   "source": []
  }
 ],
 "metadata": {
  "kernelspec": {
   "display_name": "Python 3 (ipykernel)",
   "language": "python",
   "name": "python3"
  },
  "language_info": {
   "codemirror_mode": {
    "name": "ipython",
    "version": 3
   },
   "file_extension": ".py",
   "mimetype": "text/x-python",
   "name": "python",
   "nbconvert_exporter": "python",
   "pygments_lexer": "ipython3",
   "version": "3.9.7"
  }
 },
 "nbformat": 4,
 "nbformat_minor": 5
}
