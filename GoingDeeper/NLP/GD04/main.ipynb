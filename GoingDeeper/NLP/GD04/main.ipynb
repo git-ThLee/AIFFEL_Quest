{
 "cells": [
  {
   "cell_type": "markdown",
   "id": "345762a3",
   "metadata": {},
   "source": [
    "# Step 1. 데이터 다운로드\n",
    "\n",
    "---------------------------------------\n",
    "\n",
    "아래 링크에서 `korean-english-park.train.tar.gz`를 다운로드받아 한영 병렬 데이터를 확보합니다.\n",
    "\n",
    "* [jungyeul/korean-parallel-corpora](https://github.com/jungyeul/korean-parallel-corpora/tree/master/korean-english-news-v1)"
   ]
  },
  {
   "cell_type": "code",
   "execution_count": 1,
   "id": "ce7ba7d0",
   "metadata": {},
   "outputs": [],
   "source": [
    "from requests import get\n",
    "import os\n",
    "\n",
    "os.mkdir('./data')\n",
    "\n",
    "def download(url, file_name):\n",
    "    with open(file_name, \"wb\") as file:   \n",
    "        response = get(url)\n",
    "        file.write(response.content)\n",
    "        \n",
    "url = 'https://github.com/jungyeul/korean-parallel-corpora/raw/master/korean-english-news-v1'\n",
    "file_name = 'korean-english-park.train.tar.gz'\n",
    "\n",
    "download(f'{url}/{file_name}', f'./data/{file_name}')"
   ]
  },
  {
   "cell_type": "code",
   "execution_count": 2,
   "id": "b86d75ff",
   "metadata": {},
   "outputs": [
    {
     "data": {
      "text/plain": [
       "['korean-english-park.train.tar.gz']"
      ]
     },
     "execution_count": 2,
     "metadata": {},
     "output_type": "execute_result"
    }
   ],
   "source": [
    "os.listdir('./data')"
   ]
  },
  {
   "cell_type": "code",
   "execution_count": 3,
   "id": "9b48811b",
   "metadata": {},
   "outputs": [],
   "source": [
    "import tarfile\n",
    "\n",
    "with tarfile.open(f'./data/{file_name}') as tar:\n",
    "    tar.extractall(\"./data\")"
   ]
  },
  {
   "cell_type": "code",
   "execution_count": 4,
   "id": "ab7b34ca",
   "metadata": {},
   "outputs": [
    {
     "data": {
      "text/plain": [
       "['korean-english-park.train.ko',\n",
       " 'korean-english-park.train.en',\n",
       " 'korean-english-park.train.tar.gz']"
      ]
     },
     "execution_count": 4,
     "metadata": {},
     "output_type": "execute_result"
    }
   ],
   "source": [
    "os.listdir('./data')"
   ]
  },
  {
   "cell_type": "markdown",
   "id": "c148eeb7",
   "metadata": {},
   "source": [
    "# Step 2. 데이터 정제\n",
    "\n",
    "---------------------------------------\n",
    "\n",
    "1. `set` 데이터형이 **중복을 허용하지 않는다는 것을 활용**해 중복된 데이터를 제거하도록 합니다. 데이터의 **병렬 쌍이 흐트러지지 않게 주의**하세요! 중복을 제거한 데이터를 `cleaned_corpus` 에 저장합니다."
   ]
  },
  {
   "cell_type": "code",
   "execution_count": 5,
   "id": "172fb393",
   "metadata": {},
   "outputs": [],
   "source": [
    "def load_file(file_name):\n",
    "    with open(f'./data/{file_name}', \"r\") as f:\n",
    "        result = f.read().splitlines()\n",
    "\n",
    "    return result"
   ]
  },
  {
   "cell_type": "code",
   "execution_count": 6,
   "id": "a45add0b",
   "metadata": {},
   "outputs": [
    {
     "data": {
      "text/plain": [
       "(94123, 94123)"
      ]
     },
     "execution_count": 6,
     "metadata": {},
     "output_type": "execute_result"
    }
   ],
   "source": [
    "kor_raw = load_file('korean-english-park.train.ko')\n",
    "en_raw = load_file('korean-english-park.train.en')\n",
    "\n",
    "len(kor_raw), len(en_raw)"
   ]
  },
  {
   "cell_type": "code",
   "execution_count": 7,
   "id": "4cfd1cf5",
   "metadata": {},
   "outputs": [],
   "source": [
    "dataset = zip(kor_raw, en_raw)\n",
    "\n",
    "cleaned_corpus = set(dataset)"
   ]
  },
  {
   "cell_type": "markdown",
   "id": "23298412",
   "metadata": {},
   "source": [
    "2. 앞서 정의한 `preprocessing()`함수는 한글에서는 동작하지 않습니다. **한글에 적용할 수 있는 정규식**을 추가하여 함수를 재정의하세요!"
   ]
  },
  {
   "cell_type": "code",
   "execution_count": 8,
   "id": "c13c3b64",
   "metadata": {},
   "outputs": [],
   "source": [
    "import re\n",
    "\n",
    "def preprocess_sentence(sentence, s_token=False, e_token=False):\n",
    "    \n",
    "    sentence = sentence.lower().strip()\n",
    "    sentence = re.sub(r\"([?.!,])\", r\" \\1 \", sentence)\n",
    "    sentence = re.sub(r'[\" \"]+', \" \", sentence)\n",
    "    sentence = re.sub(r\"[^a-zA-Z?.!가-힣ㄱ-ㅎㅏ-ㅣ]+\", \" \", sentence)\n",
    "    sentence = sentence.strip()\n",
    "\n",
    "    if s_token:\n",
    "        sentence = '<start> ' + sentence\n",
    "\n",
    "    if e_token:\n",
    "        sentence += ' <end>'\n",
    "    \n",
    "    return sentence"
   ]
  },
  {
   "cell_type": "markdown",
   "id": "57487afe",
   "metadata": {},
   "source": [
    "3. 타겟 언어인 영문엔 `<start>`토큰과 `<end>`토큰을 추가하고 `split()`함수를 이용하여 토큰화합니다. \n",
    "\n",
    "모든 데이터를 사용할 경우 학습에 굉장히 오랜 시간이 걸립니다. `cleaned_corpus`로부터 토큰의 길이가 40 이하인 데이터를 선별하여 `eng_corpus`와 `kor_corpus`를 각각 구축하세요."
   ]
  },
  {
   "cell_type": "code",
   "execution_count": 9,
   "id": "559c88cc",
   "metadata": {},
   "outputs": [],
   "source": [
    "# def set_preprocess(it):\n",
    "#     return (\n",
    "#         preprocess_sentence(it[0]),\n",
    "#         preprocess_sentence(it[1], s_token=True, e_token=True)\n",
    "#     )\n",
    "\n",
    "# preprocessed_set = map(set_preprocess, list(cleaned_corpus))\n",
    "# filted_set = filter(lambda it: len(it[0]) <= 40, preprocessed_set)\n",
    "\n",
    "kor_corpus = []\n",
    "eng_corpus = []\n",
    "\n",
    "for kor, eng in cleaned_corpus:\n",
    "    _kor = preprocess_sentence(kor)\n",
    "    \n",
    "    if len(_kor) <= 40 and len(_kor) >= 5:\n",
    "        kor_corpus.append(_kor)\n",
    "        \n",
    "        _eng = preprocess_sentence(eng, s_token=True, e_token=True)\n",
    "        eng_corpus.append(_eng)"
   ]
  },
  {
   "cell_type": "code",
   "execution_count": 10,
   "id": "4ee58136",
   "metadata": {},
   "outputs": [
    {
     "data": {
      "text/plain": [
       "(16345, 16345)"
      ]
     },
     "execution_count": 10,
     "metadata": {},
     "output_type": "execute_result"
    }
   ],
   "source": [
    "len(kor_corpus), len(eng_corpus)"
   ]
  },
  {
   "cell_type": "code",
   "execution_count": 11,
   "id": "1950ed90",
   "metadata": {},
   "outputs": [
    {
     "name": "stdout",
     "output_type": "stream",
     "text": [
      "Korean: 호킨스는 지난 여름 미군에 자원입대했지만 거절됐다 .\n",
      "English: <start> this past summer hawkins tried to enlist in the u . s . army but was turned down a source familiar with the situation told cnn . <end>\n"
     ]
    }
   ],
   "source": [
    "print(\"Korean:\", kor_corpus[50])   \n",
    "print(\"English:\", eng_corpus[50])  "
   ]
  },
  {
   "cell_type": "code",
   "execution_count": 12,
   "id": "86da89bb",
   "metadata": {},
   "outputs": [
    {
     "name": "stdout",
     "output_type": "stream",
     "text": [
      "Korean: 주한 미군 분의 로 감축 예정 .\n",
      "English: <start> the u . s . troops in korea will cut the number by one third . <end>\n"
     ]
    }
   ],
   "source": [
    "print(\"Korean:\", kor_corpus[100])   \n",
    "print(\"English:\", eng_corpus[100])  "
   ]
  },
  {
   "cell_type": "code",
   "execution_count": 13,
   "id": "62107ab5",
   "metadata": {},
   "outputs": [
    {
     "name": "stdout",
     "output_type": "stream",
     "text": [
      "Korean: 경기침체는 몇몇 구두쇠들을 새로운 극단주의에 이르도록 만들고 있습니다 .\n",
      "English: <start> the recession is leading some people to take the art of being a tightwad to new extremes . <end>\n"
     ]
    }
   ],
   "source": [
    "print(\"Korean:\", kor_corpus[150])   \n",
    "print(\"English:\", eng_corpus[150])  "
   ]
  },
  {
   "cell_type": "code",
   "execution_count": 14,
   "id": "d3d5d4c9",
   "metadata": {},
   "outputs": [
    {
     "name": "stdout",
     "output_type": "stream",
     "text": [
      "Korean: 워싱턴에서 브라이언 토마스 기자입니다 .\n",
      "English: <start> brian thomas washington . <end>\n"
     ]
    }
   ],
   "source": [
    "print(\"Korean:\", kor_corpus[200])   \n",
    "print(\"English:\", eng_corpus[200])  "
   ]
  },
  {
   "cell_type": "markdown",
   "id": "81a7b33c",
   "metadata": {},
   "source": [
    "# Step 3. 데이터 토큰화\n",
    "\n",
    "---------------------------------------\n",
    "\n",
    "앞서 정의한 `tokenize()`함수를 사용해 데이터를 텐서로 변환하고 각각의 `tokenizer`를 얻으세요! 단어의 수는 실험을 통해 적당한 값을 맞춰주도록 합니다! (최소 10,000 이상!)\n",
    "\n",
    "❗ 주의: 난이도에 비해 데이터가 많지 않아 훈련 데이터와 검증 데이터를 따로 나누지는 않습니다.\n",
    "\n",
    "* 한글 토큰화는 KoNLPy의 `mecab`클래스를 사용합니다."
   ]
  },
  {
   "cell_type": "code",
   "execution_count": 15,
   "id": "83723b22",
   "metadata": {},
   "outputs": [],
   "source": [
    "from konlpy.tag import Mecab\n",
    "import tensorflow as tf\n",
    "\n",
    "def tokenize(corpus, is_kor=True):\n",
    "    \n",
    "    tokenizer = tf.keras.preprocessing.text.Tokenizer(filters='')\n",
    "    \n",
    "    if is_kor:\n",
    "        mecab = Mecab()\n",
    "        corpus = [' '.join(mecab.morphs(sen)) for sen in corpus]\n",
    "        \n",
    "    tokenizer.fit_on_texts(corpus)\n",
    "    tensor = tokenizer.texts_to_sequences(corpus)\n",
    "    \n",
    "    if is_kor:\n",
    "        tensor = [list(reversed(sen)) for sen in tensor]\n",
    "        tensor = tf.keras.preprocessing.sequence.pad_sequences(tensor, padding='pre', maxlen=40)\n",
    "    else:\n",
    "        tensor = tf.keras.preprocessing.sequence.pad_sequences(tensor, padding='post', maxlen=40)\n",
    "        \n",
    "    return tensor, tokenizer"
   ]
  },
  {
   "cell_type": "code",
   "execution_count": 16,
   "id": "b560d94c",
   "metadata": {},
   "outputs": [
    {
     "name": "stdout",
     "output_type": "stream",
     "text": [
      "Korean Vocab Size: 17584\n",
      "English Vocab Size: 16941\n"
     ]
    }
   ],
   "source": [
    "kor_tensor, kor_tokenizer = tokenize(kor_corpus, is_kor=True)\n",
    "eng_tensor, eng_tokenizer = tokenize(eng_corpus, is_kor=False)\n",
    "\n",
    "print(f'Korean Vocab Size: {len(kor_tokenizer.index_word)}')\n",
    "print(f'English Vocab Size: {len(eng_tokenizer.index_word)}')"
   ]
  },
  {
   "cell_type": "code",
   "execution_count": 17,
   "id": "7f23581b",
   "metadata": {},
   "outputs": [
    {
     "data": {
      "text/plain": [
       "(13076, 3269, 13076, 3269)"
      ]
     },
     "execution_count": 17,
     "metadata": {},
     "output_type": "execute_result"
    }
   ],
   "source": [
    "from sklearn.model_selection import train_test_split\n",
    "\n",
    "kor_train, kor_test, eng_train, eng_test = train_test_split(kor_tensor, eng_tensor, test_size=0.2)\n",
    "\n",
    "len(kor_train), len(kor_test), len(eng_train), len(eng_test)"
   ]
  },
  {
   "cell_type": "markdown",
   "id": "a67a14b1",
   "metadata": {},
   "source": [
    "# Step 4. 모델 설계\n",
    "\n",
    "---------------------------------------\n",
    "\n",
    "한국어를 영어로 잘 번역해 줄 멋진 **Attention 기반 Seq2seq 모델을 설계**하세요! 앞서 만든 모델에 `Dropout`모듈을 추가하면 성능이 더 좋아집니다! `Embedding Size`와 `Hidden Size`는 실험을 통해 적당한 값을 맞춰 주도록 합니다!"
   ]
  },
  {
   "cell_type": "code",
   "execution_count": 18,
   "id": "a0534041",
   "metadata": {},
   "outputs": [],
   "source": [
    "class BahdanauAttention(tf.keras.layers.Layer):\n",
    "    def __init__(self, units):\n",
    "        super(BahdanauAttention, self).__init__() \n",
    "        self.w_dec = tf.keras.layers.Dense(units)\n",
    "        self.w_enc = tf.keras.layers.Dense(units)\n",
    "        self.w_com = tf.keras.layers.Dense(1)\n",
    "    \n",
    "    def call(self, h_enc, h_dec):\n",
    "        # h_enc shape: [batch x length x units]\n",
    "        # h_dec shape: [batch x units]\n",
    "\n",
    "        h_enc = self.w_enc(h_enc)\n",
    "        h_dec = tf.expand_dims(h_dec, 1)\n",
    "        h_dec = self.w_dec(h_dec)\n",
    "\n",
    "        score = self.w_com(tf.nn.tanh(h_dec + h_enc))\n",
    "        \n",
    "        attn = tf.nn.softmax(score, axis=1)\n",
    "\n",
    "        context_vec = attn * h_enc\n",
    "        context_vec = tf.reduce_sum(context_vec, axis=1)\n",
    "\n",
    "        return context_vec, attn"
   ]
  },
  {
   "cell_type": "code",
   "execution_count": 19,
   "id": "d492183a",
   "metadata": {},
   "outputs": [],
   "source": [
    "class Encoder(tf.keras.Model):\n",
    "    def __init__(self, vocab_size, embedding_dim, enc_units):\n",
    "        super(Encoder, self).__init__()\n",
    "\n",
    "        self.enc_units = enc_units\n",
    "        self.embedding = tf.keras.layers.Embedding(vocab_size, embedding_dim)\n",
    "        self.gru = tf.keras.layers.GRU(enc_units, return_sequences=True)\n",
    "        \n",
    "        self.dropout = tf.keras.layers.Dropout(rate=0.2)\n",
    "\n",
    "    def call(self, x):\n",
    "        out = self.embedding(x)\n",
    "        out = self.gru(out)\n",
    "        out = self.dropout(out)\n",
    "        \n",
    "        return out"
   ]
  },
  {
   "cell_type": "code",
   "execution_count": 20,
   "id": "76c0be98",
   "metadata": {},
   "outputs": [],
   "source": [
    "class Decoder(tf.keras.Model):\n",
    "    def __init__(self, vocab_size, embedding_dim, dec_units):\n",
    "        super(Decoder, self).__init__()\n",
    "        self.dec_units = dec_units\n",
    "        self.embedding = tf.keras.layers.Embedding(vocab_size, embedding_dim)\n",
    "        self.gru = tf.keras.layers.GRU(dec_units, return_sequences=True, return_state=True)\n",
    "        self.fc = tf.keras.layers.Dense(vocab_size)\n",
    "\n",
    "        self.attention = BahdanauAttention(self.dec_units)\n",
    "        \n",
    "        self.dropout = tf.keras.layers.Dropout(rate=0.2)\n",
    "\n",
    "    def call(self, x, h_dec, enc_out):\n",
    "        context_vec, attn = self.attention(enc_out, h_dec)\n",
    "\n",
    "        out = self.embedding(x)\n",
    "        out = tf.concat([tf.expand_dims(context_vec, 1), out], axis=-1)\n",
    "\n",
    "        out, h_dec = self.gru(out)\n",
    "        out = self.dropout(out)\n",
    "        \n",
    "        out = tf.reshape(out, (-1, out.shape[2]))\n",
    "        out = self.fc(out)\n",
    "\n",
    "        return out, h_dec, attn"
   ]
  },
  {
   "cell_type": "code",
   "execution_count": 21,
   "id": "1192afd9",
   "metadata": {},
   "outputs": [],
   "source": [
    "import matplotlib.ticker as ticker\n",
    "import matplotlib.pyplot as plt\n",
    "from tqdm import tqdm\n",
    "import random\n",
    "import re\n",
    "import numpy as np\n",
    "\n",
    "\n",
    "class TranslateModel():\n",
    "    def __init__(self, enc_tokenizer, dec_tokenizer, batch_size=64, units=1024, embedding_dim=512, epochs=10):\n",
    "        super(TranslateModel, self).__init__()\n",
    "        \n",
    "        self.enc_tokenizer = enc_tokenizer\n",
    "        self.dec_tokenizer = dec_tokenizer\n",
    "        \n",
    "        self.BATCH_SIZE = batch_size\n",
    "        self.units = units\n",
    "        self.embedding_dim = embedding_dim\n",
    "        \n",
    "        SRC_VOCAB_SIZE = len(enc_tokenizer.index_word) + 1\n",
    "        TGT_VOCAB_SIZE = len(dec_tokenizer.index_word) + 1\n",
    "            \n",
    "        self.encoder = Encoder(SRC_VOCAB_SIZE, embedding_dim, units)\n",
    "        self.decoder = Decoder(TGT_VOCAB_SIZE, embedding_dim, units)\n",
    "        \n",
    "        self.optimizer = tf.keras.optimizers.Adam(learning_rate=0.0002)\n",
    "        self.loss_object = tf.keras.losses.SparseCategoricalCrossentropy(from_logits=True, reduction='none')\n",
    "        \n",
    "        self.EPOCHS = epochs\n",
    "        \n",
    "        self.enc_shape = None\n",
    "        self.dec_shape = None\n",
    "                  \n",
    "            \n",
    "    def summary(self):\n",
    "        \n",
    "        sequence_len = 40\n",
    "\n",
    "        sample_enc = tf.random.uniform((self.BATCH_SIZE, sequence_len))\n",
    "        sample_output = self.encoder(sample_enc)\n",
    "\n",
    "        print ('Encoder Output:', sample_output.shape)\n",
    "\n",
    "        sample_state = tf.random.uniform((self.BATCH_SIZE, self.units))\n",
    "\n",
    "        sample_logits, h_dec, attn = self.decoder(\n",
    "            tf.random.uniform((self.BATCH_SIZE, 1)), \n",
    "            sample_state, \n",
    "            sample_output)\n",
    "\n",
    "        print ('Decoder Output:', sample_logits.shape)\n",
    "        print ('Decoder Hidden State:', h_dec.shape)\n",
    "        print ('Attention:', attn.shape)\n",
    "        \n",
    "    \n",
    "    def loss_function(self, real, pred):\n",
    "        mask = tf.math.logical_not(tf.math.equal(real, 0))\n",
    "        loss = self.loss_object(real, pred)\n",
    "\n",
    "        mask = tf.cast(mask, dtype=loss.dtype)\n",
    "        loss *= mask\n",
    "\n",
    "        return tf.reduce_mean(loss)\n",
    "    \n",
    "    \n",
    "    @tf.function\n",
    "    def train_step(self, src, tgt):\n",
    "        bsz = src.shape[0]\n",
    "        loss = 0\n",
    "\n",
    "        with tf.GradientTape() as tape:\n",
    "            enc_out = self.encoder(src)\n",
    "            h_dec = enc_out[:, -1]\n",
    "\n",
    "            dec_src = tf.expand_dims([self.dec_tokenizer.word_index['<start>']] * bsz, 1)\n",
    "\n",
    "            for t in range(1, tgt.shape[1]):\n",
    "                pred, h_dec, _ = self.decoder(dec_src, h_dec, enc_out)\n",
    "\n",
    "                loss += self.loss_function(tgt[:, t], pred)\n",
    "                dec_src = tf.expand_dims(tgt[:, t], 1)\n",
    "\n",
    "        batch_loss = (loss / int(tgt.shape[1]))\n",
    "\n",
    "        variables = self.encoder.trainable_variables + self.decoder.trainable_variables\n",
    "        gradients = tape.gradient(loss, variables)\n",
    "        self.optimizer.apply_gradients(zip(gradients, variables))\n",
    "\n",
    "        return batch_loss\n",
    "    \n",
    "    \n",
    "    @tf.function\n",
    "    def eval_step(self, src, tgt):\n",
    "        bsz = src.shape[0]\n",
    "        loss = 0\n",
    "\n",
    "        enc_out = self.encoder(src)\n",
    "\n",
    "        h_dec = enc_out[:, -1]\n",
    "\n",
    "        dec_src = tf.expand_dims([self.dec_tokenizer.word_index['<start>']] * bsz, 1)\n",
    "\n",
    "        for t in range(1, tgt.shape[1]):\n",
    "            pred, h_dec, _ = self.decoder(dec_src, h_dec, enc_out)\n",
    "\n",
    "            loss += self.loss_function(tgt[:, t], pred)\n",
    "            dec_src = tf.expand_dims(tgt[:, t], 1)\n",
    "\n",
    "        batch_loss = (loss / int(tgt.shape[1]))\n",
    "\n",
    "        return batch_loss\n",
    "    \n",
    "    \n",
    "    def train(self, enc_train, enc_test, dec_train, dec_test):\n",
    "        \n",
    "        self.enc_shape = enc_train.shape[-1]\n",
    "        self.dec_shape = dec_train.shape[-1]\n",
    "        \n",
    "        for epoch in range(self.EPOCHS):\n",
    "            total_loss = 0\n",
    "            \n",
    "            idx_list = list(range(0, enc_train.shape[0], self.BATCH_SIZE))\n",
    "            random.shuffle(idx_list)\n",
    "            t = tqdm(idx_list)\n",
    "            \n",
    "            for (batch, idx) in enumerate(t):\n",
    "                src = enc_train[idx:idx+self.BATCH_SIZE]\n",
    "                tgt = dec_train[idx:idx+self.BATCH_SIZE]\n",
    "                \n",
    "                batch_loss = self.train_step(src, tgt)\n",
    "                total_loss += batch_loss\n",
    "\n",
    "                t.set_description_str('Epoch %2d' % (epoch + 1))\n",
    "                t.set_postfix_str('Loss %.4f' % (total_loss.numpy() / (batch + 1)))\n",
    "                \n",
    "            test_loss = 0\n",
    "            \n",
    "            idx_list = list(range(0, enc_test.shape[0], self.BATCH_SIZE))\n",
    "            random.shuffle(idx_list)\n",
    "            t = tqdm(idx_list)\n",
    "            \n",
    "            for (test_batch, idx) in enumerate(t):\n",
    "                src = enc_test[idx:idx+self.BATCH_SIZE]\n",
    "                tgt = dec_test[idx:idx+self.BATCH_SIZE]\n",
    "                \n",
    "                test_batch_loss = self.eval_step(src, tgt)\n",
    "                test_loss += test_batch_loss\n",
    "\n",
    "                t.set_description_str('Test Epoch %2d' % (epoch + 1))\n",
    "                t.set_postfix_str('Test Loss %.4f' % (test_loss.numpy() / (test_batch + 1)))\n",
    "            \n",
    "            \n",
    "    def evaluate(self, sentence):\n",
    "        attention = np.zeros((self.dec_shape, self.enc_shape))\n",
    "        \n",
    "        sentence = sentence.lower().strip()\n",
    "        sentence = re.sub(r\"([?.!,])\", r\" \\1 \", sentence)\n",
    "        sentence = re.sub(r'[\" \"]+', \" \", sentence)\n",
    "        sentence = re.sub(r\"[^a-zA-Z?.!가-힣ㄱ-ㅎㅏ-ㅣ]+\", \" \", sentence)\n",
    "        sentence = sentence.strip()\n",
    "        \n",
    "        inputs = self.enc_tokenizer.texts_to_sequences([sentence.split()])\n",
    "        inputs = [list(reversed(sen)) for sen in inputs]\n",
    "        inputs = tf.keras.preprocessing.sequence.pad_sequences(inputs, maxlen=self.enc_shape, padding='pre')\n",
    "        \n",
    "        result = ''\n",
    "\n",
    "        enc_out = self.encoder(inputs)\n",
    "\n",
    "        dec_hidden = enc_out[:, -1]\n",
    "        dec_input = tf.expand_dims([self.dec_tokenizer.word_index['<start>']], 0)\n",
    "        \n",
    "        for t in range(self.dec_shape):\n",
    "            predictions, dec_hidden, attention_weights = self.decoder(dec_input, dec_hidden, enc_out)\n",
    "\n",
    "            attention_weights = tf.reshape(attention_weights, (-1, ))\n",
    "            attention[t] = attention_weights.numpy()\n",
    "\n",
    "            predicted_id = tf.argmax(tf.math.softmax(predictions, axis=-1)[0]).numpy()\n",
    "\n",
    "            result += self.dec_tokenizer.index_word[predicted_id] + ' '\n",
    "\n",
    "            if self.dec_tokenizer.index_word[predicted_id] == '<end>':\n",
    "                return result, sentence, attention\n",
    "\n",
    "            dec_input = tf.expand_dims([predicted_id], 0)\n",
    "\n",
    "        return result, sentence, attention\n",
    "    \n",
    "    \n",
    "    def plot_attention(self, attention, sentence, predicted_sentence):\n",
    "        fig = plt.figure(figsize=(10,10))\n",
    "        ax = fig.add_subplot(1, 1, 1)\n",
    "        ax.matshow(attention, cmap='viridis')\n",
    "\n",
    "        fontdict = {'fontsize': 14}\n",
    "\n",
    "        ax.set_xticklabels([''] + sentence, fontdict=fontdict, rotation=90)\n",
    "        ax.set_yticklabels([''] + predicted_sentence, fontdict=fontdict)\n",
    "\n",
    "        ax.xaxis.set_major_locator(ticker.MultipleLocator(1))\n",
    "        ax.yaxis.set_major_locator(ticker.MultipleLocator(1))\n",
    "\n",
    "        plt.show()\n",
    "        \n",
    "    \n",
    "    def translate(self, sentence):\n",
    "        result, sentence, attention = self.evaluate(sentence)\n",
    "\n",
    "        print('Input: %s' % (sentence))\n",
    "        print('Predicted translation: {}'.format(result))\n",
    "\n",
    "        attention = attention[:len(result.split()), :len(sentence.split())]\n",
    "        self.plot_attention(attention, sentence.split(), result.split(' '))"
   ]
  },
  {
   "cell_type": "markdown",
   "id": "3e73dcdc",
   "metadata": {},
   "source": [
    "# Step 5. 훈련하기\n",
    "\n",
    "---------------------------------------\n",
    "\n",
    "훈련엔 위에서 사용한 코드를 그대로 사용하되, eval_step() 부분이 없음에 유의합니다! 매 스텝 아래의 예문에 대한 번역을 생성하여 본인이 생각하기에 가장 멋지게 번역한 Case를 제출하세요! (Attention Map을 시각화해보는 것도 재밌을 거예요!)\n",
    "\n",
    "❕ 참고: 데이터의 난이도가 높은 편이므로 생각만큼 결과가 잘 안나올 수 있습니다."
   ]
  },
  {
   "cell_type": "code",
   "execution_count": 22,
   "id": "142cdf52",
   "metadata": {},
   "outputs": [
    {
     "name": "stdout",
     "output_type": "stream",
     "text": [
      "Encoder Output: (64, 40, 512)\n",
      "Decoder Output: (64, 16942)\n",
      "Decoder Hidden State: (64, 512)\n",
      "Attention: (64, 40, 1)\n"
     ]
    }
   ],
   "source": [
    "model = TranslateModel(\n",
    "    kor_tokenizer, eng_tokenizer, \n",
    "    batch_size=64, units=512, embedding_dim=1024, epochs=50)\n",
    "\n",
    "model.summary()"
   ]
  },
  {
   "cell_type": "code",
   "execution_count": 23,
   "id": "6f2c9cac",
   "metadata": {
    "scrolled": false
   },
   "outputs": [
    {
     "name": "stderr",
     "output_type": "stream",
     "text": [
      "Epoch  1: 100%|██████████| 205/205 [01:48<00:00,  1.89it/s, Loss 2.5300]\n",
      "Test Epoch  1: 100%|██████████| 52/52 [00:27<00:00,  1.88it/s, Test Loss 2.4384]\n",
      "Epoch  2: 100%|██████████| 205/205 [00:42<00:00,  4.80it/s, Loss 2.3977]\n",
      "Test Epoch  2: 100%|██████████| 52/52 [00:03<00:00, 13.21it/s, Test Loss 2.4520]\n",
      "Epoch  3: 100%|██████████| 205/205 [00:43<00:00,  4.70it/s, Loss 2.3968]\n",
      "Test Epoch  3: 100%|██████████| 52/52 [00:03<00:00, 13.39it/s, Test Loss 2.4606]\n",
      "Epoch  4: 100%|██████████| 205/205 [00:43<00:00,  4.74it/s, Loss 2.3946]\n",
      "Test Epoch  4: 100%|██████████| 52/52 [00:03<00:00, 13.24it/s, Test Loss 2.4610]\n",
      "Epoch  5: 100%|██████████| 205/205 [00:43<00:00,  4.72it/s, Loss 2.3782]\n",
      "Test Epoch  5: 100%|██████████| 52/52 [00:03<00:00, 13.21it/s, Test Loss 2.4280]\n",
      "Epoch  6: 100%|██████████| 205/205 [00:43<00:00,  4.72it/s, Loss 2.3266]\n",
      "Test Epoch  6: 100%|██████████| 52/52 [00:03<00:00, 13.22it/s, Test Loss 2.3451]\n",
      "Epoch  7: 100%|██████████| 205/205 [00:43<00:00,  4.70it/s, Loss 2.2392]\n",
      "Test Epoch  7: 100%|██████████| 52/52 [00:03<00:00, 13.19it/s, Test Loss 2.2877]\n",
      "Epoch  8: 100%|██████████| 205/205 [00:43<00:00,  4.69it/s, Loss 2.1800]\n",
      "Test Epoch  8: 100%|██████████| 52/52 [00:03<00:00, 13.14it/s, Test Loss 2.2535]\n",
      "Epoch  9: 100%|██████████| 205/205 [00:43<00:00,  4.69it/s, Loss 2.1292]\n",
      "Test Epoch  9: 100%|██████████| 52/52 [00:03<00:00, 13.18it/s, Test Loss 2.2184]\n",
      "Epoch 10: 100%|██████████| 205/205 [00:43<00:00,  4.69it/s, Loss 2.0801]\n",
      "Test Epoch 10: 100%|██████████| 52/52 [00:03<00:00, 13.12it/s, Test Loss 2.1930]\n",
      "Epoch 11: 100%|██████████| 205/205 [00:43<00:00,  4.69it/s, Loss 2.0320]\n",
      "Test Epoch 11: 100%|██████████| 52/52 [00:03<00:00, 13.18it/s, Test Loss 2.1718]\n",
      "Epoch 12: 100%|██████████| 205/205 [00:43<00:00,  4.69it/s, Loss 1.9882]\n",
      "Test Epoch 12: 100%|██████████| 52/52 [00:03<00:00, 13.08it/s, Test Loss 2.1550]\n",
      "Epoch 13: 100%|██████████| 205/205 [00:43<00:00,  4.69it/s, Loss 1.9469]\n",
      "Test Epoch 13: 100%|██████████| 52/52 [00:03<00:00, 13.16it/s, Test Loss 2.1449]\n",
      "Epoch 14: 100%|██████████| 205/205 [00:43<00:00,  4.68it/s, Loss 1.9086]\n",
      "Test Epoch 14: 100%|██████████| 52/52 [00:03<00:00, 13.11it/s, Test Loss 2.1387]\n",
      "Epoch 15: 100%|██████████| 205/205 [00:43<00:00,  4.69it/s, Loss 1.8731]\n",
      "Test Epoch 15: 100%|██████████| 52/52 [00:03<00:00, 13.12it/s, Test Loss 2.1349]\n",
      "Epoch 16: 100%|██████████| 205/205 [00:43<00:00,  4.69it/s, Loss 1.8392]\n",
      "Test Epoch 16: 100%|██████████| 52/52 [00:03<00:00, 13.16it/s, Test Loss 2.1316]\n",
      "Epoch 17: 100%|██████████| 205/205 [00:43<00:00,  4.68it/s, Loss 1.8065]\n",
      "Test Epoch 17: 100%|██████████| 52/52 [00:03<00:00, 13.11it/s, Test Loss 2.1337]\n",
      "Epoch 18: 100%|██████████| 205/205 [00:43<00:00,  4.68it/s, Loss 1.7750]\n",
      "Test Epoch 18: 100%|██████████| 52/52 [00:03<00:00, 13.12it/s, Test Loss 2.1372]\n",
      "Epoch 19: 100%|██████████| 205/205 [00:43<00:00,  4.68it/s, Loss 1.7439]\n",
      "Test Epoch 19: 100%|██████████| 52/52 [00:03<00:00, 13.13it/s, Test Loss 2.1366]\n",
      "Epoch 20: 100%|██████████| 205/205 [00:43<00:00,  4.68it/s, Loss 1.7127]\n",
      "Test Epoch 20: 100%|██████████| 52/52 [00:03<00:00, 13.10it/s, Test Loss 2.1417]\n",
      "Epoch 21: 100%|██████████| 205/205 [00:43<00:00,  4.68it/s, Loss 1.6843]\n",
      "Test Epoch 21: 100%|██████████| 52/52 [00:03<00:00, 13.06it/s, Test Loss 2.1484]\n",
      "Epoch 22: 100%|██████████| 205/205 [00:43<00:00,  4.68it/s, Loss 1.6537]\n",
      "Test Epoch 22: 100%|██████████| 52/52 [00:03<00:00, 13.16it/s, Test Loss 2.1550]\n",
      "Epoch 23: 100%|██████████| 205/205 [00:43<00:00,  4.68it/s, Loss 1.6245]\n",
      "Test Epoch 23: 100%|██████████| 52/52 [00:03<00:00, 13.11it/s, Test Loss 2.1577]\n",
      "Epoch 24: 100%|██████████| 205/205 [00:43<00:00,  4.68it/s, Loss 1.5956]\n",
      "Test Epoch 24: 100%|██████████| 52/52 [00:03<00:00, 13.13it/s, Test Loss 2.1652]\n",
      "Epoch 25: 100%|██████████| 205/205 [00:43<00:00,  4.67it/s, Loss 1.5673]\n",
      "Test Epoch 25: 100%|██████████| 52/52 [00:03<00:00, 13.07it/s, Test Loss 2.1737]\n",
      "Epoch 27: 100%|██████████| 205/205 [00:43<00:00,  4.68it/s, Loss 1.5130]\n",
      "Test Epoch 27: 100%|██████████| 52/52 [00:03<00:00, 13.13it/s, Test Loss 2.1917]\n",
      "Epoch 28: 100%|██████████| 205/205 [00:43<00:00,  4.69it/s, Loss 1.4865]\n",
      "Test Epoch 28: 100%|██████████| 52/52 [00:03<00:00, 13.10it/s, Test Loss 2.2038]\n",
      "Epoch 29: 100%|██████████| 205/205 [00:43<00:00,  4.68it/s, Loss 1.4627]\n",
      "Test Epoch 29: 100%|██████████| 52/52 [00:03<00:00, 13.08it/s, Test Loss 2.2173]\n",
      "Epoch 30: 100%|██████████| 205/205 [00:43<00:00,  4.68it/s, Loss 1.4368]\n",
      "Test Epoch 30: 100%|██████████| 52/52 [00:03<00:00, 13.10it/s, Test Loss 2.2242]\n",
      "Epoch 31: 100%|██████████| 205/205 [00:43<00:00,  4.68it/s, Loss 1.4083]\n",
      "Test Epoch 31: 100%|██████████| 52/52 [00:03<00:00, 13.11it/s, Test Loss 2.2356]\n",
      "Epoch 32: 100%|██████████| 205/205 [00:43<00:00,  4.68it/s, Loss 1.3829]\n",
      "Test Epoch 32: 100%|██████████| 52/52 [00:03<00:00, 13.10it/s, Test Loss 2.2495]\n",
      "Epoch 33: 100%|██████████| 205/205 [00:43<00:00,  4.68it/s, Loss 1.3591]\n",
      "Test Epoch 33: 100%|██████████| 52/52 [00:03<00:00, 13.12it/s, Test Loss 2.2599]\n",
      "Epoch 34: 100%|██████████| 205/205 [00:43<00:00,  4.67it/s, Loss 1.3339]\n",
      "Test Epoch 34: 100%|██████████| 52/52 [00:03<00:00, 13.13it/s, Test Loss 2.2730]\n",
      "Epoch 35: 100%|██████████| 205/205 [00:43<00:00,  4.68it/s, Loss 1.3260]\n",
      "Test Epoch 35: 100%|██████████| 52/52 [00:03<00:00, 13.15it/s, Test Loss 2.2758]\n",
      "Epoch 36: 100%|██████████| 205/205 [00:43<00:00,  4.68it/s, Loss 1.3051]\n",
      "Test Epoch 36: 100%|██████████| 52/52 [00:03<00:00, 13.09it/s, Test Loss 2.2894]\n",
      "Epoch 37: 100%|██████████| 205/205 [00:43<00:00,  4.69it/s, Loss 1.2700]\n",
      "Test Epoch 37: 100%|██████████| 52/52 [00:03<00:00, 13.14it/s, Test Loss 2.3077]\n",
      "Epoch 38: 100%|██████████| 205/205 [00:43<00:00,  4.69it/s, Loss 1.2419]\n",
      "Test Epoch 38: 100%|██████████| 52/52 [00:03<00:00, 13.15it/s, Test Loss 2.3228]\n",
      "Epoch 39: 100%|██████████| 205/205 [00:43<00:00,  4.68it/s, Loss 1.2177]\n",
      "Test Epoch 39: 100%|██████████| 52/52 [00:03<00:00, 13.12it/s, Test Loss 2.3362]\n",
      "Epoch 40: 100%|██████████| 205/205 [00:43<00:00,  4.68it/s, Loss 1.1961]\n",
      "Test Epoch 40: 100%|██████████| 52/52 [00:03<00:00, 13.11it/s, Test Loss 2.3492]\n",
      "Epoch 41: 100%|██████████| 205/205 [00:43<00:00,  4.68it/s, Loss 1.1771]\n",
      "Test Epoch 41: 100%|██████████| 52/52 [00:03<00:00, 13.13it/s, Test Loss 2.3641]\n",
      "Epoch 42: 100%|██████████| 205/205 [00:43<00:00,  4.69it/s, Loss 1.1617]\n",
      "Test Epoch 42: 100%|██████████| 52/52 [00:03<00:00, 13.16it/s, Test Loss 2.3750]\n",
      "Epoch 43: 100%|██████████| 205/205 [00:43<00:00,  4.69it/s, Loss 1.1389]\n",
      "Test Epoch 43: 100%|██████████| 52/52 [00:03<00:00, 13.14it/s, Test Loss 2.3878]\n",
      "Epoch 44: 100%|██████████| 205/205 [00:43<00:00,  4.68it/s, Loss 1.1209]\n",
      "Test Epoch 44: 100%|██████████| 52/52 [00:03<00:00, 13.13it/s, Test Loss 2.4057]\n",
      "Epoch 45: 100%|██████████| 205/205 [00:43<00:00,  4.68it/s, Loss 1.0959]\n",
      "Test Epoch 45: 100%|██████████| 52/52 [00:03<00:00, 13.10it/s, Test Loss 2.4202]\n",
      "Epoch 46: 100%|██████████| 205/205 [00:43<00:00,  4.68it/s, Loss 1.0738]\n",
      "Test Epoch 46: 100%|██████████| 52/52 [00:03<00:00, 13.10it/s, Test Loss 2.4352]\n",
      "Epoch 47: 100%|██████████| 205/205 [00:43<00:00,  4.68it/s, Loss 1.0562]\n",
      "Test Epoch 47: 100%|██████████| 52/52 [00:03<00:00, 13.17it/s, Test Loss 2.4504]\n",
      "Epoch 48: 100%|██████████| 205/205 [00:43<00:00,  4.69it/s, Loss 1.0377]\n",
      "Test Epoch 48: 100%|██████████| 52/52 [00:03<00:00, 13.16it/s, Test Loss 2.4623]\n",
      "Epoch 49: 100%|██████████| 205/205 [00:43<00:00,  4.69it/s, Loss 1.0169]\n",
      "Test Epoch 49: 100%|██████████| 52/52 [00:03<00:00, 13.18it/s, Test Loss 2.4819]\n",
      "Epoch 50: 100%|██████████| 205/205 [00:43<00:00,  4.68it/s, Loss 0.9991]\n",
      "Test Epoch 50: 100%|██████████| 52/52 [00:03<00:00, 13.11it/s, Test Loss 2.4996]\n"
     ]
    }
   ],
   "source": [
    "model.train(kor_train, kor_test, eng_train, eng_test)"
   ]
  },
  {
   "cell_type": "code",
   "execution_count": 24,
   "id": "afd90fff",
   "metadata": {},
   "outputs": [
    {
     "data": {
      "text/plain": [
       "'/usr/share/fonts/truetype/nanum/NanumBarunGothic.ttf'"
      ]
     },
     "execution_count": 24,
     "metadata": {},
     "output_type": "execute_result"
    }
   ],
   "source": [
    "import matplotlib as mpl\n",
    "import matplotlib.pyplot as plt\n",
    " \n",
    "%config InlineBackend.figure_format = 'retina'\n",
    " \n",
    "import matplotlib.font_manager as fm\n",
    "fontpath = '/usr/share/fonts/truetype/nanum/NanumBarunGothic.ttf'\n",
    "font = fm.FontProperties(fname=fontpath, size=9)\n",
    "plt.rc('font', family='NanumBarunGothic') \n",
    "mpl.font_manager.findfont(font)"
   ]
  },
  {
   "cell_type": "code",
   "execution_count": 25,
   "id": "1c2a0ae1",
   "metadata": {},
   "outputs": [
    {
     "name": "stderr",
     "output_type": "stream",
     "text": [
      "/tmp/ipykernel_263/2802984494.py:198: UserWarning: FixedFormatter should only be used together with FixedLocator\n",
      "  ax.set_xticklabels([''] + sentence, fontdict=fontdict, rotation=90)\n",
      "/tmp/ipykernel_263/2802984494.py:199: UserWarning: FixedFormatter should only be used together with FixedLocator\n",
      "  ax.set_yticklabels([''] + predicted_sentence, fontdict=fontdict)\n"
     ]
    },
    {
     "name": "stdout",
     "output_type": "stream",
     "text": [
      "Input: 인생도 회처럼 날로 먹고싶다 .\n",
      "Predicted translation: . . <end> \n"
     ]
    },
    {
     "data": {
      "image/png": "[encoded data removed]",
      "text/plain": [
       "<Figure size 720x720 with 1 Axes>"
      ]
     },
     "metadata": {
      "image/png": {
       "height": 409,
       "width": 616
      },
      "needs_background": "light"
     },
     "output_type": "display_data"
    }
   ],
   "source": [
    "model.translate('인생도 회처럼 날로 먹고싶다.')"
   ]
  },
  {
   "cell_type": "code",
   "execution_count": 26,
   "id": "1b664c1d",
   "metadata": {},
   "outputs": [
    {
     "name": "stdout",
     "output_type": "stream",
     "text": [
      "Input: 무슨 영화 좋아하세요 ? 부귀영화요\n",
      "Predicted translation: we have to have a lot of your life <end> \n"
     ]
    },
    {
     "name": "stderr",
     "output_type": "stream",
     "text": [
      "/tmp/ipykernel_263/2802984494.py:198: UserWarning: FixedFormatter should only be used together with FixedLocator\n",
      "  ax.set_xticklabels([''] + sentence, fontdict=fontdict, rotation=90)\n",
      "/tmp/ipykernel_263/2802984494.py:199: UserWarning: FixedFormatter should only be used together with FixedLocator\n",
      "  ax.set_yticklabels([''] + predicted_sentence, fontdict=fontdict)\n"
     ]
    },
    {
     "data": {
      "image/png": "[encoded data removed]",
      "text/plain": [
       "<Figure size 720x720 with 1 Axes>"
      ]
     },
     "metadata": {
      "image/png": {
       "height": 631,
       "width": 330
      },
      "needs_background": "light"
     },
     "output_type": "display_data"
    }
   ],
   "source": [
    "model.translate('무슨 영화 좋아하세요? 부귀영화요')"
   ]
  },
  {
   "cell_type": "code",
   "execution_count": 27,
   "id": "5809e716",
   "metadata": {},
   "outputs": [
    {
     "name": "stdout",
     "output_type": "stream",
     "text": [
      "Input: 말하기 전에 생각했나요 ?\n",
      "Predicted translation: rita foley <end> \n"
     ]
    },
    {
     "name": "stderr",
     "output_type": "stream",
     "text": [
      "/tmp/ipykernel_263/2802984494.py:198: UserWarning: FixedFormatter should only be used together with FixedLocator\n",
      "  ax.set_xticklabels([''] + sentence, fontdict=fontdict, rotation=90)\n",
      "/tmp/ipykernel_263/2802984494.py:199: UserWarning: FixedFormatter should only be used together with FixedLocator\n",
      "  ax.set_yticklabels([''] + predicted_sentence, fontdict=fontdict)\n"
     ]
    },
    {
     "data": {
      "image/png": "[encoded data removed]",
      "text/plain": [
       "<Figure size 720x720 with 1 Axes>"
      ]
     },
     "metadata": {
      "image/png": {
       "height": 505,
       "width": 616
      },
      "needs_background": "light"
     },
     "output_type": "display_data"
    }
   ],
   "source": [
    "model.translate('말하기 전에 생각했나요?')"
   ]
  },
  {
   "cell_type": "code",
   "execution_count": 28,
   "id": "a03e7dde",
   "metadata": {
    "scrolled": false
   },
   "outputs": [
    {
     "name": "stdout",
     "output_type": "stream",
     "text": [
      "Input: 성능 똥같네 이게 맞나 ?\n",
      "Predicted translation: bad cnn doom and rolex <end> \n"
     ]
    },
    {
     "name": "stderr",
     "output_type": "stream",
     "text": [
      "/tmp/ipykernel_263/2802984494.py:198: UserWarning: FixedFormatter should only be used together with FixedLocator\n",
      "  ax.set_xticklabels([''] + sentence, fontdict=fontdict, rotation=90)\n",
      "/tmp/ipykernel_263/2802984494.py:199: UserWarning: FixedFormatter should only be used together with FixedLocator\n",
      "  ax.set_yticklabels([''] + predicted_sentence, fontdict=fontdict)\n"
     ]
    },
    {
     "data": {
      "image/png": "[encoded data removed]",
      "text/plain": [
       "<Figure size 720x720 with 1 Axes>"
      ]
     },
     "metadata": {
      "image/png": {
       "height": 606,
       "width": 511
      },
      "needs_background": "light"
     },
     "output_type": "display_data"
    }
   ],
   "source": [
    "model.translate('성능 똥같네, 이게 맞나?')"
   ]
  },
  {
   "cell_type": "markdown",
   "id": "f95465ec",
   "metadata": {},
   "source": [
    "# 회고\n",
    "\n",
    "---------------------------------------\n",
    "\n",
    "## 어려웠던 부분\n",
    "\n",
    "* 데이터셋 자체에 문제가 있는것이 아닌가 의심이 "
   ]
  }
 ],
 "metadata": {
  "kernelspec": {
   "display_name": "Python 3 (ipykernel)",
   "language": "python",
   "name": "python3"
  },
  "language_info": {
   "codemirror_mode": {
    "name": "ipython",
    "version": 3
   },
   "file_extension": ".py",
   "mimetype": "text/x-python",
   "name": "python",
   "nbconvert_exporter": "python",
   "pygments_lexer": "ipython3",
   "version": "3.9.7"
  }
 },
 "nbformat": 4,
 "nbformat_minor": 5
}
