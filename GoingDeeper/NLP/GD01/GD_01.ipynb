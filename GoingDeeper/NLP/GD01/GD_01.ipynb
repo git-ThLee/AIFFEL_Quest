{
 "cells": [
  {
   "cell_type": "markdown",
   "id": "ba6953d5",
   "metadata": {},
   "source": [
    "# [GoingDeeper] NLP_01 SentencePiece"
   ]
  },
  {
   "cell_type": "code",
   "execution_count": 1,
   "id": "6b1efd0a",
   "metadata": {},
   "outputs": [],
   "source": [
    "import pandas as pd\n",
    "import sentencepiece as spm\n",
    "import urllib.request\n",
    "import csv\n",
    "import numpy as np\n",
    "import matplotlib.pyplot as plt\n",
    "import tensorflow as tf\n",
    "from tensorflow import keras"
   ]
  },
  {
   "cell_type": "markdown",
   "id": "1daa2ff7",
   "metadata": {},
   "source": [
    "## 데이터 불러오기 및 전처리"
   ]
  },
  {
   "cell_type": "code",
   "execution_count": 2,
   "id": "5588552e",
   "metadata": {},
   "outputs": [
    {
     "data": {
      "text/plain": [
       "('ratings.txt', <http.client.HTTPMessage at 0x7f0814657e50>)"
      ]
     },
     "execution_count": 2,
     "metadata": {},
     "output_type": "execute_result"
    }
   ],
   "source": [
    "urllib.request.urlretrieve(\"https://raw.githubusercontent.com/e9t/nsmc/master/ratings.txt\", filename=\"ratings.txt\")"
   ]
  },
  {
   "cell_type": "code",
   "execution_count": 3,
   "id": "6589d214",
   "metadata": {
    "scrolled": true
   },
   "outputs": [
    {
     "data": {
      "text/html": [
       "<div>\n",
       "<style scoped>\n",
       "    .dataframe tbody tr th:only-of-type {\n",
       "        vertical-align: middle;\n",
       "    }\n",
       "\n",
       "    .dataframe tbody tr th {\n",
       "        vertical-align: top;\n",
       "    }\n",
       "\n",
       "    .dataframe thead th {\n",
       "        text-align: right;\n",
       "    }\n",
       "</style>\n",
       "<table border=\"1\" class=\"dataframe\">\n",
       "  <thead>\n",
       "    <tr style=\"text-align: right;\">\n",
       "      <th></th>\n",
       "      <th>id</th>\n",
       "      <th>document</th>\n",
       "      <th>label</th>\n",
       "    </tr>\n",
       "  </thead>\n",
       "  <tbody>\n",
       "    <tr>\n",
       "      <th>0</th>\n",
       "      <td>8112052</td>\n",
       "      <td>어릴때보고 지금다시봐도 재밌어요ㅋㅋ</td>\n",
       "      <td>1</td>\n",
       "    </tr>\n",
       "    <tr>\n",
       "      <th>1</th>\n",
       "      <td>8132799</td>\n",
       "      <td>디자인을 배우는 학생으로, 외국디자이너와 그들이 일군 전통을 통해 발전해가는 문화산...</td>\n",
       "      <td>1</td>\n",
       "    </tr>\n",
       "    <tr>\n",
       "      <th>2</th>\n",
       "      <td>4655635</td>\n",
       "      <td>폴리스스토리 시리즈는 1부터 뉴까지 버릴께 하나도 없음.. 최고.</td>\n",
       "      <td>1</td>\n",
       "    </tr>\n",
       "    <tr>\n",
       "      <th>3</th>\n",
       "      <td>9251303</td>\n",
       "      <td>와.. 연기가 진짜 개쩔구나.. 지루할거라고 생각했는데 몰입해서 봤다.. 그래 이런...</td>\n",
       "      <td>1</td>\n",
       "    </tr>\n",
       "    <tr>\n",
       "      <th>4</th>\n",
       "      <td>10067386</td>\n",
       "      <td>안개 자욱한 밤하늘에 떠 있는 초승달 같은 영화.</td>\n",
       "      <td>1</td>\n",
       "    </tr>\n",
       "  </tbody>\n",
       "</table>\n",
       "</div>"
      ],
      "text/plain": [
       "         id                                           document  label\n",
       "0   8112052                                어릴때보고 지금다시봐도 재밌어요ㅋㅋ      1\n",
       "1   8132799  디자인을 배우는 학생으로, 외국디자이너와 그들이 일군 전통을 통해 발전해가는 문화산...      1\n",
       "2   4655635               폴리스스토리 시리즈는 1부터 뉴까지 버릴께 하나도 없음.. 최고.      1\n",
       "3   9251303  와.. 연기가 진짜 개쩔구나.. 지루할거라고 생각했는데 몰입해서 봤다.. 그래 이런...      1\n",
       "4  10067386                        안개 자욱한 밤하늘에 떠 있는 초승달 같은 영화.      1"
      ]
     },
     "execution_count": 3,
     "metadata": {},
     "output_type": "execute_result"
    }
   ],
   "source": [
    "naver_df = pd.read_table('ratings.txt')\n",
    "naver_df.head()"
   ]
  },
  {
   "cell_type": "code",
   "execution_count": 4,
   "id": "fcbb4d8c",
   "metadata": {},
   "outputs": [
    {
     "data": {
      "text/plain": [
       "id          0\n",
       "document    8\n",
       "label       0\n",
       "dtype: int64"
      ]
     },
     "execution_count": 4,
     "metadata": {},
     "output_type": "execute_result"
    }
   ],
   "source": [
    "origin_len = len(naver_df)\n",
    "naver_df.isnull().sum()"
   ]
  },
  {
   "cell_type": "code",
   "execution_count": 5,
   "id": "71c46c64",
   "metadata": {},
   "outputs": [
    {
     "name": "stdout",
     "output_type": "stream",
     "text": [
      "결측치 제거 후 데이터 개수 : 199992\n"
     ]
    }
   ],
   "source": [
    "naver_df = naver_df.dropna(how='any')\n",
    "#print(naver_df.isnull().sum)\n",
    "print('결측치 제거 후 데이터 개수 :', len(naver_df))  "
   ]
  },
  {
   "cell_type": "code",
   "execution_count": 6,
   "id": "0efe9ad7",
   "metadata": {},
   "outputs": [],
   "source": [
    "naver_review = naver_df['document']"
   ]
  },
  {
   "cell_type": "code",
   "execution_count": 7,
   "id": "b5debf21",
   "metadata": {},
   "outputs": [
    {
     "name": "stdout",
     "output_type": "stream",
     "text": [
      "문장의 최단 길이: 1\n",
      "문장의 최장 길이: 142\n",
      "문장의 평균 길이: 35\n"
     ]
    },
    {
     "data": {
      "image/png": "[encoded data removed]",
      "text/plain": [
       "<Figure size 432x288 with 1 Axes>"
      ]
     },
     "metadata": {
      "needs_background": "light"
     },
     "output_type": "display_data"
    }
   ],
   "source": [
    "min_len = 999\n",
    "max_len = 0\n",
    "sum_len = 0\n",
    "\n",
    "for sen in naver_review:\n",
    "    length = len(sen)\n",
    "    if min_len > length: min_len = length\n",
    "    if max_len < length: max_len = length\n",
    "    sum_len += length\n",
    "\n",
    "print(\"문장의 최단 길이:\", min_len)\n",
    "print(\"문장의 최장 길이:\", max_len)\n",
    "print(\"문장의 평균 길이:\", sum_len // len(naver_review))\n",
    "\n",
    "sentence_length = np.zeros((max_len), dtype=int)\n",
    "\n",
    "for sen in naver_review:\n",
    "    sentence_length[len(sen)-1] += 1\n",
    "\n",
    "plt.bar(range(max_len), sentence_length, width=1.0)\n",
    "plt.title(\"Sentence Length Distribution\")\n",
    "plt.show()"
   ]
  },
  {
   "cell_type": "code",
   "execution_count": 8,
   "id": "f4d6b477",
   "metadata": {},
   "outputs": [
    {
     "name": "stdout",
     "output_type": "stream",
     "text": [
      "굿\n",
      "핡\n",
      "굿\n",
      "휴\n",
      "굿\n",
      "시\n",
      "ㅋ\n",
      "ㅇ\n",
      "굿\n",
      "‥\n",
      "O\n",
      "굿\n",
      "굿\n",
      "굿\n",
      "갑\n",
      "ㅎ\n",
      "굿\n",
      ".\n",
      "올\n",
      "굿\n",
      "헷\n",
      "g\n",
      "굿\n",
      "♥\n",
      ".\n",
      "짱\n",
      "짱\n",
      "ㅆ\n",
      ".\n",
      "굿\n",
      "짱\n",
      "굿\n",
      ".\n",
      "굿\n",
      "굿\n",
      "굿\n",
      ".\n",
      "굿\n",
      "짱\n",
      "굳\n",
      "굿\n",
      "잼\n",
      "굿\n",
      "짱\n",
      "굿\n",
      "굿\n",
      "ㅎ\n",
      "굿\n",
      "굿\n",
      "굿\n",
      "ㅁ\n",
      "굳\n",
      "굿\n",
      "굿\n",
      "?\n",
      "ㅎ\n",
      "굿\n",
      "굿\n",
      ".\n",
      "짱\n",
      "ㅇ\n",
      "ㅋ\n",
      "애\n",
      "굿\n",
      "ㅋ\n",
      "굿\n",
      "?\n",
      "짱\n",
      ".\n",
      "흠\n",
      "굿\n",
      "ㅋ\n",
      "!\n",
      "굿\n",
      "찜\n",
      "b\n",
      "굿\n",
      "굳\n",
      "짱\n",
      "짱\n",
      "짱\n",
      "짱\n",
      "굿\n",
      "굿\n",
      "짱\n",
      "굿\n",
      ",\n",
      "♥\n",
      "굳\n",
      ".\n",
      "굿\n",
      "굳\n",
      "ㅎ\n",
      "굿\n",
      "굿\n",
      ".\n",
      "굿\n",
      "굳\n",
      "굿\n",
      "굿\n",
      "굿\n"
     ]
    }
   ],
   "source": [
    "def check_sentence_with_length(naver_review, length):\n",
    "    count = 0\n",
    "    \n",
    "    for sen in naver_review:\n",
    "        if len(sen) == length:\n",
    "            print(sen)\n",
    "            count += 1\n",
    "            if count > 100: return\n",
    "\n",
    "check_sentence_with_length(naver_review, 1)"
   ]
  },
  {
   "cell_type": "code",
   "execution_count": 9,
   "id": "fc84f2db",
   "metadata": {},
   "outputs": [
    {
     "name": "stdout",
     "output_type": "stream",
     "text": [
      "Data Size: 194543\n",
      "문장의 최단 길이: 1\n",
      "문장의 최장 길이: 142\n",
      "문장의 평균 길이: 36\n"
     ]
    },
    {
     "data": {
      "image/png": "[encoded data removed]",
      "text/plain": [
       "<Figure size 432x288 with 1 Axes>"
      ]
     },
     "metadata": {
      "needs_background": "light"
     },
     "output_type": "display_data"
    }
   ],
   "source": [
    "min_len = 999\n",
    "max_len = 0\n",
    "sum_len = 0\n",
    "\n",
    "cleaned_corpus = list(set(naver_review))  # set를 사용해서 중복을 제거합니다.\n",
    "print(\"Data Size:\", len(cleaned_corpus))\n",
    "\n",
    "for sen in cleaned_corpus:\n",
    "    length = len(sen)\n",
    "    if min_len > length: min_len = length\n",
    "    if max_len < length: max_len = length\n",
    "    sum_len += length\n",
    "\n",
    "print(\"문장의 최단 길이:\", min_len)\n",
    "print(\"문장의 최장 길이:\", max_len)\n",
    "print(\"문장의 평균 길이:\", sum_len // len(cleaned_corpus))\n",
    "\n",
    "sentence_length = np.zeros((max_len), dtype=int)\n",
    "\n",
    "for sen in cleaned_corpus:   # 중복이 제거된 코퍼스 기준\n",
    "    sentence_length[len(sen)-1] += 1\n",
    "\n",
    "plt.bar(range(max_len), sentence_length, width=1.0)\n",
    "plt.title(\"Sentence Length Distribution\")\n",
    "plt.show()"
   ]
  },
  {
   "cell_type": "code",
   "execution_count": 10,
   "id": "00c3dc6d",
   "metadata": {},
   "outputs": [
    {
     "data": {
      "image/png": "[encoded data removed]",
      "text/plain": [
       "<Figure size 432x288 with 1 Axes>"
      ]
     },
     "metadata": {
      "needs_background": "light"
     },
     "output_type": "display_data"
    }
   ],
   "source": [
    "max_len = 60\n",
    "min_len = 0\n",
    "\n",
    "# 길이 조건에 맞는 문장만 선택합니다.\n",
    "filtered_corpus = [s for s in cleaned_corpus if (len(s) < max_len) & (len(s) >= min_len)]\n",
    "\n",
    "filtered_corpus = [] \n",
    "filtered_label = []  \n",
    "for s, label in zip(naver_df['document'], naver_df['label']):    \n",
    "    if (len(s) < max_len):     \n",
    "        filtered_corpus.append(s)  \n",
    "        filtered_label.append(label) \n",
    "        \n",
    "# 분포도를 다시 그려봅니다.\n",
    "sentence_length = np.zeros((max_len), dtype=int)\n",
    "\n",
    "for sen in filtered_corpus:\n",
    "    sentence_length[len(sen)-1] += 1\n",
    "\n",
    "plt.bar(range(max_len), sentence_length, width=1.0)\n",
    "plt.title(\"Sentence Length Distribution\")\n",
    "plt.show()"
   ]
  },
  {
   "cell_type": "code",
   "execution_count": 11,
   "id": "fe944324",
   "metadata": {},
   "outputs": [],
   "source": [
    "def tokenize(corpus):  # corpus: Tokenized Sentence's List\n",
    "    tokenizer = tf.keras.preprocessing.text.Tokenizer(filters='')\n",
    "    tokenizer.fit_on_texts(corpus)\n",
    "\n",
    "    tensor = tokenizer.texts_to_sequences(corpus)\n",
    "\n",
    "    tensor = tf.keras.preprocessing.sequence.pad_sequences(tensor, padding='post')\n",
    "\n",
    "    return tensor, tokenizer"
   ]
  },
  {
   "cell_type": "markdown",
   "id": "788a59fe",
   "metadata": {},
   "source": [
    "## SentencePiece "
   ]
  },
  {
   "cell_type": "code",
   "execution_count": 49,
   "id": "ebfdbbcb",
   "metadata": {},
   "outputs": [
    {
     "name": "stdout",
     "output_type": "stream",
     "text": [
      "-rw-r--r-- 1 root root 375162 Aug 16 08:38 korean_spm.model\n",
      "-rw-r--r-- 1 root root 144497 Aug 16 08:38 korean_spm.vocab\n",
      "ls: cannot access 'korean_spm_16k*': No such file or directory\n"
     ]
    }
   ],
   "source": [
    "import sentencepiece as spm\n",
    "import os\n",
    "temp_file = os.getenv('HOME')+'/aiffel/sp_tokenizer/data/korean-english-park.train.ko.temp'\n",
    "\n",
    "vocab_size = 8000\n",
    "spm.SentencePieceTrainer.Train(\n",
    "    '--input={} --model_prefix=korean_spm --vocab_size={}'.format(temp_file, vocab_size)    \n",
    ")\n",
    "vocab_size = 16000\n",
    "spm.SentencePieceTrainer.Train(\n",
    "    '--input={} --model_prefix=kor_spm_bpe_16k --model_type=bpe --vocab_size={}'.format(temp_file, vocab_size*2)    \n",
    ")\n",
    "with open(temp_file, 'w') as f:\n",
    "    for row in filtered_corpus:   # 이전에 나왔던 정제했던 corpus를 활용해서 진행해야 합니다.\n",
    "        f.write(str(row) + '\\n')\n",
    "\n",
    "\n",
    "#위 Train에서  --model_type = unigram이 디폴트 적용되어 있습니다. --model_type = bpe로 옵션을 주어 변경할 수 있습니다.\n",
    "\n",
    "!ls -l korean_spm*\n",
    "!ls -l korean_spm_16k*"
   ]
  },
  {
   "cell_type": "code",
   "execution_count": 13,
   "id": "69f15789",
   "metadata": {},
   "outputs": [
    {
     "name": "stdout",
     "output_type": "stream",
     "text": [
      "[1661, 9, 467, 16, 1396, 9, 161, 15, 4]\n",
      "['▁아버지', '가', '방', '에', '들어', '가', '신', '다', '.']\n",
      "아버지가방에들어가신다.\n"
     ]
    }
   ],
   "source": [
    "s = spm.SentencePieceProcessor()\n",
    "s.Load('korean_spm.model')\n",
    "\n",
    "# SentencePiece를 활용한 sentence -> encoding\n",
    "tokensIDs = s.EncodeAsIds('아버지가방에들어가신다.')\n",
    "print(tokensIDs)\n",
    "\n",
    "# SentencePiece를 활용한 sentence -> encoded pieces\n",
    "print(s.SampleEncodeAsPieces('아버지가방에들어가신다.',1, 0.0))\n",
    "\n",
    "# SentencePiece를 활용한 encoding -> sentence 복원\n",
    "print(s.DecodeIds(tokensIDs))"
   ]
  },
  {
   "cell_type": "markdown",
   "id": "64fa64d1",
   "metadata": {},
   "source": [
    "## Tokenizer 함수 작성"
   ]
  },
  {
   "cell_type": "code",
   "execution_count": 14,
   "id": "2dfc5962",
   "metadata": {},
   "outputs": [],
   "source": [
    "#훈련시킨 SentencePiece를 활용해 tokenizer역할을 하는 함수를 정의\n",
    "def sp_tokenize(s, corpus): \n",
    "\n",
    "    tensor = []\n",
    "\n",
    "    for sen in corpus:\n",
    "        tensor.append(s.EncodeAsIds(sen))\n",
    "\n",
    "    with open(\"./korean_spm.vocab\", 'r') as f:\n",
    "        vocab = f.readlines()\n",
    "\n",
    "    word_index = {}\n",
    "    index_word = {}\n",
    "\n",
    "    for idx, line in enumerate(vocab):\n",
    "        word = line.split(\"\\t\")[0]\n",
    "\n",
    "        word_index.update({word:idx})\n",
    "        index_word.update({idx:word})\n",
    "\n",
    "    tensor = tf.keras.preprocessing.sequence.pad_sequences(tensor, padding='pre')\n",
    "\n",
    "    return tensor, word_index, index_word"
   ]
  },
  {
   "cell_type": "code",
   "execution_count": 15,
   "id": "0fcb7166",
   "metadata": {},
   "outputs": [],
   "source": [
    "tensor, word_index, index_word = sp_tokenize(s, filtered_corpus)"
   ]
  },
  {
   "cell_type": "markdown",
   "id": "813999bb",
   "metadata": {},
   "source": [
    "## 모델 학습"
   ]
  },
  {
   "cell_type": "code",
   "execution_count": 40,
   "id": "1c100f1c",
   "metadata": {
    "scrolled": true
   },
   "outputs": [],
   "source": [
    "from sklearn.model_selection import train_test_split\n",
    "\n",
    "filtered_label = np.array(filtered_label)\n",
    "X_train, X_test, y_train, y_test = train_test_split(tensor, filtered_label, test_size=0.2)"
   ]
  },
  {
   "cell_type": "code",
   "execution_count": 41,
   "id": "239ada16",
   "metadata": {},
   "outputs": [
    {
     "data": {
      "text/plain": [
       "(171835, 50)"
      ]
     },
     "execution_count": 41,
     "metadata": {},
     "output_type": "execute_result"
    }
   ],
   "source": [
    "tensor.shape"
   ]
  },
  {
   "cell_type": "code",
   "execution_count": 42,
   "id": "0ad232c4",
   "metadata": {},
   "outputs": [
    {
     "data": {
      "text/plain": [
       "(171835,)"
      ]
     },
     "execution_count": 42,
     "metadata": {},
     "output_type": "execute_result"
    }
   ],
   "source": [
    "filtered_label.shape"
   ]
  },
  {
   "cell_type": "code",
   "execution_count": 43,
   "id": "a13c006d",
   "metadata": {},
   "outputs": [
    {
     "name": "stdout",
     "output_type": "stream",
     "text": [
      "Epoch 1/10\n",
      "4296/4296 [==============================] - 15s 3ms/step - loss: 0.4186 - accuracy: 0.8114 - val_loss: 0.3558 - val_accuracy: 0.8454\n",
      "Epoch 2/10\n",
      "4296/4296 [==============================] - 14s 3ms/step - loss: 0.3346 - accuracy: 0.8567 - val_loss: 0.3570 - val_accuracy: 0.8421\n",
      "Epoch 3/10\n",
      "4296/4296 [==============================] - 14s 3ms/step - loss: 0.3226 - accuracy: 0.8620 - val_loss: 0.3422 - val_accuracy: 0.8488\n",
      "Epoch 4/10\n",
      "4296/4296 [==============================] - 15s 3ms/step - loss: 0.3133 - accuracy: 0.8650 - val_loss: 0.3427 - val_accuracy: 0.8488\n",
      "Epoch 5/10\n",
      "4296/4296 [==============================] - 14s 3ms/step - loss: 0.3036 - accuracy: 0.8680 - val_loss: 0.3478 - val_accuracy: 0.8480\n",
      "Epoch 6/10\n",
      "4296/4296 [==============================] - 14s 3ms/step - loss: 0.2949 - accuracy: 0.8704 - val_loss: 0.3491 - val_accuracy: 0.8469\n",
      "Epoch 7/10\n",
      "4296/4296 [==============================] - 15s 3ms/step - loss: 0.2868 - accuracy: 0.8747 - val_loss: 0.3554 - val_accuracy: 0.8449\n",
      "Epoch 8/10\n",
      "4296/4296 [==============================] - 14s 3ms/step - loss: 0.2801 - accuracy: 0.8784 - val_loss: 0.3612 - val_accuracy: 0.8449\n",
      "Epoch 9/10\n",
      "4296/4296 [==============================] - 14s 3ms/step - loss: 0.2736 - accuracy: 0.8825 - val_loss: 0.3716 - val_accuracy: 0.8441\n",
      "Epoch 10/10\n",
      "4296/4296 [==============================] - 14s 3ms/step - loss: 0.2676 - accuracy: 0.8862 - val_loss: 0.3775 - val_accuracy: 0.8445\n"
     ]
    },
    {
     "data": {
      "text/plain": [
       "<keras.callbacks.History at 0x7f0659d6a850>"
      ]
     },
     "execution_count": 43,
     "metadata": {},
     "output_type": "execute_result"
    }
   ],
   "source": [
    "# Define the model architecture\n",
    "vocab_size = 8000  \n",
    "word_vector_dim = 32  \n",
    "\n",
    "model = tf.keras.Sequential([\n",
    "    tf.keras.layers.Embedding(vocab_size, word_vector_dim),\n",
    "    tf.keras.layers.GlobalAveragePooling1D(),\n",
    "    tf.keras.layers.Dense(16, activation='relu'),\n",
    "    tf.keras.layers.Dense(1, activation='sigmoid')\n",
    "])\n",
    "\n",
    "# Compile the model\n",
    "model.compile(loss='binary_crossentropy', optimizer='adam', metrics=['accuracy'])\n",
    "\n",
    "# Train the model\n",
    "model.fit(X_train, y_train, epochs=10, validation_data=(X_test, y_test))\n"
   ]
  },
  {
   "cell_type": "code",
   "execution_count": 44,
   "id": "8e72e974",
   "metadata": {},
   "outputs": [
    {
     "name": "stdout",
     "output_type": "stream",
     "text": [
      "1074/1074 - 1s - loss: 0.3775 - accuracy: 0.8445\n",
      "[0.377459317445755, 0.8444728851318359]\n"
     ]
    }
   ],
   "source": [
    "results = model.evaluate(X_test,  y_test, verbose=2)\n",
    "print(results)"
   ]
  },
  {
   "cell_type": "markdown",
   "id": "ebff63a4",
   "metadata": {},
   "source": [
    "## KoNLPy의 Mecab 모델"
   ]
  },
  {
   "cell_type": "code",
   "execution_count": 27,
   "id": "c5c3b5bd",
   "metadata": {},
   "outputs": [],
   "source": [
    "from konlpy.tag import Mecab\n",
    "import numpy as np\n",
    "from collections import Counter\n",
    "from sklearn.model_selection import train_test_split\n",
    "\n",
    "tokenizer = Mecab()\n",
    "stopwords = ['의','가','이','은','들','는','좀','잘','걍','과','도','를','으로','자','에','와','한','하다']\n",
    "\n",
    "def data_load(num_words=10000):\n",
    "    \n",
    "    x_train, x_val, y_train, y_val = train_test_split(naver_df['document'], naver_df['label'], test_size=0.2)\n",
    "    x_train, x_test, y_train, y_test = train_test_split(x_train, y_train, test_size=0.2)\n",
    "    \n",
    "    def tokenize(data):\n",
    "        result = []\n",
    "        for sentence in data:\n",
    "            temp = tokenizer.morphs(sentence)\n",
    "            temp = [word for word in temp if not word in stopwords] \n",
    "            result.append(temp)\n",
    "        return result\n",
    "   \n",
    "    X_train = tokenize(x_train)\n",
    "    X_test = tokenize(x_test)\n",
    "    X_val = tokenize(x_val)\n",
    "                                                         \n",
    "    words = np.concatenate(X_train).tolist()\n",
    "    counter = Counter(words)\n",
    "    counter = counter.most_common(10000-4)\n",
    "    vocab = ['<PAD>', '<BOS>', '<UNK>', '<UNUSED>'] + [key for key, _ in counter]\n",
    "    word_to_index = {word:index for index, word in enumerate(vocab)}\n",
    "        \n",
    "    def wordlist_to_indexlist(wordlist):\n",
    "        return [word_to_index[word] if word in word_to_index else word_to_index['<UNK>'] for word in wordlist]\n",
    "        \n",
    "    X_train = list(map(wordlist_to_indexlist, X_train))\n",
    "    X_test = list(map(wordlist_to_indexlist, X_test))\n",
    "    X_val = list(map(wordlist_to_indexlist, X_val))\n",
    "                                                                                                             \n",
    "    return X_train, y_train, X_test, y_test, X_val, y_val, word_to_index"
   ]
  },
  {
   "cell_type": "code",
   "execution_count": 28,
   "id": "525dbe4c",
   "metadata": {},
   "outputs": [],
   "source": [
    "x_train, y_train, x_test, y_test, x_val, y_val, word_to_index = data_load()"
   ]
  },
  {
   "cell_type": "code",
   "execution_count": 29,
   "id": "7501d57f",
   "metadata": {},
   "outputs": [],
   "source": [
    "index_to_word = { index: word for word, index in word_to_index.items() }"
   ]
  },
  {
   "cell_type": "code",
   "execution_count": 30,
   "id": "faa0bb44",
   "metadata": {},
   "outputs": [
    {
     "data": {
      "text/plain": [
       "((127994, 70), (31999, 70), (39999, 70))"
      ]
     },
     "execution_count": 30,
     "metadata": {},
     "output_type": "execute_result"
    }
   ],
   "source": [
    "import tensorflow as tf\n",
    "\n",
    "x_train = tf.keras.preprocessing.sequence.pad_sequences(x_train,\n",
    "                                                        value=word_to_index[\"<PAD>\"],\n",
    "                                                        padding='pre',\n",
    "                                                        maxlen=70)\n",
    "\n",
    "x_test = tf.keras.preprocessing.sequence.pad_sequences(x_test,\n",
    "                                                       value=word_to_index[\"<PAD>\"],\n",
    "                                                       padding='pre',\n",
    "                                                       maxlen=70)\n",
    "\n",
    "x_val = tf.keras.preprocessing.sequence.pad_sequences(x_val,\n",
    "                                                      value=word_to_index[\"<PAD>\"],\n",
    "                                                      padding='pre',\n",
    "                                                      maxlen=70)\n",
    "\n",
    "x_train.shape, x_test.shape, x_val.shape"
   ]
  },
  {
   "cell_type": "code",
   "execution_count": 31,
   "id": "eff8dc44",
   "metadata": {},
   "outputs": [
    {
     "data": {
      "text/plain": [
       "((127994,), (31999,), (39999,))"
      ]
     },
     "execution_count": 31,
     "metadata": {},
     "output_type": "execute_result"
    }
   ],
   "source": [
    "y_train.shape, y_test.shape, y_val.shape"
   ]
  },
  {
   "cell_type": "code",
   "execution_count": 32,
   "id": "0a290882",
   "metadata": {},
   "outputs": [],
   "source": [
    "vocab_size = len(word_to_index)\n",
    "word_vector_dim = 128"
   ]
  },
  {
   "cell_type": "code",
   "execution_count": 33,
   "id": "be7cb40a",
   "metadata": {},
   "outputs": [
    {
     "name": "stdout",
     "output_type": "stream",
     "text": [
      "Model: \"sequential_1\"\n",
      "_________________________________________________________________\n",
      "Layer (type)                 Output Shape              Param #   \n",
      "=================================================================\n",
      "embedding_1 (Embedding)      (None, None, 128)         1280000   \n",
      "_________________________________________________________________\n",
      "lstm (LSTM)                  (None, 64)                49408     \n",
      "_________________________________________________________________\n",
      "dense_2 (Dense)              (None, 1)                 65        \n",
      "=================================================================\n",
      "Total params: 1,329,473\n",
      "Trainable params: 1,329,473\n",
      "Non-trainable params: 0\n",
      "_________________________________________________________________\n"
     ]
    }
   ],
   "source": [
    "from tensorflow.keras.layers import Dense, LSTM, Embedding\n",
    "from keras.models import Sequential\n",
    "\n",
    "model = Sequential()\n",
    "model.add(Embedding(vocab_size, word_vector_dim, input_shape=(None,)))\n",
    "model.add(LSTM(64))\n",
    "model.add(Dense(1, activation='sigmoid'))\n",
    "\n",
    "model.summary()"
   ]
  },
  {
   "cell_type": "code",
   "execution_count": 34,
   "id": "0b972be1",
   "metadata": {},
   "outputs": [
    {
     "name": "stdout",
     "output_type": "stream",
     "text": [
      "Epoch 1/20\n",
      "2000/2000 [==============================] - 31s 6ms/step - loss: 0.3666 - accuracy: 0.8365 - val_loss: 0.3209 - val_accuracy: 0.8602\n",
      "Epoch 2/20\n",
      "2000/2000 [==============================] - 12s 6ms/step - loss: 0.2823 - accuracy: 0.8790 - val_loss: 0.3151 - val_accuracy: 0.8665\n",
      "Epoch 3/20\n",
      "2000/2000 [==============================] - 12s 6ms/step - loss: 0.2427 - accuracy: 0.8978 - val_loss: 0.3323 - val_accuracy: 0.8666\n",
      "Epoch 4/20\n",
      "2000/2000 [==============================] - 12s 6ms/step - loss: 0.2084 - accuracy: 0.9140 - val_loss: 0.3466 - val_accuracy: 0.8664\n",
      "Epoch 5/20\n",
      "2000/2000 [==============================] - 12s 6ms/step - loss: 0.1758 - accuracy: 0.9291 - val_loss: 0.3771 - val_accuracy: 0.8621\n",
      "Epoch 6/20\n",
      "2000/2000 [==============================] - 12s 6ms/step - loss: 0.1458 - accuracy: 0.9423 - val_loss: 0.4234 - val_accuracy: 0.8515\n",
      "Epoch 00006: early stopping\n"
     ]
    }
   ],
   "source": [
    "from keras.callbacks import EarlyStopping\n",
    "\n",
    "model.compile(optimizer='adam', loss='binary_crossentropy', metrics=['accuracy'])\n",
    "    \n",
    "es = EarlyStopping(monitor='val_loss', mode='min', verbose=1, patience=4)\n",
    "\n",
    "epochs=20\n",
    "batch_size=64\n",
    "\n",
    "history = model.fit(\n",
    "    x_train, y_train, epochs=epochs, batch_size=batch_size,\n",
    "    validation_data=(x_val, y_val), callbacks=es, verbose=1)"
   ]
  },
  {
   "cell_type": "code",
   "execution_count": 35,
   "id": "14e18e72",
   "metadata": {
    "scrolled": true
   },
   "outputs": [
    {
     "name": "stdout",
     "output_type": "stream",
     "text": [
      "1000/1000 [==============================] - 3s 3ms/step - loss: 0.4172 - accuracy: 0.8510\n"
     ]
    }
   ],
   "source": [
    "result_mecab = model.evaluate(x_test, y_test, verbose=1)"
   ]
  },
  {
   "cell_type": "markdown",
   "id": "0e40ab02",
   "metadata": {},
   "source": [
    "### 결과   \n",
    "sp는 84%, KoNLPy는 85%의 accuracy가 나오는 것으로 보아, 성능에 큰 차이는 없는 것 같다."
   ]
  },
  {
   "cell_type": "code",
   "execution_count": null,
   "id": "da284397",
   "metadata": {},
   "outputs": [],
   "source": []
  }
 ],
 "metadata": {
  "kernelspec": {
   "display_name": "Python 3 (ipykernel)",
   "language": "python",
   "name": "python3"
  },
  "language_info": {
   "codemirror_mode": {
    "name": "ipython",
    "version": 3
   },
   "file_extension": ".py",
   "mimetype": "text/x-python",
   "name": "python",
   "nbconvert_exporter": "python",
   "pygments_lexer": "ipython3",
   "version": "3.9.7"
  }
 },
 "nbformat": 4,
 "nbformat_minor": 5
}
