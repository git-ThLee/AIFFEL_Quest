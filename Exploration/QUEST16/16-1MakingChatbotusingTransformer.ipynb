{
 "cells": [
  {
   "cell_type": "markdown",
   "id": "445cb5d2",
   "metadata": {},
   "source": [
    "학습 목표: \n",
    "영어로 만들었던 챗봇을 한국어 데이터로 바꿔서 훈련."
   ]
  },
  {
   "cell_type": "code",
   "execution_count": 1,
   "id": "b9b264b5",
   "metadata": {},
   "outputs": [
    {
     "name": "stdout",
     "output_type": "stream",
     "text": [
      "2.6.0\n"
     ]
    }
   ],
   "source": [
    "# 디렉토리 확인하기 위해 호출함\n",
    "import os\n",
    "\n",
    "# dataframe 작업용\n",
    "import numpy as np\n",
    "import pandas as pd\n",
    "\n",
    "# sentence작업용\n",
    "import re\n",
    "\n",
    "# 데이터 분포 확인용\n",
    "import matplotlib.pyplot as plt\n",
    "\n",
    "# SubwordTextEncoder활용\n",
    "import tensorflow_datasets as tfds\n",
    "\n",
    "# 모델 학습 시\n",
    "from keras.callbacks import EarlyStopping \n",
    "\n",
    "\n",
    "import tensorflow as tf\n",
    "print(tf.__version__)"
   ]
  },
  {
   "cell_type": "code",
   "execution_count": null,
   "id": "e36f174f",
   "metadata": {},
   "outputs": [],
   "source": []
  },
  {
   "cell_type": "markdown",
   "id": "9f7ade5a",
   "metadata": {},
   "source": [
    "### Step 1: 데이터 수집하기"
   ]
  },
  {
   "cell_type": "code",
   "execution_count": 2,
   "id": "c34b119d",
   "metadata": {},
   "outputs": [
    {
     "data": {
      "text/plain": [
       "'/aiffel/aiffel/workplace/Aiffel_Quest/exploration/QUEST16'"
      ]
     },
     "execution_count": 2,
     "metadata": {},
     "output_type": "execute_result"
    }
   ],
   "source": [
    "os.getcwd()"
   ]
  },
  {
   "cell_type": "code",
   "execution_count": 3,
   "id": "65b97bc5",
   "metadata": {
    "scrolled": true
   },
   "outputs": [
    {
     "data": {
      "text/html": [
       "<div>\n",
       "<style scoped>\n",
       "    .dataframe tbody tr th:only-of-type {\n",
       "        vertical-align: middle;\n",
       "    }\n",
       "\n",
       "    .dataframe tbody tr th {\n",
       "        vertical-align: top;\n",
       "    }\n",
       "\n",
       "    .dataframe thead th {\n",
       "        text-align: right;\n",
       "    }\n",
       "</style>\n",
       "<table border=\"1\" class=\"dataframe\">\n",
       "  <thead>\n",
       "    <tr style=\"text-align: right;\">\n",
       "      <th></th>\n",
       "      <th>Q</th>\n",
       "      <th>A</th>\n",
       "      <th>label</th>\n",
       "    </tr>\n",
       "  </thead>\n",
       "  <tbody>\n",
       "    <tr>\n",
       "      <th>11818</th>\n",
       "      <td>훔쳐보는 것도 눈치 보임.</td>\n",
       "      <td>티가 나니까 눈치가 보이는 거죠!</td>\n",
       "      <td>2</td>\n",
       "    </tr>\n",
       "    <tr>\n",
       "      <th>11819</th>\n",
       "      <td>훔쳐보는 것도 눈치 보임.</td>\n",
       "      <td>훔쳐보는 거 티나나봐요.</td>\n",
       "      <td>2</td>\n",
       "    </tr>\n",
       "    <tr>\n",
       "      <th>11820</th>\n",
       "      <td>흑기사 해주는 짝남.</td>\n",
       "      <td>설렜겠어요.</td>\n",
       "      <td>2</td>\n",
       "    </tr>\n",
       "    <tr>\n",
       "      <th>11821</th>\n",
       "      <td>힘든 연애 좋은 연애라는게 무슨 차이일까?</td>\n",
       "      <td>잘 헤어질 수 있는 사이 여부인 거 같아요.</td>\n",
       "      <td>2</td>\n",
       "    </tr>\n",
       "    <tr>\n",
       "      <th>11822</th>\n",
       "      <td>힘들어서 결혼할까봐</td>\n",
       "      <td>도피성 결혼은 하지 않길 바라요.</td>\n",
       "      <td>2</td>\n",
       "    </tr>\n",
       "  </tbody>\n",
       "</table>\n",
       "</div>"
      ],
      "text/plain": [
       "                             Q                         A  label\n",
       "11818           훔쳐보는 것도 눈치 보임.        티가 나니까 눈치가 보이는 거죠!      2\n",
       "11819           훔쳐보는 것도 눈치 보임.             훔쳐보는 거 티나나봐요.      2\n",
       "11820              흑기사 해주는 짝남.                    설렜겠어요.      2\n",
       "11821  힘든 연애 좋은 연애라는게 무슨 차이일까?  잘 헤어질 수 있는 사이 여부인 거 같아요.      2\n",
       "11822               힘들어서 결혼할까봐        도피성 결혼은 하지 않길 바라요.      2"
      ]
     },
     "execution_count": 3,
     "metadata": {},
     "output_type": "execute_result"
    }
   ],
   "source": [
    "df = pd.read_csv('./ChatbotData.csv', encoding='utf-8')\n",
    "df.tail()"
   ]
  },
  {
   "cell_type": "markdown",
   "id": "2f1c10de",
   "metadata": {},
   "source": [
    "#### 데이터 dtype, 개수 확인"
   ]
  },
  {
   "cell_type": "code",
   "execution_count": 4,
   "id": "083a2a10",
   "metadata": {},
   "outputs": [
    {
     "data": {
      "text/plain": [
       "Q        object\n",
       "A        object\n",
       "label     int64\n",
       "dtype: object"
      ]
     },
     "execution_count": 4,
     "metadata": {},
     "output_type": "execute_result"
    }
   ],
   "source": [
    "df.dtypes"
   ]
  },
  {
   "cell_type": "code",
   "execution_count": 5,
   "id": "34062b11",
   "metadata": {},
   "outputs": [
    {
     "data": {
      "text/plain": [
       "Q        0\n",
       "A        0\n",
       "label    0\n",
       "dtype: int64"
      ]
     },
     "execution_count": 5,
     "metadata": {},
     "output_type": "execute_result"
    }
   ],
   "source": [
    "df.Q.nunique() # 11662, \n",
    "df.A.nunique() # 7779\n",
    "# Q와 A는 중복되는 값이 있다는 걸 알 수 있음.\n",
    "\n",
    "df.label.nunique() # 3\n",
    "df.isnull().sum() # 없음"
   ]
  },
  {
   "cell_type": "code",
   "execution_count": 6,
   "id": "cc160d54",
   "metadata": {},
   "outputs": [
    {
     "data": {
      "text/html": [
       "<div>\n",
       "<style scoped>\n",
       "    .dataframe tbody tr th:only-of-type {\n",
       "        vertical-align: middle;\n",
       "    }\n",
       "\n",
       "    .dataframe tbody tr th {\n",
       "        vertical-align: top;\n",
       "    }\n",
       "\n",
       "    .dataframe thead th {\n",
       "        text-align: right;\n",
       "    }\n",
       "</style>\n",
       "<table border=\"1\" class=\"dataframe\">\n",
       "  <thead>\n",
       "    <tr style=\"text-align: right;\">\n",
       "      <th></th>\n",
       "      <th>Q</th>\n",
       "      <th>A</th>\n",
       "    </tr>\n",
       "    <tr>\n",
       "      <th>label</th>\n",
       "      <th></th>\n",
       "      <th></th>\n",
       "    </tr>\n",
       "  </thead>\n",
       "  <tbody>\n",
       "    <tr>\n",
       "      <th>0</th>\n",
       "      <td>5290</td>\n",
       "      <td>5290</td>\n",
       "    </tr>\n",
       "    <tr>\n",
       "      <th>1</th>\n",
       "      <td>3570</td>\n",
       "      <td>3570</td>\n",
       "    </tr>\n",
       "    <tr>\n",
       "      <th>2</th>\n",
       "      <td>2963</td>\n",
       "      <td>2963</td>\n",
       "    </tr>\n",
       "  </tbody>\n",
       "</table>\n",
       "</div>"
      ],
      "text/plain": [
       "          Q     A\n",
       "label            \n",
       "0      5290  5290\n",
       "1      3570  3570\n",
       "2      2963  2963"
      ]
     },
     "execution_count": 6,
     "metadata": {},
     "output_type": "execute_result"
    }
   ],
   "source": [
    "df.groupby(['label']).count()\n",
    "# 라벨의 의미가 긍정, 부정, 모호함\n",
    "# 감성분석이외에는 라벨의 의미가..? 그래서 사용하지 않음"
   ]
  },
  {
   "cell_type": "code",
   "execution_count": null,
   "id": "b0aaffd1",
   "metadata": {},
   "outputs": [],
   "source": []
  },
  {
   "cell_type": "markdown",
   "id": "412578ab",
   "metadata": {},
   "source": [
    "### Step 2: 데이터 전처리하기"
   ]
  },
  {
   "cell_type": "code",
   "execution_count": 7,
   "id": "760c20a6",
   "metadata": {},
   "outputs": [
    {
     "name": "stdout",
     "output_type": "stream",
     "text": [
      "gogo\n"
     ]
    }
   ],
   "source": [
    "# 전처리 함수\n",
    "def preprocess_sentence(sentence):\n",
    "    sentence = sentence.strip()\n",
    "    # 단어와 구두점(punctuation) 사이의 거리를 만듭니다.\n",
    "    # 예를 들어서 \"I am a student.\" => \"I am a student .\"와 같이\n",
    "    # student와 온점 사이에 거리를 만듭니다.\n",
    "    sentence = re.sub(r\"([?.!,])\", r\" \\1 \", sentence)\n",
    "    sentence = re.sub(r'[\" \"]+', \" \", sentence)\n",
    "\n",
    "    # (0-9, ㄱ-ㅎ, 가-힣, a-z, A-Z, \".\", \"?\", \"!\", \",\")를 제외한 모든 문자를 공백인 ' '로 대체합니다.\n",
    "    sentence = re.sub(r\"[^0-9ㄱ-ㅎ가-힣a-zA-Z?.!,]+\", \" \", sentence)\n",
    "    sentence = re.sub(r'[0-9]+', \"1\", sentence)\n",
    "    sentence = sentence.strip()\n",
    "    return sentence\n",
    "\n",
    "print(\"gogo\")"
   ]
  },
  {
   "cell_type": "code",
   "execution_count": 8,
   "id": "023fe7e9",
   "metadata": {},
   "outputs": [
    {
     "name": "stdout",
     "output_type": "stream",
     "text": [
      "gogo\n"
     ]
    }
   ],
   "source": [
    "# 질문과 답변의 쌍인 데이터셋을 구성하기 위한 데이터 로드 함수\n",
    "def load_conversations(df):\n",
    "    inputs, outputs = [], []\n",
    "#     df.drop_duplicates(subset = ['Q'], inplace=True) # 할때 안할때 결과가 달라짐.\n",
    "    df.drop_duplicates(subset = ['A'], inplace=True)\n",
    "    for i in range(len(df)):\n",
    "#     for i in range(len(df)-1):\n",
    "        inputs.append(preprocess_sentence(df['Q'].values[i]))\n",
    "        outputs.append(preprocess_sentence(df['A'].values[i]))\n",
    "                \n",
    "    return inputs, outputs\n",
    "\n",
    "print(\"gogo\")"
   ]
  },
  {
   "cell_type": "code",
   "execution_count": 9,
   "id": "aa8dacf2",
   "metadata": {},
   "outputs": [
    {
     "name": "stdout",
     "output_type": "stream",
     "text": [
      "전체 샘플 수 : 7779\n",
      "전체 샘플 수 : 7779\n",
      "전처리 후의 22번째 질문 샘플: 가족들이랑 서먹해\n",
      "전처리 후의 22번째 답변 샘플: 다들 바빠서 이야기할 시간이 부족했나봐요 .\n"
     ]
    }
   ],
   "source": [
    "# 데이터를 로드하고 전처리하여 질문을 questions, 답변을 answers에 저장합니다.\n",
    "questions, answers = load_conversations(df)\n",
    "print('전체 샘플 수 :', len(questions))\n",
    "print('전체 샘플 수 :', len(answers))\n",
    "\n",
    "print('전처리 후의 22번째 질문 샘플: {}'.format(questions[21]))\n",
    "print('전처리 후의 22번째 답변 샘플: {}'.format(answers[21]))"
   ]
  },
  {
   "cell_type": "code",
   "execution_count": null,
   "id": "860cc57b",
   "metadata": {},
   "outputs": [],
   "source": []
  },
  {
   "cell_type": "markdown",
   "id": "14938373",
   "metadata": {},
   "source": [
    "### Step 3: SubwordTextEncoder 사용하기"
   ]
  },
  {
   "cell_type": "code",
   "execution_count": 10,
   "id": "2aa28cf8",
   "metadata": {},
   "outputs": [
    {
     "name": "stdout",
     "output_type": "stream",
     "text": [
      "START_TOKEN의 번호: [7779]\n",
      "END_TOKEN의 번호: [7780]\n",
      "VOCAB_SIZE: 7781\n",
      "정수 인코딩 후의 21번째 질문 샘플: [3786, 1097, 147, 546, 30]\n",
      "정수 인코딩 후의 21번째 답변 샘플: [1579, 6658, 5862, 7555, 71, 2780, 765, 1]\n"
     ]
    }
   ],
   "source": [
    "tokenizer = tfds.deprecated.text.SubwordTextEncoder.build_from_corpus(questions + answers, target_vocab_size=2**13)\n",
    "\n",
    "# 시작 토큰과 종료 토큰에 고유한 정수를 부여\n",
    "START_TOKEN, END_TOKEN = [tokenizer.vocab_size], [tokenizer.vocab_size + 1]\n",
    "print('START_TOKEN의 번호:' ,[tokenizer.vocab_size])\n",
    "print('END_TOKEN의 번호:' ,[tokenizer.vocab_size + 1])\n",
    "\n",
    "# 시작 토큰과 종료 토큰을 고려하여 +2를 하여 단어장의 크기를 산정합니다.\n",
    "VOCAB_SIZE = tokenizer.vocab_size + 2\n",
    "print('VOCAB_SIZE:', VOCAB_SIZE)\n",
    "\n",
    "# 예시_임의의 22번째 샘플에 대해서 정수 인코딩 작업을 수행.\n",
    "# 각 토큰을 고유한 정수로 변환\n",
    "print('정수 인코딩 후의 21번째 질문 샘플: {}'.format(tokenizer.encode(questions[21])))\n",
    "print('정수 인코딩 후의 21번째 답변 샘플: {}'.format(tokenizer.encode(answers[21])))"
   ]
  },
  {
   "cell_type": "code",
   "execution_count": 11,
   "id": "6c3cc897",
   "metadata": {},
   "outputs": [
    {
     "name": "stdout",
     "output_type": "stream",
     "text": [
      "num_tokens길이: 15558\n",
      "문장길이 최소: 1\n",
      "문장길이 최대: 29\n",
      "문장길이 평균: 5.946201311222522\n",
      "문장길이 표준편차: 2.6071333426685572\n",
      "MAX_LENGTH: 13\n",
      "전체 문장의 0.9865663967090885%가 maxlen 설정값 이내에 포함됩니다. \n"
     ]
    },
    {
     "data": {
      "image/png": "[encoded data removed]",
      "text/plain": [
       "<Figure size 432x288 with 1 Axes>"
      ]
     },
     "metadata": {
      "needs_background": "light"
     },
     "output_type": "display_data"
    }
   ],
   "source": [
    "# 데이터셋 내 문장 길이 분포 확인\n",
    "total_data_text = questions + answers\n",
    "num_tokens = [len(tokenizer.encode(text)) for text in total_data_text] # 할때랑 결과가 달라짐\n",
    "# num_tokens = [len(tokens) for tokens in total_data_text] # 34\n",
    "num_tokens = np.array(num_tokens)\n",
    "print(\"num_tokens길이:\", len(num_tokens))  \n",
    "\n",
    "# 문장길이의 최소값, 최대값, 평균값, 표준편차, \n",
    "# text summarization이 주제가아니라서 단어 수의 분포를 볼 필요는 없지만 대략적인 파악을 위해 실행했음.\n",
    "print('문장길이 최소:', np.min(num_tokens))\n",
    "print('문장길이 최대:', np.max(num_tokens))\n",
    "print('문장길이 평균:', np.mean(num_tokens))\n",
    "print('문장길이 표준편차:', np.std(num_tokens))\n",
    "\n",
    "# 최대 길이를 (평균 + 3*표준편차)로 한다면,  \n",
    "max_tokens = np.mean(num_tokens) + 3*np.std(num_tokens)\n",
    "MAX_LENGTH = int(max_tokens)  # 10쯤으로 잡을때 accuray가 높아짐, 13미만\n",
    "print(\"MAX_LENGTH:\", MAX_LENGTH)\n",
    "print(f'전체 문장의 {np.sum(num_tokens < max_tokens) / len(num_tokens)}%가 maxlen 설정값 이내에 포함됩니다. ')\n",
    "\n",
    "plt.hist(num_tokens, bins=100)\n",
    "plt.show()"
   ]
  },
  {
   "cell_type": "markdown",
   "id": "0928e1ed",
   "metadata": {
    "scrolled": true
   },
   "source": [
    "이거 2가지가 실험대상 <br>\n",
    "1. num_tokens = [len(tokens) for tokens in total_data_text] <br>\n",
    "    print(\"num_tokens:\", num_tokens) <br> <br>\n",
    "\n",
    "2. num_tokens2 = [len(tokenizer.encode(text)) for text in total_data_text] <br>\n",
    "    print(\"num_tokens2:\", num_tokens2) "
   ]
  },
  {
   "cell_type": "code",
   "execution_count": 12,
   "id": "da74dd7f",
   "metadata": {},
   "outputs": [],
   "source": [
    "MAX_LENGTH = 10\n",
    "\n",
    "# 위의 데이터 분포에 따라서 MAX_LENGTH를 달리 해줘야 하지만, 성능이 너무 안나오길래 전폭적으로 줄였다."
   ]
  },
  {
   "cell_type": "code",
   "execution_count": 13,
   "id": "d555b16a",
   "metadata": {},
   "outputs": [
    {
     "name": "stdout",
     "output_type": "stream",
     "text": [
      "gogo\n"
     ]
    }
   ],
   "source": [
    "# 정수 인코딩, 최대 길이를 초과하는 샘플 제거, 패딩\n",
    "# 최대 길이를 초과하는 부분은 사실 위에서 했지만, 한번더!\n",
    "def tokenize_and_filter(inputs, outputs):\n",
    "    tokenized_inputs, tokenized_outputs = [], []\n",
    "\n",
    "    for (sentence1, sentence2) in zip(inputs, outputs):\n",
    "        # 정수 인코딩 과정에서 시작 토큰과 종료 토큰을 추가\n",
    "        sentence1 = START_TOKEN + tokenizer.encode(sentence1) + END_TOKEN\n",
    "        sentence2 = START_TOKEN + tokenizer.encode(sentence2) + END_TOKEN\n",
    "\n",
    "        # 최대 길이 40 이하인 경우에만 데이터셋으로 허용\n",
    "        if len(sentence1) <= MAX_LENGTH and len(sentence2) <= MAX_LENGTH:\n",
    "            tokenized_inputs.append(sentence1)\n",
    "            tokenized_outputs.append(sentence2)\n",
    "\n",
    "    # 최대 길이 40으로 모든 데이터셋을 패딩\n",
    "    tokenized_inputs = tf.keras.preprocessing.sequence.pad_sequences(tokenized_inputs, maxlen=MAX_LENGTH, padding='post')\n",
    "    tokenized_outputs = tf.keras.preprocessing.sequence.pad_sequences(tokenized_outputs, maxlen=MAX_LENGTH, padding='post')\n",
    "\n",
    "    return tokenized_inputs, tokenized_outputs\n",
    "print(\"gogo\")"
   ]
  },
  {
   "cell_type": "code",
   "execution_count": 14,
   "id": "027091a3",
   "metadata": {},
   "outputs": [
    {
     "name": "stdout",
     "output_type": "stream",
     "text": [
      "단어장의 크기 : 7781\n",
      "필터링 후의 질문 샘플 개수: 5754\n",
      "필터링 후의 답변 샘플 개수: 5754\n"
     ]
    }
   ],
   "source": [
    "questions, answers = tokenize_and_filter(questions, answers)\n",
    "print('단어장의 크기 :',(VOCAB_SIZE))\n",
    "print('필터링 후의 질문 샘플 개수: {}'.format(len(questions)))\n",
    "print('필터링 후의 답변 샘플 개수: {}'.format(len(answers)))"
   ]
  },
  {
   "cell_type": "code",
   "execution_count": 15,
   "id": "4ac62783",
   "metadata": {},
   "outputs": [
    {
     "name": "stdout",
     "output_type": "stream",
     "text": [
      "gogo\n"
     ]
    }
   ],
   "source": [
    "# 교사학습(=하드코딩)을 해준다. 이게 바로 주입식 교육의 장점인가 싶다.\n",
    "BATCH_SIZE = 64\n",
    "BUFFER_SIZE = 20000\n",
    "\n",
    "# 디코더는 이전의 target을 다음의 input으로 사용합니다.\n",
    "# 이에 따라 outputs에서는 START_TOKEN을 제거하겠습니다.\n",
    "dataset = tf.data.Dataset.from_tensor_slices((\n",
    "    {\n",
    "        'inputs': questions,\n",
    "        'dec_inputs': answers[:, :-1]\n",
    "    },\n",
    "    {\n",
    "        'outputs': answers[:, 1:]\n",
    "    },\n",
    "))\n",
    "\n",
    "dataset = dataset.cache()\n",
    "dataset = dataset.shuffle(BUFFER_SIZE)\n",
    "dataset = dataset.batch(BATCH_SIZE)\n",
    "dataset = dataset.prefetch(tf.data.experimental.AUTOTUNE)\n",
    "print(\"gogo\")"
   ]
  },
  {
   "cell_type": "code",
   "execution_count": null,
   "id": "e1ba88e0",
   "metadata": {},
   "outputs": [],
   "source": []
  },
  {
   "cell_type": "markdown",
   "id": "c9e97e15",
   "metadata": {},
   "source": [
    "### Step 4: 모델 구성하기"
   ]
  },
  {
   "cell_type": "markdown",
   "id": "ff69b340",
   "metadata": {},
   "source": [
    "#### Transformer 모델\n",
    "1. PositionalEncoding\n",
    "2. MultiHeadAttention (Scaled_dot_product_attention) "
   ]
  },
  {
   "cell_type": "code",
   "execution_count": 16,
   "id": "22cf7acb",
   "metadata": {},
   "outputs": [
    {
     "name": "stdout",
     "output_type": "stream",
     "text": [
      "gogo\n"
     ]
    }
   ],
   "source": [
    "# 1. PositionalEncoding\n",
    "# 포지셔널 인코딩 레이어\n",
    "class PositionalEncoding(tf.keras.layers.Layer):\n",
    "\n",
    "    def __init__(self, position, d_model):\n",
    "        super(PositionalEncoding, self).__init__()\n",
    "        self.pos_encoding = self.positional_encoding(position, d_model)\n",
    "\n",
    "    def get_angles(self, position, i, d_model):\n",
    "        angles = 1 / tf.pow(10000, (2 * (i // 2)) / tf.cast(d_model, tf.float32))\n",
    "        return position * angles\n",
    "\n",
    "    def positional_encoding(self, position, d_model):\n",
    "        # 각도 배열 생성\n",
    "        angle_rads = self.get_angles(\n",
    "            position=tf.range(position, dtype=tf.float32)[:, tf.newaxis],\n",
    "            i=tf.range(d_model, dtype=tf.float32)[tf.newaxis, :],\n",
    "            d_model=d_model)\n",
    "\n",
    "        # 배열의 짝수 인덱스에는 sin 함수 적용\n",
    "        sines = tf.math.sin(angle_rads[:, 0::2])\n",
    "        # 배열의 홀수 인덱스에는 cosine 함수 적용\n",
    "        cosines = tf.math.cos(angle_rads[:, 1::2])\n",
    "\n",
    "        # sin과 cosine이 교차되도록 재배열\n",
    "        pos_encoding = tf.stack([sines, cosines], axis=0)\n",
    "        pos_encoding = tf.transpose(pos_encoding,[1, 2, 0]) \n",
    "        pos_encoding = tf.reshape(pos_encoding, [position, d_model])\n",
    "\n",
    "        pos_encoding = pos_encoding[tf.newaxis, ...]\n",
    "        return tf.cast(pos_encoding, tf.float32)\n",
    "\n",
    "    def call(self, inputs):\n",
    "        return inputs + self.pos_encoding[:, :tf.shape(inputs)[1], :]\n",
    "\n",
    "print(\"gogo\")"
   ]
  },
  {
   "cell_type": "code",
   "execution_count": 17,
   "id": "718507b1",
   "metadata": {},
   "outputs": [
    {
     "data": {
      "image/png": "[encoded data removed]",
      "text/plain": [
       "<Figure size 432x288 with 2 Axes>"
      ]
     },
     "metadata": {
      "needs_background": "light"
     },
     "output_type": "display_data"
    }
   ],
   "source": [
    "# sample_pos_encoding = PositionalEncoding(50, 128)\n",
    "sample_pos_encoding = PositionalEncoding(30, 256)\n",
    "\n",
    "plt.pcolormesh(sample_pos_encoding.pos_encoding.numpy()[0], cmap='RdBu')\n",
    "plt.xlabel('Depth')\n",
    "plt.xlim((0, 512))\n",
    "plt.ylabel('Position')\n",
    "plt.colorbar()\n",
    "plt.show()"
   ]
  },
  {
   "cell_type": "code",
   "execution_count": 18,
   "id": "dabc0a2b",
   "metadata": {},
   "outputs": [],
   "source": [
    "# 2. MultiHeadAttention (Scaled_dot_product_attention) \n",
    "# 스케일드 닷 프로덕트 어텐션 함수\n",
    "def scaled_dot_product_attention(query, key, value, mask):\n",
    "    # 어텐션 가중치는 Q와 K의 닷 프로덕트\n",
    "    matmul_qk = tf.matmul(query, key, transpose_b=True)\n",
    "\n",
    "    # 가중치를 정규화\n",
    "    depth = tf.cast(tf.shape(key)[-1], tf.float32)\n",
    "    logits = matmul_qk / tf.math.sqrt(depth)\n",
    "\n",
    "    # 패딩에 마스크 추가\n",
    "    if mask is not None:\n",
    "        logits += (mask * -1e9)\n",
    "\n",
    "    # softmax적용\n",
    "    attention_weights = tf.nn.softmax(logits, axis=-1)\n",
    "\n",
    "    # 최종 어텐션은 가중치와 V의 닷 프로덕트\n",
    "    output = tf.matmul(attention_weights, value)\n",
    "    return output"
   ]
  },
  {
   "cell_type": "code",
   "execution_count": 19,
   "id": "e2067d56",
   "metadata": {},
   "outputs": [],
   "source": [
    "class MultiHeadAttention(tf.keras.layers.Layer):\n",
    "\n",
    "    def __init__(self, d_model, num_heads, name=\"multi_head_attention\"):\n",
    "        super(MultiHeadAttention, self).__init__(name=name)\n",
    "        self.num_heads = num_heads\n",
    "        self.d_model = d_model\n",
    "\n",
    "        assert d_model % self.num_heads == 0\n",
    "\n",
    "        self.depth = d_model // self.num_heads\n",
    "\n",
    "        self.query_dense = tf.keras.layers.Dense(units=d_model)\n",
    "        self.key_dense = tf.keras.layers.Dense(units=d_model)\n",
    "        self.value_dense = tf.keras.layers.Dense(units=d_model)\n",
    "\n",
    "        self.dense = tf.keras.layers.Dense(units=d_model)\n",
    "\n",
    "    def split_heads(self, inputs, batch_size):\n",
    "        inputs = tf.reshape(\n",
    "            inputs, shape=(batch_size, -1, self.num_heads, self.depth))\n",
    "        return tf.transpose(inputs, perm=[0, 2, 1, 3])\n",
    "\n",
    "    def call(self, inputs):\n",
    "        query, key, value, mask = inputs['query'], inputs['key'], inputs[\n",
    "            'value'], inputs['mask']\n",
    "        batch_size = tf.shape(query)[0]\n",
    "\n",
    "        # Q, K, V에 각각 Dense를 적용합니다\n",
    "        query = self.query_dense(query)\n",
    "        key = self.key_dense(key)\n",
    "        value = self.value_dense(value)\n",
    "\n",
    "        # 병렬 연산을 위한 머리를 여러 개 만듭니다\n",
    "        query = self.split_heads(query,batch_size)\n",
    "        key = self.split_heads(key,batch_size)\n",
    "        value = self.split_heads(value,batch_size)\n",
    "        \n",
    "        # 스케일드 닷 프로덕트 어텐션 함수\n",
    "        scaled_attention = scaled_dot_product_attention(query, key, value, mask)\n",
    "\n",
    "        scaled_attention = tf.transpose(scaled_attention, perm=[0, 2, 1, 3])\n",
    "\n",
    "        # 어텐션 연산 후에 각 결과를 다시 연결(concatenate)합니다\n",
    "        concat_attention = tf.reshape(scaled_attention,\n",
    "                                      (batch_size, -1, self.d_model))\n",
    "\n",
    "        # 최종 결과에도 Dense를 한 번 더 적용합니다\n",
    "        outputs = self.dense(concat_attention)\n",
    "\n",
    "        return outputs"
   ]
  },
  {
   "cell_type": "markdown",
   "id": "f38c3b84",
   "metadata": {},
   "source": [
    "#### 마스킹"
   ]
  },
  {
   "cell_type": "code",
   "execution_count": 20,
   "id": "363f6886",
   "metadata": {},
   "outputs": [],
   "source": [
    "# 패딩 마스킹(Padding Masking)\n",
    "def create_padding_mask(x):\n",
    "    mask = tf.cast(tf.math.equal(x, 0), tf.float32)\n",
    "    # (batch_size, 1, 1, sequence length)\n",
    "    return mask[:, tf.newaxis, tf.newaxis, :]\n",
    "\n",
    "# 룩 어헤드 마스킹(Look-ahead masking, 다음 단어 가리기)\n",
    "def create_look_ahead_mask(x):\n",
    "    seq_len = tf.shape(x)[1]\n",
    "    look_ahead_mask = 1 - tf.linalg.band_part(tf.ones((seq_len, seq_len)), -1, 0)\n",
    "    padding_mask = create_padding_mask(x)\n",
    "    return tf.maximum(look_ahead_mask, padding_mask)"
   ]
  },
  {
   "cell_type": "markdown",
   "id": "dd715b0e",
   "metadata": {},
   "source": [
    "#### 인코딩"
   ]
  },
  {
   "cell_type": "code",
   "execution_count": 21,
   "id": "c7fba519",
   "metadata": {},
   "outputs": [],
   "source": [
    "# 인코더 하나의 레이어를 함수로 구현.\n",
    "# 이 하나의 레이어 안에는 두 개의 서브 레이어가 존재합니다.\n",
    "def encoder_layer(units, d_model, num_heads, dropout, name=\"encoder_layer\"):\n",
    "    inputs = tf.keras.Input(shape=(None, d_model), name=\"inputs\")\n",
    "\n",
    "    # 패딩 마스크 사용\n",
    "    padding_mask = tf.keras.Input(shape=(1, 1, None), name=\"padding_mask\")\n",
    "\n",
    "    # 첫 번째 서브 레이어 : 멀티 헤드 어텐션 수행 (셀프 어텐션)\n",
    "    attention = MultiHeadAttention(\n",
    "        d_model, num_heads, name=\"attention\")({\n",
    "          'query': inputs,\n",
    "          'key': inputs,\n",
    "          'value': inputs,\n",
    "          'mask': padding_mask\n",
    "        })\n",
    "\n",
    "    # 어텐션의 결과는 Dropout과 Layer Normalization이라는 훈련을 돕는 테크닉을 수행\n",
    "    attention = tf.keras.layers.Dropout(rate=dropout)(attention)\n",
    "    attention = tf.keras.layers.LayerNormalization(\n",
    "        epsilon=1e-6)(inputs + attention)\n",
    "\n",
    "    # 두 번째 서브 레이어 : 2개의 완전연결층\n",
    "    outputs = tf.keras.layers.Dense(units=units, activation='relu')(attention)\n",
    "    outputs = tf.keras.layers.Dense(units=d_model)(outputs)\n",
    "\n",
    "    # 완전연결층의 결과는 Dropout과 LayerNormalization이라는 훈련을 돕는 테크닉을 수행\n",
    "    outputs = tf.keras.layers.Dropout(rate=dropout)(outputs)\n",
    "    outputs = tf.keras.layers.LayerNormalization(\n",
    "        epsilon=1e-6)(attention + outputs)\n",
    "\n",
    "    return tf.keras.Model(\n",
    "      inputs=[inputs, padding_mask], outputs=outputs, name=name)"
   ]
  },
  {
   "cell_type": "code",
   "execution_count": 22,
   "id": "7f2230cf",
   "metadata": {},
   "outputs": [],
   "source": [
    "def encoder(vocab_size,\n",
    "            num_layers,\n",
    "            units,\n",
    "            d_model,\n",
    "            num_heads,\n",
    "            dropout,\n",
    "            name=\"encoder\"):\n",
    "    inputs = tf.keras.Input(shape=(None,), name=\"inputs\")\n",
    "\n",
    "    # 패딩 마스크 사용\n",
    "    padding_mask = tf.keras.Input(shape=(1, 1, None), name=\"padding_mask\")\n",
    "\n",
    "    # 임베딩 레이어\n",
    "    embeddings = tf.keras.layers.Embedding(vocab_size, d_model)(inputs)\n",
    "    embeddings *= tf.math.sqrt(tf.cast(d_model, tf.float32))\n",
    "\n",
    "    # 포지셔널 인코딩\n",
    "    embeddings = PositionalEncoding(vocab_size, d_model)(embeddings)\n",
    "\n",
    "    outputs = tf.keras.layers.Dropout(rate=dropout)(embeddings)\n",
    "\n",
    "    # num_layers만큼 쌓아올린 인코더의 층.\n",
    "    for i in range(num_layers):\n",
    "        outputs = encoder_layer(\n",
    "            units=units,\n",
    "            d_model=d_model,\n",
    "            num_heads=num_heads,\n",
    "            dropout=dropout,\n",
    "            name=\"encoder_layer_{}\".format(i),\n",
    "        )([outputs, padding_mask])\n",
    "\n",
    "        return tf.keras.Model(\n",
    "            inputs=[inputs, padding_mask], outputs=outputs, name=name)"
   ]
  },
  {
   "cell_type": "code",
   "execution_count": 23,
   "id": "f0c4accd",
   "metadata": {},
   "outputs": [
    {
     "name": "stdout",
     "output_type": "stream",
     "text": [
      "gogo\n"
     ]
    }
   ],
   "source": [
    "# 디코더 하나의 레이어를 함수로 구현.\n",
    "# 이 하나의 레이어 안에는 세 개의 서브 레이어가 존재합니다.\n",
    "def decoder_layer(units, d_model, num_heads, dropout, name=\"decoder_layer\"):\n",
    "    inputs = tf.keras.Input(shape=(None, d_model), name=\"inputs\")\n",
    "    enc_outputs = tf.keras.Input(shape=(None, d_model), name=\"encoder_outputs\")\n",
    "    look_ahead_mask = tf.keras.Input(\n",
    "      shape=(1, None, None), name=\"look_ahead_mask\")\n",
    "    padding_mask = tf.keras.Input(shape=(1, 1, None), name='padding_mask')\n",
    "\n",
    "    # 첫 번째 서브 레이어 : 멀티 헤드 어텐션 수행 (셀프 어텐션)\n",
    "    attention1 = MultiHeadAttention(\n",
    "      d_model, num_heads, name=\"attention_1\")(inputs={\n",
    "          'query': inputs,\n",
    "          'key': inputs,\n",
    "          'value': inputs,\n",
    "          'mask': look_ahead_mask\n",
    "      })\n",
    "\n",
    "    # 멀티 헤드 어텐션의 결과는 LayerNormalization이라는 훈련을 돕는 테크닉을 수행\n",
    "    attention1 = tf.keras.layers.LayerNormalization(\n",
    "      epsilon=1e-6)(attention1 + inputs)\n",
    "\n",
    "    # 두 번째 서브 레이어 : 마스크드 멀티 헤드 어텐션 수행 (인코더-디코더 어텐션)\n",
    "    attention2 = MultiHeadAttention(\n",
    "      d_model, num_heads, name=\"attention_2\")(inputs={\n",
    "          'query': attention1,\n",
    "          'key': enc_outputs,\n",
    "          'value': enc_outputs,\n",
    "          'mask': padding_mask\n",
    "      })\n",
    "\n",
    "    # 마스크드 멀티 헤드 어텐션의 결과는\n",
    "    # Dropout과 LayerNormalization이라는 훈련을 돕는 테크닉을 수행\n",
    "    attention2 = tf.keras.layers.Dropout(rate=dropout)(attention2)\n",
    "    attention2 = tf.keras.layers.LayerNormalization(\n",
    "      epsilon=1e-6)(attention2 + attention1)\n",
    "\n",
    "    # 세 번째 서브 레이어 : 2개의 완전연결층\n",
    "    outputs = tf.keras.layers.Dense(units=units, activation='relu')(attention2)\n",
    "    outputs = tf.keras.layers.Dense(units=d_model)(outputs)\n",
    "\n",
    "    # 완전연결층의 결과는 Dropout과 LayerNormalization 수행\n",
    "    outputs = tf.keras.layers.Dropout(rate=dropout)(outputs)\n",
    "    outputs = tf.keras.layers.LayerNormalization(\n",
    "      epsilon=1e-6)(outputs + attention2)\n",
    "\n",
    "    return tf.keras.Model(\n",
    "      inputs=[inputs, enc_outputs, look_ahead_mask, padding_mask],\n",
    "      outputs=outputs,\n",
    "      name=name)\n",
    "print(\"gogo\")"
   ]
  },
  {
   "cell_type": "code",
   "execution_count": 24,
   "id": "e858412f",
   "metadata": {},
   "outputs": [
    {
     "name": "stdout",
     "output_type": "stream",
     "text": [
      "gogo\n"
     ]
    }
   ],
   "source": [
    "def decoder(vocab_size,\n",
    "            num_layers,\n",
    "            units,\n",
    "            d_model,\n",
    "            num_heads,\n",
    "            dropout,\n",
    "            name='decoder'):\n",
    "    inputs = tf.keras.Input(shape=(None,), name='inputs')\n",
    "    enc_outputs = tf.keras.Input(shape=(None, d_model), name='encoder_outputs')\n",
    "    look_ahead_mask = tf.keras.Input(\n",
    "      shape=(1, None, None), name='look_ahead_mask')\n",
    "\n",
    "    # 패딩 마스크\n",
    "    padding_mask = tf.keras.Input(shape=(1, 1, None), name='padding_mask')\n",
    "\n",
    "    # 임베딩 레이어\n",
    "    embeddings = tf.keras.layers.Embedding(vocab_size, d_model)(inputs)\n",
    "    embeddings *= tf.math.sqrt(tf.cast(d_model, tf.float32))\n",
    "\n",
    "    # 포지셔널 인코딩\n",
    "    embeddings = PositionalEncoding(vocab_size, d_model)(embeddings)\n",
    "\n",
    "    # Dropout이라는 훈련을 돕는 테크닉을 수행\n",
    "    outputs = tf.keras.layers.Dropout(rate=dropout)(embeddings)\n",
    "\n",
    "    for i in range(num_layers):\n",
    "        outputs = decoder_layer(\n",
    "            units=units,\n",
    "            d_model=d_model,\n",
    "            num_heads=num_heads,\n",
    "            dropout=dropout,\n",
    "            name='decoder_layer_{}'.format(i),\n",
    "        )(inputs=[outputs, enc_outputs, look_ahead_mask, padding_mask])\n",
    "\n",
    "    return tf.keras.Model(\n",
    "      inputs=[inputs, enc_outputs, look_ahead_mask, padding_mask],\n",
    "      outputs=outputs,\n",
    "      name=name)\n",
    "\n",
    "print(\"gogo\")"
   ]
  },
  {
   "cell_type": "markdown",
   "id": "bf7fc8d4",
   "metadata": {},
   "source": [
    "#### transformer"
   ]
  },
  {
   "cell_type": "code",
   "execution_count": 25,
   "id": "c730ea95",
   "metadata": {},
   "outputs": [
    {
     "name": "stdout",
     "output_type": "stream",
     "text": [
      "gogo\n"
     ]
    }
   ],
   "source": [
    "def transformer(vocab_size, num_layers, units, d_model, num_heads, dropout, name=\"transformer\"):\n",
    "    \n",
    "    inputs = tf.keras.Input(shape=(None,), name=\"inputs\")\n",
    "    dec_inputs = tf.keras.Input(shape=(None,), name=\"dec_inputs\")\n",
    "\n",
    "    # 인코더에서 패딩을 위한 마스크\n",
    "    enc_padding_mask = tf.keras.layers.Lambda(create_padding_mask, output_shape=(1, 1, None),\n",
    "                                                name='enc_padding_mask')(inputs)\n",
    "\n",
    "    # 디코더에서 미래의 토큰을 마스크 하기 위해서 사용합니다.\n",
    "    # 내부적으로 패딩 마스크도 포함되어져 있습니다.\n",
    "    look_ahead_mask = tf.keras.layers.Lambda(create_look_ahead_mask,\n",
    "                                              output_shape=(1, None, None),\n",
    "                                              name='look_ahead_mask')(dec_inputs)\n",
    "\n",
    "    # 두 번째 어텐션 블록에서 인코더의 벡터들을 마스킹\n",
    "    # 디코더에서 패딩을 위한 마스크\n",
    "    dec_padding_mask = tf.keras.layers.Lambda(create_padding_mask, output_shape=(1, 1, None), \n",
    "                                                name='dec_padding_mask')(inputs)\n",
    "\n",
    "    # 인코더\n",
    "    enc_outputs = encoder(vocab_size=vocab_size,\n",
    "                          num_layers=num_layers,\n",
    "                          units=units,\n",
    "                          d_model=d_model,\n",
    "                          num_heads=num_heads,\n",
    "                          dropout=dropout,)(inputs=[inputs, enc_padding_mask])\n",
    "\n",
    "    # 디코더\n",
    "    dec_outputs = decoder(vocab_size=vocab_size,\n",
    "                          num_layers=num_layers,\n",
    "                          units=units,\n",
    "                          d_model=d_model,\n",
    "                          num_heads=num_heads,\n",
    "                          dropout=dropout,)(inputs=[dec_inputs, enc_outputs, look_ahead_mask, dec_padding_mask])\n",
    "\n",
    "    # 완전연결층\n",
    "    outputs = tf.keras.layers.Dense(units=vocab_size, name=\"outputs\")(dec_outputs)\n",
    "\n",
    "    return tf.keras.Model(inputs=[inputs, dec_inputs], outputs=outputs, name=name)\n",
    "\n",
    "\n",
    "\n",
    "print(\"gogo\")"
   ]
  },
  {
   "cell_type": "code",
   "execution_count": 26,
   "id": "05066e43",
   "metadata": {},
   "outputs": [
    {
     "name": "stdout",
     "output_type": "stream",
     "text": [
      "Model: \"transformer\"\n",
      "__________________________________________________________________________________________________\n",
      "Layer (type)                    Output Shape         Param #     Connected to                     \n",
      "==================================================================================================\n",
      "inputs (InputLayer)             [(None, None)]       0                                            \n",
      "__________________________________________________________________________________________________\n",
      "dec_inputs (InputLayer)         [(None, None)]       0                                            \n",
      "__________________________________________________________________________________________________\n",
      "enc_padding_mask (Lambda)       (None, 1, 1, None)   0           inputs[0][0]                     \n",
      "__________________________________________________________________________________________________\n",
      "encoder (Functional)            (None, None, 256)    2519040     inputs[0][0]                     \n",
      "                                                                 enc_padding_mask[0][0]           \n",
      "__________________________________________________________________________________________________\n",
      "look_ahead_mask (Lambda)        (None, 1, None, None 0           dec_inputs[0][0]                 \n",
      "__________________________________________________________________________________________________\n",
      "dec_padding_mask (Lambda)       (None, 1, 1, None)   0           inputs[0][0]                     \n",
      "__________________________________________________________________________________________________\n",
      "decoder (Functional)            (None, None, 256)    3573504     dec_inputs[0][0]                 \n",
      "                                                                 encoder[0][0]                    \n",
      "                                                                 look_ahead_mask[0][0]            \n",
      "                                                                 dec_padding_mask[0][0]           \n",
      "__________________________________________________________________________________________________\n",
      "outputs (Dense)                 (None, None, 7781)   1999717     decoder[0][0]                    \n",
      "==================================================================================================\n",
      "Total params: 8,092,261\n",
      "Trainable params: 8,092,261\n",
      "Non-trainable params: 0\n",
      "__________________________________________________________________________________________________\n"
     ]
    }
   ],
   "source": [
    "tf.keras.backend.clear_session()\n",
    "\n",
    "# 하이퍼파라미터\n",
    "NUM_LAYERS = 2 # 인코더와 디코더의 층의 개수\n",
    "D_MODEL = 256 # 인코더와 디코더 내부의 입, 출력의 고정 차원\n",
    "NUM_HEADS = 8 # 멀티 헤드 어텐션에서의 헤드 수 \n",
    "UNITS = 512 # 피드 포워드 신경망의 은닉층의 크기\n",
    "DROPOUT = 0.1 # 드롭아웃의 비율\n",
    "\n",
    "model = transformer(\n",
    "    vocab_size=VOCAB_SIZE,\n",
    "    num_layers=NUM_LAYERS,\n",
    "    units=UNITS,\n",
    "    d_model=D_MODEL,\n",
    "    num_heads=NUM_HEADS,\n",
    "    dropout=DROPOUT)\n",
    "\n",
    "model.summary()"
   ]
  },
  {
   "cell_type": "code",
   "execution_count": 27,
   "id": "cc76afbd",
   "metadata": {},
   "outputs": [],
   "source": [
    "def loss_function(y_true, y_pred):\n",
    "    y_true = tf.reshape(y_true, shape=(-1, MAX_LENGTH - 1))\n",
    "  \n",
    "    loss = tf.keras.losses.SparseCategoricalCrossentropy(\n",
    "        from_logits=True, reduction='none')(y_true, y_pred)\n",
    "\n",
    "    mask = tf.cast(tf.not_equal(y_true, 0), tf.float32)\n",
    "    loss = tf.multiply(loss, mask)\n",
    "\n",
    "    return tf.reduce_mean(loss)"
   ]
  },
  {
   "cell_type": "code",
   "execution_count": 28,
   "id": "724b496e",
   "metadata": {},
   "outputs": [],
   "source": [
    "class CustomSchedule(tf.keras.optimizers.schedules.LearningRateSchedule):\n",
    "    \n",
    "    def __init__(self, d_model, warmup_steps=4000):\n",
    "        super(CustomSchedule, self).__init__()\n",
    "\n",
    "        self.d_model = d_model\n",
    "        self.d_model = tf.cast(self.d_model, tf.float32)\n",
    "\n",
    "        self.warmup_steps = warmup_steps\n",
    "\n",
    "    def __call__(self, step):\n",
    "        arg1 = tf.math.rsqrt(step)\n",
    "        arg2 = step * (self.warmup_steps**-1.5)\n",
    "\n",
    "        return tf.math.rsqrt(self.d_model) * tf.math.minimum(arg1, arg2)"
   ]
  },
  {
   "cell_type": "code",
   "execution_count": 29,
   "id": "6360fbce",
   "metadata": {},
   "outputs": [
    {
     "data": {
      "text/plain": [
       "Text(0.5, 0, 'Train Step')"
      ]
     },
     "execution_count": 29,
     "metadata": {},
     "output_type": "execute_result"
    },
    {
     "data": {
      "image/png": "[encoded data removed]",
      "text/plain": [
       "<Figure size 432x288 with 1 Axes>"
      ]
     },
     "metadata": {
      "needs_background": "light"
     },
     "output_type": "display_data"
    }
   ],
   "source": [
    "sample_learning_rate = CustomSchedule(d_model=128)\n",
    "\n",
    "plt.plot(sample_learning_rate(tf.range(200000, dtype=tf.float32)))\n",
    "plt.ylabel(\"Learning Rate\")\n",
    "plt.xlabel(\"Train Step\")"
   ]
  },
  {
   "cell_type": "code",
   "execution_count": 30,
   "id": "25f6df5a",
   "metadata": {},
   "outputs": [],
   "source": [
    "learning_rate = CustomSchedule(D_MODEL)\n",
    "\n",
    "optimizer = tf.keras.optimizers.Adam(\n",
    "        learning_rate, beta_1=0.9, beta_2=0.98, epsilon=1e-9)\n",
    "\n",
    "def accuracy(y_true, y_pred):\n",
    "    y_true = tf.reshape(y_true, shape=(-1, MAX_LENGTH - 1))\n",
    "    return tf.keras.metrics.sparse_categorical_accuracy(y_true, y_pred)\n",
    "\n",
    "model.compile(optimizer=optimizer, loss=loss_function, metrics=[accuracy])"
   ]
  },
  {
   "cell_type": "code",
   "execution_count": 31,
   "id": "d6339c4b",
   "metadata": {},
   "outputs": [
    {
     "name": "stdout",
     "output_type": "stream",
     "text": [
      "Epoch 1/50\n",
      "90/90 [==============================] - 8s 23ms/step - loss: 6.0412 - accuracy: 0.0755\n",
      "Epoch 2/50\n",
      "90/90 [==============================] - 2s 22ms/step - loss: 5.4679 - accuracy: 0.1787\n",
      "Epoch 3/50\n",
      "90/90 [==============================] - 2s 22ms/step - loss: 4.8771 - accuracy: 0.2147\n",
      "Epoch 4/50\n",
      "90/90 [==============================] - 2s 22ms/step - loss: 4.3431 - accuracy: 0.2157\n",
      "Epoch 5/50\n",
      "90/90 [==============================] - 2s 23ms/step - loss: 3.9623 - accuracy: 0.2171\n",
      "Epoch 6/50\n",
      "90/90 [==============================] - 2s 22ms/step - loss: 3.7396 - accuracy: 0.2207\n",
      "Epoch 7/50\n",
      "90/90 [==============================] - 2s 23ms/step - loss: 3.5904 - accuracy: 0.2283\n",
      "Epoch 8/50\n",
      "90/90 [==============================] - 2s 22ms/step - loss: 3.4568 - accuracy: 0.2364\n",
      "Epoch 9/50\n",
      "90/90 [==============================] - 2s 22ms/step - loss: 3.3302 - accuracy: 0.2423\n",
      "Epoch 10/50\n",
      "90/90 [==============================] - 2s 23ms/step - loss: 3.1952 - accuracy: 0.2502\n",
      "Epoch 11/50\n",
      "90/90 [==============================] - 2s 23ms/step - loss: 3.0520 - accuracy: 0.2618\n",
      "Epoch 12/50\n",
      "90/90 [==============================] - 2s 22ms/step - loss: 2.8885 - accuracy: 0.2761\n",
      "Epoch 13/50\n",
      "90/90 [==============================] - 2s 22ms/step - loss: 2.7146 - accuracy: 0.2948\n",
      "Epoch 14/50\n",
      "90/90 [==============================] - 2s 23ms/step - loss: 2.5176 - accuracy: 0.3154\n",
      "Epoch 15/50\n",
      "90/90 [==============================] - 2s 23ms/step - loss: 2.3110 - accuracy: 0.3401\n",
      "Epoch 16/50\n",
      "90/90 [==============================] - 2s 23ms/step - loss: 2.0929 - accuracy: 0.3685\n",
      "Epoch 17/50\n",
      "90/90 [==============================] - 2s 22ms/step - loss: 1.8625 - accuracy: 0.4026\n",
      "Epoch 18/50\n",
      "90/90 [==============================] - 2s 22ms/step - loss: 1.6299 - accuracy: 0.4414\n",
      "Epoch 19/50\n",
      "90/90 [==============================] - 2s 23ms/step - loss: 1.3959 - accuracy: 0.4799\n",
      "Epoch 20/50\n",
      "90/90 [==============================] - 2s 22ms/step - loss: 1.1656 - accuracy: 0.5229\n",
      "Epoch 21/50\n",
      "90/90 [==============================] - 2s 22ms/step - loss: 0.9397 - accuracy: 0.5685\n",
      "Epoch 22/50\n",
      "90/90 [==============================] - 2s 22ms/step - loss: 0.7298 - accuracy: 0.6094\n",
      "Epoch 23/50\n",
      "90/90 [==============================] - 2s 22ms/step - loss: 0.5410 - accuracy: 0.6445\n",
      "Epoch 24/50\n",
      "90/90 [==============================] - 2s 22ms/step - loss: 0.3807 - accuracy: 0.6669\n",
      "Epoch 25/50\n",
      "90/90 [==============================] - 2s 23ms/step - loss: 0.2527 - accuracy: 0.6811\n",
      "Epoch 26/50\n",
      "90/90 [==============================] - 2s 23ms/step - loss: 0.1691 - accuracy: 0.6867\n",
      "Epoch 27/50\n",
      "90/90 [==============================] - 2s 23ms/step - loss: 0.1215 - accuracy: 0.6880\n",
      "Epoch 28/50\n",
      "90/90 [==============================] - 2s 22ms/step - loss: 0.0910 - accuracy: 0.6887\n",
      "Epoch 29/50\n",
      "90/90 [==============================] - 2s 23ms/step - loss: 0.0745 - accuracy: 0.6894\n",
      "Epoch 30/50\n",
      "90/90 [==============================] - 2s 23ms/step - loss: 0.0633 - accuracy: 0.6898\n",
      "Epoch 31/50\n",
      "90/90 [==============================] - 2s 23ms/step - loss: 0.0575 - accuracy: 0.6902\n",
      "Epoch 32/50\n",
      "90/90 [==============================] - 2s 23ms/step - loss: 0.0506 - accuracy: 0.6906\n",
      "Epoch 33/50\n",
      "90/90 [==============================] - 2s 23ms/step - loss: 0.0507 - accuracy: 0.6901\n",
      "Epoch 34/50\n",
      "90/90 [==============================] - 2s 23ms/step - loss: 0.0489 - accuracy: 0.6902\n",
      "Epoch 35/50\n",
      "90/90 [==============================] - 2s 23ms/step - loss: 0.0441 - accuracy: 0.6910\n",
      "Epoch 36/50\n",
      "90/90 [==============================] - 2s 23ms/step - loss: 0.0461 - accuracy: 0.6901\n",
      "Epoch 37/50\n",
      "90/90 [==============================] - 2s 22ms/step - loss: 0.0433 - accuracy: 0.6907\n",
      "Epoch 38/50\n",
      "90/90 [==============================] - 2s 23ms/step - loss: 0.0451 - accuracy: 0.6901\n",
      "Epoch 39/50\n",
      "90/90 [==============================] - 2s 23ms/step - loss: 0.0420 - accuracy: 0.6905\n",
      "Epoch 40/50\n",
      "90/90 [==============================] - 2s 23ms/step - loss: 0.0386 - accuracy: 0.6912\n",
      "Epoch 41/50\n",
      "90/90 [==============================] - 2s 23ms/step - loss: 0.0419 - accuracy: 0.6904\n",
      "Epoch 42/50\n",
      "90/90 [==============================] - 2s 22ms/step - loss: 0.0424 - accuracy: 0.6902\n",
      "Epoch 00042: early stopping\n"
     ]
    },
    {
     "data": {
      "text/plain": [
       "<keras.callbacks.History at 0x7fddc436ea60>"
      ]
     },
     "execution_count": 31,
     "metadata": {},
     "output_type": "execute_result"
    }
   ],
   "source": [
    "EPOCHS = 50\n",
    "es = EarlyStopping(monitor='loss', min_delta = 0.0005, mode = 'auto', patience=2, verbose=1)\n",
    "model.fit(dataset, epochs=EPOCHS, verbose=1, callbacks=[es])"
   ]
  },
  {
   "cell_type": "code",
   "execution_count": 32,
   "id": "37de17d3",
   "metadata": {},
   "outputs": [],
   "source": [
    "def decoder_inference(sentence):\n",
    "    sentence = preprocess_sentence(sentence)\n",
    "\n",
    "    # 입력된 문장을 정수 인코딩 후, 시작 토큰과 종료 토큰을 앞뒤로 추가.\n",
    "    # ex) Where have you been? → [[8331   86   30    5 1059    7 8332]]\n",
    "    sentence = tf.expand_dims(\n",
    "        START_TOKEN + tokenizer.encode(sentence) + END_TOKEN, axis=0)\n",
    "\n",
    "    # 디코더의 현재까지의 예측한 출력 시퀀스가 지속적으로 저장되는 변수.\n",
    "    # 처음에는 예측한 내용이 없음으로 시작 토큰만 별도 저장. ex) 8331\n",
    "    output_sequence = tf.expand_dims(START_TOKEN, 0)\n",
    "\n",
    "    # 디코더의 인퍼런스 단계\n",
    "    for i in range(MAX_LENGTH):\n",
    "        # 디코더는 최대 MAX_LENGTH의 길이만큼 다음 단어 예측을 반복합니다.\n",
    "        predictions = model(inputs=[sentence, output_sequence], training=False)\n",
    "        predictions = predictions[:, -1:, :]\n",
    "\n",
    "        # 현재 예측한 단어의 정수\n",
    "        predicted_id = tf.cast(tf.argmax(predictions, axis=-1), tf.int32)\n",
    "\n",
    "      # 만약 현재 예측한 단어가 종료 토큰이라면 for문을 종료\n",
    "        if tf.equal(predicted_id, END_TOKEN[0]):\n",
    "            break\n",
    "\n",
    "        # 예측한 단어들은 지속적으로 output_sequence에 추가됩니다.\n",
    "        # 이 output_sequence는 다시 디코더의 입력이 됩니다.\n",
    "        output_sequence = tf.concat([output_sequence, predicted_id], axis=-1)\n",
    "\n",
    "    return tf.squeeze(output_sequence, axis=0)"
   ]
  },
  {
   "cell_type": "code",
   "execution_count": 33,
   "id": "626cc41c",
   "metadata": {},
   "outputs": [
    {
     "name": "stdout",
     "output_type": "stream",
     "text": [
      "gogo\n"
     ]
    }
   ],
   "source": [
    "def sentence_generation(sentence):\n",
    "    # 입력 문장에 대해서 디코더를 동작 시켜 예측된 정수 시퀀스를 리턴받습니다.\n",
    "    prediction = decoder_inference(sentence)\n",
    "\n",
    "    # 정수 시퀀스를 다시 텍스트 시퀀스로 변환합니다.\n",
    "    predicted_sentence = tokenizer.decode(\n",
    "      [i for i in prediction if i < tokenizer.vocab_size])\n",
    "\n",
    "    print('입력 : {}'.format(sentence))\n",
    "    print('출력 : {}'.format(predicted_sentence))\n",
    "\n",
    "    return predicted_sentence\n",
    "print(\"gogo\")"
   ]
  },
  {
   "cell_type": "markdown",
   "id": "b077ffc6",
   "metadata": {},
   "source": [
    "### Step 5: 모델 평가하기"
   ]
  },
  {
   "cell_type": "code",
   "execution_count": 38,
   "id": "4c491f0b",
   "metadata": {},
   "outputs": [
    {
     "name": "stdout",
     "output_type": "stream",
     "text": [
      "gogo\n"
     ]
    }
   ],
   "source": [
    "def decoder_inference(sentence):\n",
    "    sentence = preprocess_sentence(sentence)\n",
    "\n",
    "    # 입력된 문장을 정수 인코딩 후, 시작 토큰과 종료 토큰을 앞뒤로 추가.\n",
    "    # ex) Where have you been? → [[8331   86   30    5 1059    7 8332]]\n",
    "    sentence = tf.expand_dims(\n",
    "      START_TOKEN + tokenizer.encode(sentence) + END_TOKEN, axis=0)\n",
    "\n",
    "    # 디코더의 현재까지의 예측한 출력 시퀀스가 지속적으로 저장되는 변수.\n",
    "    # 처음에는 예측한 내용이 없음으로 시작 토큰만 별도 저장. ex) 8331\n",
    "    output_sequence = tf.expand_dims(START_TOKEN, 0)\n",
    "\n",
    "    # 디코더의 인퍼런스 단계\n",
    "    for i in range(MAX_LENGTH):\n",
    "        # 디코더는 최대 MAX_LENGTH의 길이만큼 다음 단어 예측을 반복합니다.\n",
    "        predictions = model(inputs=[sentence, output_sequence], training=False)\n",
    "        predictions = predictions[:, -1:, :]\n",
    "\n",
    "        # 현재 예측한 단어의 정수\n",
    "        predicted_id = tf.cast(tf.argmax(predictions, axis=-1), tf.int32)\n",
    "\n",
    "        # 만약 현재 예측한 단어가 종료 토큰이라면 for문을 종료\n",
    "        if tf.equal(predicted_id, END_TOKEN[0]):\n",
    "            break\n",
    "\n",
    "    # 예측한 단어들은 지속적으로 output_sequence에 추가됩니다.\n",
    "    # 이 output_sequence는 다시 디코더의 입력이 됩니다.\n",
    "    output_sequence = tf.concat([output_sequence, predicted_id], axis=-1)\n",
    "\n",
    "    return tf.squeeze(output_sequence, axis=0)\n",
    "\n",
    "print(\"gogo\")"
   ]
  },
  {
   "cell_type": "code",
   "execution_count": 39,
   "id": "f2149e21",
   "metadata": {},
   "outputs": [
    {
     "name": "stdout",
     "output_type": "stream",
     "text": [
      "gogo\n"
     ]
    }
   ],
   "source": [
    "def sentence_generation(sentence):\n",
    "    # 입력 문장에 대해서 디코더를 동작 시켜 예측된 정수 시퀀스를 리턴받습니다.\n",
    "    prediction = decoder_inference(sentence)\n",
    "\n",
    "    # 정수 시퀀스를 다시 텍스트 시퀀스로 변환합니다.\n",
    "    predicted_sentence = tokenizer.decode(\n",
    "      [i for i in prediction if i < tokenizer.vocab_size])\n",
    "\n",
    "    print('입력 : {}'.format(sentence))\n",
    "    print('출력 : {}'.format(predicted_sentence))\n",
    "\n",
    "    return predicted_sentence\n",
    "print(\"gogo\")"
   ]
  },
  {
   "cell_type": "code",
   "execution_count": null,
   "id": "9bd896a9",
   "metadata": {},
   "outputs": [],
   "source": []
  },
  {
   "cell_type": "code",
   "execution_count": null,
   "id": "8e9080ca",
   "metadata": {},
   "outputs": [],
   "source": []
  },
  {
   "cell_type": "markdown",
   "id": "296a6fef",
   "metadata": {},
   "source": [
    "### 실험: vocab_size(전처리)에 따라 loss&accuracy값이 달라지는가?\n",
    "- 다른 조건은 동일하게, MAX_LENGTH=10, Epoch=50이지만 es설정해놓음 <br> <br> <br> <br>\n",
    "\n",
    "\n",
    "\n",
    "### 실험정리\n",
    "- 전처리를 해도 vocab_size의 크기는 크게 변하지 않는다. 혹시 preprocess_sentence에서 문장부호, 영단어, 숫자등을 제외하면 달라졌을까? (시간관계상 후자까지 해보진 못했다)\n",
    "\n",
    "|실험조건|[단어장의크기, <br>필터링후의 질문<br>&(=)답변샘플개수]|결과값|\n",
    "|:---|:---:|---:|\n",
    "|1. 데이터 전처리에서 drop_duplicate을 'Q'기준으로 drop + total_data_text(question+answer) 전체를 token화 했을때|[8088, 11622]|loss: 0.0594 - accuracy: 0.6546|\n",
    "|2. 데이터 전처리에서 drop_duplicate을 'Q'기준으로 drop + total_data_text(question+answer)중에 encoder만 token화 했을때|[8088, 8954]|loss: 0.0568 - accuracy: 0.6549|\n",
    "|3. 데이터 전처리에서 drop_duplicate을 'A'기준으로 drop + total_data_text(question+answer) 전체를 token화 했을때|[7781, 5754] |loss: 0.0510 - accuracy: 0.6887|\n",
    "|4. 데이터 전처리에서 drop_duplicate을 'A'기준으로 drop + total_data_text(question+answer)중에 encoder만  token화 했을때|[7781, 5754]|loss: 0.0441 - accuracy: 0.6910|"
   ]
  },
  {
   "cell_type": "markdown",
   "id": "ef180303",
   "metadata": {},
   "source": [
    "### 정리\n",
    "- chatbot이 출력할 수 있는 답변이 한계가 있다보니, A를 기준으로 데이터 전처리했을때, 성능이 높게 나온다 (<-- 당연한 논리임), 그중에서도 encoder만 token화 했을 때 제일 높게 나왔다. 그 이유는........."
   ]
  },
  {
   "cell_type": "code",
   "execution_count": null,
   "id": "a1484940",
   "metadata": {},
   "outputs": [],
   "source": []
  },
  {
   "cell_type": "code",
   "execution_count": null,
   "id": "ad0347ff",
   "metadata": {},
   "outputs": [],
   "source": []
  },
  {
   "cell_type": "markdown",
   "id": "5a4df4de",
   "metadata": {},
   "source": [
    "### Sentence_generation 능력은.........."
   ]
  },
  {
   "cell_type": "code",
   "execution_count": 40,
   "id": "cbdf37a9",
   "metadata": {},
   "outputs": [
    {
     "name": "stdout",
     "output_type": "stream",
     "text": [
      "입력 : 뭐하고 있어?\n",
      "출력 : 궁금하\n",
      "궁금하\n",
      "입력 : 이름이 뭐야?\n",
      "출력 : 자\n",
      "자\n",
      "입력 : 배가 고팠어서 과식을 했어\n",
      "출력 : 다 \n",
      "다 \n",
      "입력 : 1도 모르겠다\n",
      "출력 : 나이에 \n",
      "나이에 \n",
      "입력 : 일도 모르겠다\n",
      "출력 : 정신 \n",
      "정신 \n",
      "입력 : 배고파\n",
      "출력 : 얼른 \n",
      "얼른 \n",
      "입력 : \n",
      "출력 : 제가 \n",
      "제가 \n",
      "입력 : 점심메뉴 추천\n",
      "출력 : 발\n",
      "발\n"
     ]
    }
   ],
   "source": [
    "# 여러가지 질문 대입해보기\n",
    "print(sentence_generation('뭐하고 있어?'))\n",
    "print(sentence_generation(\"이름이 뭐야?\"))\n",
    "print(sentence_generation('배가 고팠어서 과식을 했어'))\n",
    "print(sentence_generation('1도 모르겠다'))\n",
    "print(sentence_generation('일도 모르겠다'))\n",
    "print(sentence_generation('배고파'))\n",
    "print(sentence_generation(''))\n",
    "print(sentence_generation('점심메뉴 추천'))"
   ]
  },
  {
   "cell_type": "code",
   "execution_count": null,
   "id": "d22d9091",
   "metadata": {},
   "outputs": [],
   "source": []
  },
  {
   "cell_type": "code",
   "execution_count": null,
   "id": "df8a84c8",
   "metadata": {},
   "outputs": [],
   "source": []
  },
  {
   "cell_type": "markdown",
   "id": "c6211ffc",
   "metadata": {},
   "source": [
    "### AI, 윤리문제 재점화"
   ]
  },
  {
   "cell_type": "code",
   "execution_count": 37,
   "id": "21815a28",
   "metadata": {},
   "outputs": [
    {
     "name": "stdout",
     "output_type": "stream",
     "text": [
      "입력 : 야식추천\n",
      "출력 : 충분한 \n"
     ]
    },
    {
     "data": {
      "text/plain": [
       "'충분한 '"
      ]
     },
     "execution_count": 37,
     "metadata": {},
     "output_type": "execute_result"
    }
   ],
   "source": [
    "sentence_generation('야식추천')\n",
    "\n",
    "# 어제 실험 돌렸을때는 '사람'이라고 추천해줬다. 내 github 지난 버전에서 확인이 가능하다."
   ]
  }
 ],
 "metadata": {
  "kernelspec": {
   "display_name": "Python 3 (ipykernel)",
   "language": "python",
   "name": "python3"
  },
  "language_info": {
   "codemirror_mode": {
    "name": "ipython",
    "version": 3
   },
   "file_extension": ".py",
   "mimetype": "text/x-python",
   "name": "python",
   "nbconvert_exporter": "python",
   "pygments_lexer": "ipython3",
   "version": "3.9.7"
  }
 },
 "nbformat": 4,
 "nbformat_minor": 5
}
