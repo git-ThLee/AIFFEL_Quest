{
 "cells": [
  {
   "cell_type": "markdown",
   "id": "5262f970",
   "metadata": {},
   "source": [
    "머신러닝의 3가지 유형\n",
    "1. Supervised Learning (지도 학습) <br>\n",
    "    - 정답이 주어진다\n",
    "    - (비교적) 문제풀이가 쉽다\n",
    "2. Unsupervised Learning (비지도 학습) <br>\n",
    "    - 미지수 2개, 방정식 1개 풀수있나요?\n",
    "3. Reinforcement Learning (강화 학습) <br>"
   ]
  },
  {
   "cell_type": "code",
   "execution_count": null,
   "id": "2e2c1de2",
   "metadata": {},
   "outputs": [],
   "source": []
  }
 ],
 "metadata": {
  "kernelspec": {
   "display_name": "Python 3 (ipykernel)",
   "language": "python",
   "name": "python3"
  },
  "language_info": {
   "codemirror_mode": {
    "name": "ipython",
    "version": 3
   },
   "file_extension": ".py",
   "mimetype": "text/x-python",
   "name": "python",
   "nbconvert_exporter": "python",
   "pygments_lexer": "ipython3",
   "version": "3.9.7"
  }
 },
 "nbformat": 4,
 "nbformat_minor": 5
}
