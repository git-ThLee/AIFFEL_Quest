{
 "cells": [
  {
   "cell_type": "code",
   "execution_count": 1,
   "id": "80e631b3",
   "metadata": {},
   "outputs": [],
   "source": [
    "# (1) 데이터 가져오기\n",
    "# sklearn.datasets의 load_diabetes에서 데이터를 가져와주세요.\n",
    "from sklearn.datasets import load_diabetes\n",
    "from sklearn.model_selection import train_test_split\n",
    "import pandas as pd\n",
    "import numpy as np\n",
    "import matplotlib.pyplot as plt"
   ]
  },
  {
   "cell_type": "code",
   "execution_count": 2,
   "id": "f88c5b87",
   "metadata": {},
   "outputs": [],
   "source": [
    "diabetes = load_diabetes()\n",
    "feature_names = diabetes['feature_names']"
   ]
  },
  {
   "cell_type": "code",
   "execution_count": 3,
   "id": "66030179",
   "metadata": {},
   "outputs": [],
   "source": [
    "# (2) 모델에 입력할 데이터 X 준비하기\n",
    "# df_X에 있는 값들을 numpy array로 변환해서 저장해주세요.\n",
    "# (3) 모델에 예측할 데이터 y 준비하기\n",
    "# df_y에 있는 값들을 numpy array로 변환해서 저장해주세요.\n",
    "\n",
    "df_X = diabetes['data']\n",
    "df_y = diabetes['target']"
   ]
  },
  {
   "cell_type": "code",
   "execution_count": 4,
   "id": "d87830eb",
   "metadata": {},
   "outputs": [
    {
     "data": {
      "text/html": [
       "<div>\n",
       "<style scoped>\n",
       "    .dataframe tbody tr th:only-of-type {\n",
       "        vertical-align: middle;\n",
       "    }\n",
       "\n",
       "    .dataframe tbody tr th {\n",
       "        vertical-align: top;\n",
       "    }\n",
       "\n",
       "    .dataframe thead th {\n",
       "        text-align: right;\n",
       "    }\n",
       "</style>\n",
       "<table border=\"1\" class=\"dataframe\">\n",
       "  <thead>\n",
       "    <tr style=\"text-align: right;\">\n",
       "      <th></th>\n",
       "      <th>age</th>\n",
       "      <th>sex</th>\n",
       "      <th>bmi</th>\n",
       "      <th>bp</th>\n",
       "      <th>s1</th>\n",
       "      <th>s2</th>\n",
       "      <th>s3</th>\n",
       "      <th>s4</th>\n",
       "      <th>s5</th>\n",
       "      <th>s6</th>\n",
       "    </tr>\n",
       "  </thead>\n",
       "  <tbody>\n",
       "    <tr>\n",
       "      <th>437</th>\n",
       "      <td>0.041708</td>\n",
       "      <td>0.050680</td>\n",
       "      <td>0.019662</td>\n",
       "      <td>0.059744</td>\n",
       "      <td>-0.005697</td>\n",
       "      <td>-0.002566</td>\n",
       "      <td>-0.028674</td>\n",
       "      <td>-0.002592</td>\n",
       "      <td>0.031193</td>\n",
       "      <td>0.007207</td>\n",
       "    </tr>\n",
       "    <tr>\n",
       "      <th>438</th>\n",
       "      <td>-0.005515</td>\n",
       "      <td>0.050680</td>\n",
       "      <td>-0.015906</td>\n",
       "      <td>-0.067642</td>\n",
       "      <td>0.049341</td>\n",
       "      <td>0.079165</td>\n",
       "      <td>-0.028674</td>\n",
       "      <td>0.034309</td>\n",
       "      <td>-0.018118</td>\n",
       "      <td>0.044485</td>\n",
       "    </tr>\n",
       "    <tr>\n",
       "      <th>439</th>\n",
       "      <td>0.041708</td>\n",
       "      <td>0.050680</td>\n",
       "      <td>-0.015906</td>\n",
       "      <td>0.017282</td>\n",
       "      <td>-0.037344</td>\n",
       "      <td>-0.013840</td>\n",
       "      <td>-0.024993</td>\n",
       "      <td>-0.011080</td>\n",
       "      <td>-0.046879</td>\n",
       "      <td>0.015491</td>\n",
       "    </tr>\n",
       "    <tr>\n",
       "      <th>440</th>\n",
       "      <td>-0.045472</td>\n",
       "      <td>-0.044642</td>\n",
       "      <td>0.039062</td>\n",
       "      <td>0.001215</td>\n",
       "      <td>0.016318</td>\n",
       "      <td>0.015283</td>\n",
       "      <td>-0.028674</td>\n",
       "      <td>0.026560</td>\n",
       "      <td>0.044528</td>\n",
       "      <td>-0.025930</td>\n",
       "    </tr>\n",
       "    <tr>\n",
       "      <th>441</th>\n",
       "      <td>-0.045472</td>\n",
       "      <td>-0.044642</td>\n",
       "      <td>-0.073030</td>\n",
       "      <td>-0.081414</td>\n",
       "      <td>0.083740</td>\n",
       "      <td>0.027809</td>\n",
       "      <td>0.173816</td>\n",
       "      <td>-0.039493</td>\n",
       "      <td>-0.004220</td>\n",
       "      <td>0.003064</td>\n",
       "    </tr>\n",
       "  </tbody>\n",
       "</table>\n",
       "</div>"
      ],
      "text/plain": [
       "          age       sex       bmi        bp        s1        s2        s3  \\\n",
       "437  0.041708  0.050680  0.019662  0.059744 -0.005697 -0.002566 -0.028674   \n",
       "438 -0.005515  0.050680 -0.015906 -0.067642  0.049341  0.079165 -0.028674   \n",
       "439  0.041708  0.050680 -0.015906  0.017282 -0.037344 -0.013840 -0.024993   \n",
       "440 -0.045472 -0.044642  0.039062  0.001215  0.016318  0.015283 -0.028674   \n",
       "441 -0.045472 -0.044642 -0.073030 -0.081414  0.083740  0.027809  0.173816   \n",
       "\n",
       "           s4        s5        s6  \n",
       "437 -0.002592  0.031193  0.007207  \n",
       "438  0.034309 -0.018118  0.044485  \n",
       "439 -0.011080 -0.046879  0.015491  \n",
       "440  0.026560  0.044528 -0.025930  \n",
       "441 -0.039493 -0.004220  0.003064  "
      ]
     },
     "execution_count": 4,
     "metadata": {},
     "output_type": "execute_result"
    }
   ],
   "source": [
    "df = pd.DataFrame(df_X, columns=feature_names)\n",
    "df.tail()"
   ]
  },
  {
   "cell_type": "code",
   "execution_count": 5,
   "id": "62ad8659",
   "metadata": {},
   "outputs": [
    {
     "name": "stdout",
     "output_type": "stream",
     "text": [
      "<class 'numpy.ndarray'>\n",
      "<class 'numpy.ndarray'>\n"
     ]
    }
   ],
   "source": [
    "print(type(df_X)) # <class 'numpy.ndarray'>\n",
    "print(type(df_y))  "
   ]
  },
  {
   "cell_type": "code",
   "execution_count": 6,
   "id": "61145b12",
   "metadata": {},
   "outputs": [
    {
     "name": "stdout",
     "output_type": "stream",
     "text": [
      "[[ 0.03807591  0.05068012  0.06169621 ... -0.00259226  0.01990842\n",
      "  -0.01764613]\n",
      " [-0.00188202 -0.04464164 -0.05147406 ... -0.03949338 -0.06832974\n",
      "  -0.09220405]\n",
      " [ 0.08529891  0.05068012  0.04445121 ... -0.00259226  0.00286377\n",
      "  -0.02593034]\n",
      " ...\n",
      " [ 0.04170844  0.05068012 -0.01590626 ... -0.01107952 -0.04687948\n",
      "   0.01549073]\n",
      " [-0.04547248 -0.04464164  0.03906215 ...  0.02655962  0.04452837\n",
      "  -0.02593034]\n",
      " [-0.04547248 -0.04464164 -0.0730303  ... -0.03949338 -0.00421986\n",
      "   0.00306441]]\n",
      "Index(['age', 'sex', 'bmi', 'bp', 's1', 's2', 's3', 's4', 's5', 's6'], dtype='object')\n"
     ]
    }
   ],
   "source": [
    "X = df[['age', 'sex', 'bmi', 'bp', 's1', 's2', 's3', 's4', 's5', 's6' ]].values\n",
    "# y = df['target'].values\n",
    "print(df.values)\n",
    "\n",
    "print(df.columns)"
   ]
  },
  {
   "cell_type": "code",
   "execution_count": 7,
   "id": "97393855",
   "metadata": {},
   "outputs": [],
   "source": [
    "# (4) train 데이터와 test 데이터로 분리하기\n",
    "# X와 y 데이터를 각각 train 데이터와 test 데이터로 분리해주세요.\n",
    "\n",
    "x_train, x_test, y_train, y_test = train_test_split(df_X, df_y, test_size=0.2, shuffle=True, random_state=50)\n",
    "\n",
    "\n",
    "# x_train\n",
    "# x_valid\n",
    "# y_train\n",
    "# y_valid"
   ]
  },
  {
   "cell_type": "code",
   "execution_count": 8,
   "id": "5045ffe5",
   "metadata": {},
   "outputs": [
    {
     "name": "stdout",
     "output_type": "stream",
     "text": [
      "(353, 10) (353,)\n",
      "(89, 10) (89,)\n"
     ]
    }
   ],
   "source": [
    "print(x_train.shape, y_train.shape)\n",
    "print(x_test.shape, y_test.shape)"
   ]
  },
  {
   "cell_type": "code",
   "execution_count": 9,
   "id": "b80778c3",
   "metadata": {
    "scrolled": true
   },
   "outputs": [
    {
     "name": "stdout",
     "output_type": "stream",
     "text": [
      "gogo\n"
     ]
    },
    {
     "data": {
      "text/plain": [
       "array([2.1294519 , 2.13255909, 2.25332379, 1.90574634, 2.13325437,\n",
       "       2.19298296, 1.94520934, 2.06788305, 2.04808059, 1.98801631,\n",
       "       1.8246154 , 2.15157312, 1.98954675, 1.91023459, 1.93135168,\n",
       "       1.88788787, 1.90841694, 2.12464966, 1.95797102, 2.07431565,\n",
       "       2.13194486, 1.97159795, 1.93079587, 2.02849767, 2.06929764,\n",
       "       1.95919926, 2.22821015, 1.94207009, 2.2145163 , 1.96163045,\n",
       "       2.1133281 , 2.29529216, 2.17917798, 1.96234418, 1.93508274,\n",
       "       2.04793382, 2.03218603, 1.96974053, 2.04801742, 2.09341058,\n",
       "       1.9397825 , 1.97931664, 2.07967848, 1.88860528, 2.16248798,\n",
       "       2.08256225, 2.04210196, 2.10460787, 1.95159029, 1.93410993,\n",
       "       2.12081444, 1.9696421 , 2.11606587, 2.05354268, 1.97261466,\n",
       "       2.03396144, 2.04057541, 2.0812299 , 2.09651971, 1.95322886,\n",
       "       2.10670705, 2.18045491, 1.9930459 , 1.92837907, 2.10836947,\n",
       "       2.02634935, 1.91749979, 1.88285961, 1.8008797 , 1.85690958,\n",
       "       2.09650791, 2.01645975, 2.16550952, 1.95811605, 1.9575762 ,\n",
       "       2.12096557, 2.1383092 , 2.21490062, 2.05555688, 2.07677695,\n",
       "       1.96746929, 2.03403481, 1.9695088 , 2.00326054, 2.1125134 ,\n",
       "       2.03122046, 2.02810539, 1.99242542, 1.9599948 , 1.98792511,\n",
       "       1.91963106, 2.00866979, 2.05075351, 1.91539111, 2.0116939 ,\n",
       "       2.15425408, 2.00396371, 2.08575075, 2.0153059 , 1.93000244,\n",
       "       2.07839714, 1.83105766, 1.98464674, 2.1220472 , 2.21405037,\n",
       "       1.76570846, 1.91635616, 1.93681962, 1.86282267, 2.21279917,\n",
       "       2.16114043, 1.96532369, 1.70324404, 2.28801873, 2.08198937,\n",
       "       1.92757331, 1.87312939, 1.9016407 , 2.11778752, 2.02754145,\n",
       "       2.05110384, 1.85710572, 2.16925925, 1.96690098, 1.96640308,\n",
       "       2.17090941, 1.80752593, 2.02059473, 2.0045493 , 1.93026622,\n",
       "       1.73237199, 2.00411547, 1.83629727, 1.93455511, 2.14071425,\n",
       "       2.03215493, 1.77375463, 1.96089291, 2.20709582, 2.03306352,\n",
       "       1.98595387, 2.07774512, 1.79232551, 1.8938128 , 1.95692067,\n",
       "       2.26369423, 1.79501808, 1.96653306, 2.09820328, 1.98337578,\n",
       "       2.02373371, 2.18507428, 2.09322819, 2.02090667, 2.23810078,\n",
       "       1.98664786, 1.8592375 , 1.92142443, 2.34077802, 1.86200963,\n",
       "       2.14037303, 2.09345602, 1.96699837, 2.21039051, 1.95905575,\n",
       "       2.16372204, 1.90551114, 2.16136278, 1.76843676, 2.00876412,\n",
       "       2.06997558, 1.96252364, 2.02619254, 2.162157  , 1.7825574 ,\n",
       "       1.98856086, 1.90071318, 2.11576659, 1.94435932, 2.16712328,\n",
       "       2.06161025, 1.85593111, 1.95566414, 1.94335892, 1.85942236,\n",
       "       1.99052077, 1.79188461, 1.95193869, 2.02634363, 1.9879248 ,\n",
       "       2.09180825, 2.15717834, 1.72568237, 1.90877664, 2.18293971,\n",
       "       2.07449784, 2.0948561 , 1.83899389, 2.01406063, 1.93825128,\n",
       "       2.1321057 , 2.13924704, 1.80737579, 2.0239535 , 2.01389725,\n",
       "       1.80398083, 1.88795267, 1.99917623, 2.13812109, 1.93727672,\n",
       "       2.0566068 , 2.0118066 , 1.86712075, 2.14786722, 1.78521661,\n",
       "       2.04687496, 1.85995634, 2.06955629, 2.1657064 , 2.01932977,\n",
       "       1.93578743, 2.18169096, 1.75769462, 1.86756519, 1.96630949,\n",
       "       1.92803266, 1.9753658 , 2.05530208, 2.19912921, 1.99668649,\n",
       "       1.99532915, 1.9068254 , 1.91663848, 1.95370505, 2.02505278,\n",
       "       2.04358149, 2.00929127, 1.87600189, 1.82117208, 1.72697797,\n",
       "       1.84779068, 2.19849083, 2.03237759, 2.1876316 , 2.16347411,\n",
       "       1.79547009, 2.13302683, 2.12670051, 1.84265688, 2.00812014,\n",
       "       1.9713621 , 2.14556858, 1.87774086, 2.20737516, 1.74744392,\n",
       "       1.97177005, 2.00100609, 1.93062111, 1.92645088, 2.12320741,\n",
       "       1.78857998, 2.09440423, 1.89849215, 1.84822883, 2.09526851,\n",
       "       1.88055655, 2.04676633, 1.96769885, 1.83620396, 2.18508312,\n",
       "       2.03205304, 2.16403461, 1.95215473, 2.06866889, 2.21639714,\n",
       "       2.07935378, 2.01648337, 2.0639164 , 1.73557218, 2.01237624,\n",
       "       2.09430899, 1.98397917, 2.05279279, 1.79691877, 2.03059401,\n",
       "       2.01187933, 1.96113592, 1.99032515, 1.97918862, 1.94574288,\n",
       "       2.02727964, 2.15283478, 2.03819745, 1.88846463, 1.91913139,\n",
       "       2.01691619, 2.09589799, 1.92893794, 1.86170683, 2.07417284,\n",
       "       2.12961466, 1.89327817, 1.97552338, 1.87175475, 2.11501099,\n",
       "       1.97368184, 2.10035013, 1.88401206, 1.90848582, 1.8951948 ,\n",
       "       1.96933157, 1.90391739, 1.93166189, 2.07007533, 2.19204542,\n",
       "       2.1394722 , 2.11929453, 1.79768768, 1.7454331 , 1.97321434,\n",
       "       1.89087194, 2.0454809 , 2.02556807, 1.86265597, 2.13674358,\n",
       "       1.7751856 , 1.99257044, 1.98022465, 2.22629683, 1.96589071,\n",
       "       1.93002778, 1.93904094, 1.94261751, 2.09025623, 2.14380201,\n",
       "       2.00249354, 2.05683381, 2.11397746, 2.09051446, 2.05256093,\n",
       "       1.85181369, 2.08899024, 1.7930277 , 1.98701522, 2.04228434,\n",
       "       1.85362877, 1.99268736, 1.98116468, 2.07966989, 2.05858676,\n",
       "       2.09014245, 1.92472969, 2.09159078])"
      ]
     },
     "execution_count": 9,
     "metadata": {},
     "output_type": "execute_result"
    }
   ],
   "source": [
    "# (5)모델 준비하기\n",
    "# 입력 데이터 개수에 맞는 가중치 w와 b를 준비해주세요.\n",
    "# 모델 함수를 구현해주세요.\n",
    "\n",
    "\n",
    "# 행렬일떄는 대문자, 단일값일때는 소문자 \n",
    "\n",
    "W = np.random.rand(10)\n",
    "b = np.random.rand()\n",
    "\n",
    "\n",
    "def model(X, W, b):\n",
    "    # w와 b를 넣어야함\n",
    "    predictions = 0\n",
    "    for i in range(10):\n",
    "        predictions += X[:, i] * W[i]\n",
    "    predictions += b\n",
    "    return predictions\n",
    "print(\"gogo\")\n",
    "\n",
    "model(X = x_train, W=W, b=2)"
   ]
  },
  {
   "cell_type": "code",
   "execution_count": 10,
   "id": "defbd297",
   "metadata": {},
   "outputs": [
    {
     "name": "stdout",
     "output_type": "stream",
     "text": [
      "gogo\n"
     ]
    }
   ],
   "source": [
    "def MSE(a, b):\n",
    "    mse = ((a - b) ** 2).mean()  # 두 값의 차이의 제곱의 평균\n",
    "    return mse\n",
    "print(\"gogo\")"
   ]
  },
  {
   "cell_type": "code",
   "execution_count": 11,
   "id": "f3a6f2f0",
   "metadata": {},
   "outputs": [
    {
     "name": "stdout",
     "output_type": "stream",
     "text": [
      "gogo\n"
     ]
    }
   ],
   "source": [
    "# (6) 손실함수 loss 정의하기\n",
    "def loss(X, W, b, y):\n",
    "    predictions = model(X, W, b)\n",
    "    L = MSE(predictions, y)\n",
    "    return L\n",
    "print(\"gogo\")"
   ]
  },
  {
   "cell_type": "code",
   "execution_count": 12,
   "id": "9da55450",
   "metadata": {},
   "outputs": [
    {
     "name": "stdout",
     "output_type": "stream",
     "text": [
      "gogo\n"
     ]
    }
   ],
   "source": [
    "# (7) 기울기를 구하는 gradient 함수 구현하기\n",
    "def gradient(X, W, b, y):\n",
    "    N = len(y)\n",
    "    \n",
    "    # y_pred 준비\n",
    "    y_pred = model(X, W, b)\n",
    "    \n",
    "    # 공식에 맞게 gradient 계산\n",
    "    dW = 1/N*2*X.T.dot(y_pred -y)\n",
    "    \n",
    "    # b의 gradient 계산\n",
    "    db = 2*(y_pred - y).mean()\n",
    "    return dW, db\n",
    "print(\"gogo\")"
   ]
  },
  {
   "cell_type": "code",
   "execution_count": 13,
   "id": "ae279d59",
   "metadata": {},
   "outputs": [
    {
     "name": "stdout",
     "output_type": "stream",
     "text": [
      "gogo\n",
      "iteration 1000: Loss 5325.4254\n",
      "iteration 2000: Loss 4836.4274\n",
      "iteration 3000: Loss 4477.5788\n",
      "iteration 4000: Loss 4210.3765\n",
      "iteration 5000: Loss 4008.1342\n",
      "iteration 6000: Loss 3852.3116\n",
      "iteration 7000: Loss 3729.9877\n",
      "iteration 8000: Loss 3632.1227\n",
      "iteration 9000: Loss 3552.3613\n",
      "iteration 10000: Loss 3486.2074\n",
      "iteration 11000: Loss 3430.4567\n",
      "iteration 12000: Loss 3382.8042\n",
      "iteration 13000: Loss 3341.5734\n",
      "iteration 14000: Loss 3305.5295\n",
      "iteration 15000: Loss 3273.7496\n",
      "iteration 16000: Loss 3245.5324\n",
      "iteration 17000: Loss 3220.3357\n",
      "iteration 18000: Loss 3197.7331\n",
      "iteration 19000: Loss 3177.3826\n",
      "iteration 20000: Loss 3159.0051\n",
      "iteration 21000: Loss 3142.3693\n",
      "iteration 22000: Loss 3127.2806\n",
      "iteration 23000: Loss 3113.5729\n",
      "iteration 24000: Loss 3101.1028\n",
      "iteration 25000: Loss 3089.7457\n",
      "iteration 26000: Loss 3079.3918\n",
      "iteration 27000: Loss 3069.9443\n",
      "iteration 28000: Loss 3061.3171\n",
      "iteration 29000: Loss 3053.4335\n",
      "iteration 30000: Loss 3046.2246\n",
      "iteration 31000: Loss 3039.6286\n",
      "iteration 32000: Loss 3033.5900\n",
      "iteration 33000: Loss 3028.0584\n",
      "iteration 34000: Loss 3022.9886\n"
     ]
    }
   ],
   "source": [
    "# (8) 하이퍼 파라미터인 학습률 설정하기\n",
    "# 학습률, learning rate 를 설정해주세요\n",
    "# 만약 학습이 잘 되지 않는다면 learning rate 값을 한번 여러 가지로 설정하며 실험해 보세요.\n",
    "\n",
    "lr = 0.01\n",
    "print(\"gogo\")\n",
    "\n",
    "\n",
    "losses = []\n",
    "\n",
    "# epoch = 35000\n",
    "for i in range(1, 35000):\n",
    "    dW, db = gradient(x_train, W, b, y_train)\n",
    "    W -= lr*dW\n",
    "    b -= lr*db\n",
    "    L = loss(x_train, W, b, y_train)\n",
    "    losses.append(L)\n",
    "    if i%1000 == 0:\n",
    "        print(\"iteration %d: Loss %0.4f\" % (i, L))"
   ]
  },
  {
   "cell_type": "code",
   "execution_count": 14,
   "id": "e4701f7a",
   "metadata": {},
   "outputs": [
    {
     "data": {
      "image/png": "[encoded data removed]",
      "text/plain": [
       "<Figure size 432x288 with 1 Axes>"
      ]
     },
     "metadata": {
      "needs_background": "light"
     },
     "output_type": "display_data"
    }
   ],
   "source": [
    "plt.plot(losses)\n",
    "plt.show()"
   ]
  },
  {
   "cell_type": "code",
   "execution_count": 15,
   "id": "e5405cc0",
   "metadata": {},
   "outputs": [
    {
     "data": {
      "text/plain": [
       "2631.1063736645056"
      ]
     },
     "execution_count": 15,
     "metadata": {},
     "output_type": "execute_result"
    }
   ],
   "source": [
    "prediction = model(x_test, W, b)\n",
    "mse = loss(x_test, W, b, y_test)\n",
    "mse"
   ]
  },
  {
   "cell_type": "code",
   "execution_count": 16,
   "id": "6339d2ea",
   "metadata": {
    "scrolled": true
   },
   "outputs": [
    {
     "data": {
      "image/png": "[encoded data removed]",
      "text/plain": [
       "<Figure size 432x288 with 1 Axes>"
      ]
     },
     "metadata": {
      "needs_background": "light"
     },
     "output_type": "display_data"
    }
   ],
   "source": [
    "plt.scatter(x_test[:, 0], y_test)\n",
    "plt.scatter(x_test[:, 0], prediction)\n",
    "plt.show()"
   ]
  },
  {
   "cell_type": "code",
   "execution_count": null,
   "id": "5538140e",
   "metadata": {},
   "outputs": [],
   "source": []
  },
  {
   "cell_type": "code",
   "execution_count": null,
   "id": "7d32dddd",
   "metadata": {},
   "outputs": [],
   "source": []
  },
  {
   "cell_type": "code",
   "execution_count": null,
   "id": "08b83067",
   "metadata": {},
   "outputs": [],
   "source": []
  },
  {
   "cell_type": "code",
   "execution_count": null,
   "id": "22044c4e",
   "metadata": {},
   "outputs": [],
   "source": []
  },
  {
   "cell_type": "code",
   "execution_count": null,
   "id": "eed54945",
   "metadata": {},
   "outputs": [],
   "source": []
  },
  {
   "cell_type": "code",
   "execution_count": null,
   "id": "914bcbdf",
   "metadata": {},
   "outputs": [],
   "source": []
  },
  {
   "cell_type": "code",
   "execution_count": null,
   "id": "008184ca",
   "metadata": {},
   "outputs": [],
   "source": []
  }
 ],
 "metadata": {
  "kernelspec": {
   "display_name": "Python 3 (ipykernel)",
   "language": "python",
   "name": "python3"
  },
  "language_info": {
   "codemirror_mode": {
    "name": "ipython",
    "version": 3
   },
   "file_extension": ".py",
   "mimetype": "text/x-python",
   "name": "python",
   "nbconvert_exporter": "python",
   "pygments_lexer": "ipython3",
   "version": "3.9.7"
  }
 },
 "nbformat": 4,
 "nbformat_minor": 5
}
