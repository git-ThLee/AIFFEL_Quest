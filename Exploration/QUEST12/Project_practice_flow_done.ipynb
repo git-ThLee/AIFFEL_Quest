{
 "cells": [
  {
   "cell_type": "code",
   "execution_count": 1,
   "id": "2af1a264",
   "metadata": {},
   "outputs": [
    {
     "name": "stderr",
     "output_type": "stream",
     "text": [
      "[nltk_data] Downloading package stopwords to /aiffel/nltk_data...\n",
      "[nltk_data]   Package stopwords is already up-to-date!\n"
     ]
    }
   ],
   "source": [
    "# 뉴스 요약봇 만들기\n",
    "\n",
    "## 모듈 추가 및 NLTK 패키지 불용어 사전 다운로드\n",
    "import nltk\n",
    "nltk.download('stopwords')\n",
    "\n",
    "# 데이터 전처리 for문에서 진행 바 보고싶어서 추가\n",
    "from tqdm import tqdm\n",
    "\n",
    "import numpy as np\n",
    "import pandas as pd\n",
    "import os\n",
    "import re\n",
    "import matplotlib.pyplot as plt\n",
    "from nltk.corpus import stopwords\n",
    "from bs4 import BeautifulSoup \n",
    "from tensorflow.keras.preprocessing.text import Tokenizer \n",
    "from tensorflow.keras.preprocessing.sequence import pad_sequences\n",
    "import urllib.request\n",
    "import warnings\n",
    "warnings.filterwarnings(\"ignore\", category=UserWarning, module='bs4')"
   ]
  },
  {
   "cell_type": "code",
   "execution_count": 2,
   "id": "f161d5be",
   "metadata": {},
   "outputs": [
    {
     "name": "stdout",
     "output_type": "stream",
     "text": [
      "전체 샘플수 : 100000\n"
     ]
    }
   ],
   "source": [
    "# 총 568,454 샘플 중 100,000개 샘플만 뽑기\n",
    "data = pd.read_csv(os.getenv(\"HOME\")+\"/aiffel/news_summarization/data/Reviews.csv\", nrows=100000)\n",
    "print('전체 샘플수 :', (len(data)))"
   ]
  },
  {
   "cell_type": "code",
   "execution_count": 3,
   "id": "61d312c8",
   "metadata": {},
   "outputs": [
    {
     "data": {
      "text/html": [
       "<div>\n",
       "<style scoped>\n",
       "    .dataframe tbody tr th:only-of-type {\n",
       "        vertical-align: middle;\n",
       "    }\n",
       "\n",
       "    .dataframe tbody tr th {\n",
       "        vertical-align: top;\n",
       "    }\n",
       "\n",
       "    .dataframe thead th {\n",
       "        text-align: right;\n",
       "    }\n",
       "</style>\n",
       "<table border=\"1\" class=\"dataframe\">\n",
       "  <thead>\n",
       "    <tr style=\"text-align: right;\">\n",
       "      <th></th>\n",
       "      <th>Id</th>\n",
       "      <th>ProductId</th>\n",
       "      <th>UserId</th>\n",
       "      <th>ProfileName</th>\n",
       "      <th>HelpfulnessNumerator</th>\n",
       "      <th>HelpfulnessDenominator</th>\n",
       "      <th>Score</th>\n",
       "      <th>Time</th>\n",
       "      <th>Summary</th>\n",
       "      <th>Text</th>\n",
       "    </tr>\n",
       "  </thead>\n",
       "  <tbody>\n",
       "    <tr>\n",
       "      <th>0</th>\n",
       "      <td>1</td>\n",
       "      <td>B001E4KFG0</td>\n",
       "      <td>A3SGXH7AUHU8GW</td>\n",
       "      <td>delmartian</td>\n",
       "      <td>1</td>\n",
       "      <td>1</td>\n",
       "      <td>5</td>\n",
       "      <td>1303862400</td>\n",
       "      <td>Good Quality Dog Food</td>\n",
       "      <td>I have bought several of the Vitality canned d...</td>\n",
       "    </tr>\n",
       "    <tr>\n",
       "      <th>1</th>\n",
       "      <td>2</td>\n",
       "      <td>B00813GRG4</td>\n",
       "      <td>A1D87F6ZCVE5NK</td>\n",
       "      <td>dll pa</td>\n",
       "      <td>0</td>\n",
       "      <td>0</td>\n",
       "      <td>1</td>\n",
       "      <td>1346976000</td>\n",
       "      <td>Not as Advertised</td>\n",
       "      <td>Product arrived labeled as Jumbo Salted Peanut...</td>\n",
       "    </tr>\n",
       "    <tr>\n",
       "      <th>2</th>\n",
       "      <td>3</td>\n",
       "      <td>B000LQOCH0</td>\n",
       "      <td>ABXLMWJIXXAIN</td>\n",
       "      <td>Natalia Corres \"Natalia Corres\"</td>\n",
       "      <td>1</td>\n",
       "      <td>1</td>\n",
       "      <td>4</td>\n",
       "      <td>1219017600</td>\n",
       "      <td>\"Delight\" says it all</td>\n",
       "      <td>This is a confection that has been around a fe...</td>\n",
       "    </tr>\n",
       "    <tr>\n",
       "      <th>3</th>\n",
       "      <td>4</td>\n",
       "      <td>B000UA0QIQ</td>\n",
       "      <td>A395BORC6FGVXV</td>\n",
       "      <td>Karl</td>\n",
       "      <td>3</td>\n",
       "      <td>3</td>\n",
       "      <td>2</td>\n",
       "      <td>1307923200</td>\n",
       "      <td>Cough Medicine</td>\n",
       "      <td>If you are looking for the secret ingredient i...</td>\n",
       "    </tr>\n",
       "    <tr>\n",
       "      <th>4</th>\n",
       "      <td>5</td>\n",
       "      <td>B006K2ZZ7K</td>\n",
       "      <td>A1UQRSCLF8GW1T</td>\n",
       "      <td>Michael D. Bigham \"M. Wassir\"</td>\n",
       "      <td>0</td>\n",
       "      <td>0</td>\n",
       "      <td>5</td>\n",
       "      <td>1350777600</td>\n",
       "      <td>Great taffy</td>\n",
       "      <td>Great taffy at a great price.  There was a wid...</td>\n",
       "    </tr>\n",
       "  </tbody>\n",
       "</table>\n",
       "</div>"
      ],
      "text/plain": [
       "   Id   ProductId          UserId                      ProfileName  \\\n",
       "0   1  B001E4KFG0  A3SGXH7AUHU8GW                       delmartian   \n",
       "1   2  B00813GRG4  A1D87F6ZCVE5NK                           dll pa   \n",
       "2   3  B000LQOCH0   ABXLMWJIXXAIN  Natalia Corres \"Natalia Corres\"   \n",
       "3   4  B000UA0QIQ  A395BORC6FGVXV                             Karl   \n",
       "4   5  B006K2ZZ7K  A1UQRSCLF8GW1T    Michael D. Bigham \"M. Wassir\"   \n",
       "\n",
       "   HelpfulnessNumerator  HelpfulnessDenominator  Score        Time  \\\n",
       "0                     1                       1      5  1303862400   \n",
       "1                     0                       0      1  1346976000   \n",
       "2                     1                       1      4  1219017600   \n",
       "3                     3                       3      2  1307923200   \n",
       "4                     0                       0      5  1350777600   \n",
       "\n",
       "                 Summary                                               Text  \n",
       "0  Good Quality Dog Food  I have bought several of the Vitality canned d...  \n",
       "1      Not as Advertised  Product arrived labeled as Jumbo Salted Peanut...  \n",
       "2  \"Delight\" says it all  This is a confection that has been around a fe...  \n",
       "3         Cough Medicine  If you are looking for the secret ingredient i...  \n",
       "4            Great taffy  Great taffy at a great price.  There was a wid...  "
      ]
     },
     "execution_count": 3,
     "metadata": {},
     "output_type": "execute_result"
    }
   ],
   "source": [
    "# head() 확인\n",
    "data.head()"
   ]
  },
  {
   "cell_type": "code",
   "execution_count": 4,
   "id": "989d2a71",
   "metadata": {},
   "outputs": [
    {
     "data": {
      "text/html": [
       "<div>\n",
       "<style scoped>\n",
       "    .dataframe tbody tr th:only-of-type {\n",
       "        vertical-align: middle;\n",
       "    }\n",
       "\n",
       "    .dataframe tbody tr th {\n",
       "        vertical-align: top;\n",
       "    }\n",
       "\n",
       "    .dataframe thead th {\n",
       "        text-align: right;\n",
       "    }\n",
       "</style>\n",
       "<table border=\"1\" class=\"dataframe\">\n",
       "  <thead>\n",
       "    <tr style=\"text-align: right;\">\n",
       "      <th></th>\n",
       "      <th>Text</th>\n",
       "      <th>Summary</th>\n",
       "    </tr>\n",
       "  </thead>\n",
       "  <tbody>\n",
       "    <tr>\n",
       "      <th>83882</th>\n",
       "      <td>There's really not a ton to say; they're whole...</td>\n",
       "      <td>Nice</td>\n",
       "    </tr>\n",
       "    <tr>\n",
       "      <th>26463</th>\n",
       "      <td>I have to say that Buffalo Bills has really im...</td>\n",
       "      <td>Buffalo Bills is the BEST</td>\n",
       "    </tr>\n",
       "    <tr>\n",
       "      <th>66392</th>\n",
       "      <td>Purchased this to use for travel as it's diffi...</td>\n",
       "      <td>Metallic Taste is the Deal Breaker</td>\n",
       "    </tr>\n",
       "    <tr>\n",
       "      <th>80510</th>\n",
       "      <td>Please eat Organic Grass Fed Liver products. T...</td>\n",
       "      <td>If You're Gonna Liver....</td>\n",
       "    </tr>\n",
       "    <tr>\n",
       "      <th>22739</th>\n",
       "      <td>The shortbread arrived well packaged and intac...</td>\n",
       "      <td>Arrived well packaged</td>\n",
       "    </tr>\n",
       "    <tr>\n",
       "      <th>70123</th>\n",
       "      <td>As far as dry iced tea mixes go, this is a ver...</td>\n",
       "      <td>Very average product</td>\n",
       "    </tr>\n",
       "    <tr>\n",
       "      <th>49991</th>\n",
       "      <td>Raw Revolution Organic Live Food Bars, Coconut...</td>\n",
       "      <td>Taste Good</td>\n",
       "    </tr>\n",
       "    <tr>\n",
       "      <th>83185</th>\n",
       "      <td>Had my big noble boy dog, who had been with me...</td>\n",
       "      <td>Consistently in the top ten recommended canned...</td>\n",
       "    </tr>\n",
       "    <tr>\n",
       "      <th>9990</th>\n",
       "      <td>Great product, our daughter loves this and has...</td>\n",
       "      <td>Baby loves, and so do we</td>\n",
       "    </tr>\n",
       "    <tr>\n",
       "      <th>93983</th>\n",
       "      <td>My dog is not enthusiastic about food.  She en...</td>\n",
       "      <td>Liver treats</td>\n",
       "    </tr>\n",
       "    <tr>\n",
       "      <th>81710</th>\n",
       "      <td>I am a brazilian living in the US and drank Vi...</td>\n",
       "      <td>Always great coconut water</td>\n",
       "    </tr>\n",
       "    <tr>\n",
       "      <th>99314</th>\n",
       "      <td>I hate to give a bad review since I have no id...</td>\n",
       "      <td>WARNING--DO NOT USE IF YOU ARE ALLERGIC TO PEA...</td>\n",
       "    </tr>\n",
       "    <tr>\n",
       "      <th>39192</th>\n",
       "      <td>My dogs love the food. Good value for no grain...</td>\n",
       "      <td>Nature's Variety Instinct dog food</td>\n",
       "    </tr>\n",
       "    <tr>\n",
       "      <th>54174</th>\n",
       "      <td>I would buy more but I eat like 20 of them in ...</td>\n",
       "      <td>Love this candy</td>\n",
       "    </tr>\n",
       "    <tr>\n",
       "      <th>42015</th>\n",
       "      <td>I have been having the Quaker Weight Control M...</td>\n",
       "      <td>But Where's Mine?</td>\n",
       "    </tr>\n",
       "  </tbody>\n",
       "</table>\n",
       "</div>"
      ],
      "text/plain": [
       "                                                    Text  \\\n",
       "83882  There's really not a ton to say; they're whole...   \n",
       "26463  I have to say that Buffalo Bills has really im...   \n",
       "66392  Purchased this to use for travel as it's diffi...   \n",
       "80510  Please eat Organic Grass Fed Liver products. T...   \n",
       "22739  The shortbread arrived well packaged and intac...   \n",
       "70123  As far as dry iced tea mixes go, this is a ver...   \n",
       "49991  Raw Revolution Organic Live Food Bars, Coconut...   \n",
       "83185  Had my big noble boy dog, who had been with me...   \n",
       "9990   Great product, our daughter loves this and has...   \n",
       "93983  My dog is not enthusiastic about food.  She en...   \n",
       "81710  I am a brazilian living in the US and drank Vi...   \n",
       "99314  I hate to give a bad review since I have no id...   \n",
       "39192  My dogs love the food. Good value for no grain...   \n",
       "54174  I would buy more but I eat like 20 of them in ...   \n",
       "42015  I have been having the Quaker Weight Control M...   \n",
       "\n",
       "                                                 Summary  \n",
       "83882                                               Nice  \n",
       "26463                          Buffalo Bills is the BEST  \n",
       "66392                 Metallic Taste is the Deal Breaker  \n",
       "80510                          If You're Gonna Liver....  \n",
       "22739                              Arrived well packaged  \n",
       "70123                               Very average product  \n",
       "49991                                         Taste Good  \n",
       "83185  Consistently in the top ten recommended canned...  \n",
       "9990                            Baby loves, and so do we  \n",
       "93983                                       Liver treats  \n",
       "81710                         Always great coconut water  \n",
       "99314  WARNING--DO NOT USE IF YOU ARE ALLERGIC TO PEA...  \n",
       "39192                 Nature's Variety Instinct dog food  \n",
       "54174                                    Love this candy  \n",
       "42015                                  But Where's Mine?  "
      ]
     },
     "execution_count": 4,
     "metadata": {},
     "output_type": "execute_result"
    }
   ],
   "source": [
    "# 데이터프레임 data에 `Text`, 'Summary' 컬럼만 남기기\n",
    "# 랜덤 (15개) 샘플 출력까지\n",
    "\n",
    "# Input [[YOUR CODE]] aside `data`\n",
    "data = data[['Text', 'Summary']]\n",
    "data.head()\n",
    "\n",
    "#랜덤한 15개 샘플 출력\n",
    "data.sample(15)"
   ]
  },
  {
   "cell_type": "code",
   "execution_count": 5,
   "id": "20d743af",
   "metadata": {},
   "outputs": [
    {
     "name": "stdout",
     "output_type": "stream",
     "text": [
      "Text 열에서 중복을 배제한 유일한 샘플의 수 : 88426\n",
      "Summary 열에서 중복을 배제한 유일한 샘플의 수 : 72348\n"
     ]
    }
   ],
   "source": [
    "# 데이터 중복 샘플 유무 확인\n",
    "print('Text 열에서 중복을 배제한 유일한 샘플의 수 :', data['Text'].nunique())\n",
    "print('Summary 열에서 중복을 배제한 유일한 샘플의 수 :', data['Summary'].nunique())\n",
    "    "
   ]
  },
  {
   "cell_type": "code",
   "execution_count": 6,
   "id": "e459988a",
   "metadata": {},
   "outputs": [
    {
     "name": "stdout",
     "output_type": "stream",
     "text": [
      "전체 샘플수 : 88426\n"
     ]
    }
   ],
   "source": [
    "# 데이터 중복 샘플 제거\n",
    "# inplace=True 를 설정하면 DataFrame 타입 값을 return 하지 않고 data 내부를 직접적으로 바꿉니다\n",
    "data.drop_duplicates(subset = ['Text'], inplace=True)\n",
    "print('전체 샘플수 :', (len(data)))"
   ]
  },
  {
   "cell_type": "code",
   "execution_count": 7,
   "id": "2803ae08",
   "metadata": {},
   "outputs": [
    {
     "name": "stdout",
     "output_type": "stream",
     "text": [
      "Text       0\n",
      "Summary    1\n",
      "dtype: int64\n"
     ]
    }
   ],
   "source": [
    "# 데이터프레임 null값 확인\n",
    "print(data.isnull().sum())"
   ]
  },
  {
   "cell_type": "code",
   "execution_count": 8,
   "id": "e780b8c7",
   "metadata": {},
   "outputs": [
    {
     "name": "stdout",
     "output_type": "stream",
     "text": [
      "전체 샘플수 : 88425\n"
     ]
    }
   ],
   "source": [
    "# 데이터프레임 null값 제거\n",
    "data.dropna(axis=0, inplace=True)\n",
    "print('전체 샘플수 :', (len(data)))"
   ]
  },
  {
   "cell_type": "code",
   "execution_count": 9,
   "id": "6da086a5",
   "metadata": {},
   "outputs": [
    {
     "name": "stdout",
     "output_type": "stream",
     "text": [
      "정규화 사전의 수:  120\n"
     ]
    }
   ],
   "source": [
    "# 텍스트 정규화를 위한 사전(dictionary) 구성\n",
    "contractions = {\"ain't\": \"is not\", \"aren't\": \"are not\",\"can't\": \"cannot\", \"'cause\": \"because\", \"could've\": \"could have\", \"couldn't\": \"could not\",\n",
    "                           \"didn't\": \"did not\",  \"doesn't\": \"does not\", \"don't\": \"do not\", \"hadn't\": \"had not\", \"hasn't\": \"has not\", \"haven't\": \"have not\",\n",
    "                           \"he'd\": \"he would\",\"he'll\": \"he will\", \"he's\": \"he is\", \"how'd\": \"how did\", \"how'd'y\": \"how do you\", \"how'll\": \"how will\", \"how's\": \"how is\",\n",
    "                           \"I'd\": \"I would\", \"I'd've\": \"I would have\", \"I'll\": \"I will\", \"I'll've\": \"I will have\",\"I'm\": \"I am\", \"I've\": \"I have\", \"i'd\": \"i would\",\n",
    "                           \"i'd've\": \"i would have\", \"i'll\": \"i will\",  \"i'll've\": \"i will have\",\"i'm\": \"i am\", \"i've\": \"i have\", \"isn't\": \"is not\", \"it'd\": \"it would\",\n",
    "                           \"it'd've\": \"it would have\", \"it'll\": \"it will\", \"it'll've\": \"it will have\",\"it's\": \"it is\", \"let's\": \"let us\", \"ma'am\": \"madam\",\n",
    "                           \"mayn't\": \"may not\", \"might've\": \"might have\",\"mightn't\": \"might not\",\"mightn't've\": \"might not have\", \"must've\": \"must have\",\n",
    "                           \"mustn't\": \"must not\", \"mustn't've\": \"must not have\", \"needn't\": \"need not\", \"needn't've\": \"need not have\",\"o'clock\": \"of the clock\",\n",
    "                           \"oughtn't\": \"ought not\", \"oughtn't've\": \"ought not have\", \"shan't\": \"shall not\", \"sha'n't\": \"shall not\", \"shan't've\": \"shall not have\",\n",
    "                           \"she'd\": \"she would\", \"she'd've\": \"she would have\", \"she'll\": \"she will\", \"she'll've\": \"she will have\", \"she's\": \"she is\",\n",
    "                           \"should've\": \"should have\", \"shouldn't\": \"should not\", \"shouldn't've\": \"should not have\", \"so've\": \"so have\",\"so's\": \"so as\",\n",
    "                           \"this's\": \"this is\",\"that'd\": \"that would\", \"that'd've\": \"that would have\", \"that's\": \"that is\", \"there'd\": \"there would\",\n",
    "                           \"there'd've\": \"there would have\", \"there's\": \"there is\", \"here's\": \"here is\",\"they'd\": \"they would\", \"they'd've\": \"they would have\",\n",
    "                           \"they'll\": \"they will\", \"they'll've\": \"they will have\", \"they're\": \"they are\", \"they've\": \"they have\", \"to've\": \"to have\",\n",
    "                           \"wasn't\": \"was not\", \"we'd\": \"we would\", \"we'd've\": \"we would have\", \"we'll\": \"we will\", \"we'll've\": \"we will have\", \"we're\": \"we are\",\n",
    "                           \"we've\": \"we have\", \"weren't\": \"were not\", \"what'll\": \"what will\", \"what'll've\": \"what will have\", \"what're\": \"what are\",\n",
    "                           \"what's\": \"what is\", \"what've\": \"what have\", \"when's\": \"when is\", \"when've\": \"when have\", \"where'd\": \"where did\", \"where's\": \"where is\",\n",
    "                           \"where've\": \"where have\", \"who'll\": \"who will\", \"who'll've\": \"who will have\", \"who's\": \"who is\", \"who've\": \"who have\",\n",
    "                           \"why's\": \"why is\", \"why've\": \"why have\", \"will've\": \"will have\", \"won't\": \"will not\", \"won't've\": \"will not have\",\n",
    "                           \"would've\": \"would have\", \"wouldn't\": \"would not\", \"wouldn't've\": \"would not have\", \"y'all\": \"you all\",\n",
    "                           \"y'all'd\": \"you all would\",\"y'all'd've\": \"you all would have\",\"y'all're\": \"you all are\",\"y'all've\": \"you all have\",\n",
    "                           \"you'd\": \"you would\", \"you'd've\": \"you would have\", \"you'll\": \"you will\", \"you'll've\": \"you will have\",\n",
    "                           \"you're\": \"you are\", \"you've\": \"you have\"}\n",
    "\n",
    "print(\"정규화 사전의 수: \", len(contractions))"
   ]
  },
  {
   "cell_type": "code",
   "execution_count": 10,
   "id": "cb2fdf44",
   "metadata": {},
   "outputs": [
    {
     "name": "stdout",
     "output_type": "stream",
     "text": [
      "불용어 개수 : 179\n",
      "['i', 'me', 'my', 'myself', 'we', 'our', 'ours', 'ourselves', 'you', \"you're\", \"you've\", \"you'll\", \"you'd\", 'your', 'yours', 'yourself', 'yourselves', 'he', 'him', 'his', 'himself', 'she', \"she's\", 'her', 'hers', 'herself', 'it', \"it's\", 'its', 'itself', 'they', 'them', 'their', 'theirs', 'themselves', 'what', 'which', 'who', 'whom', 'this', 'that', \"that'll\", 'these', 'those', 'am', 'is', 'are', 'was', 'were', 'be', 'been', 'being', 'have', 'has', 'had', 'having', 'do', 'does', 'did', 'doing', 'a', 'an', 'the', 'and', 'but', 'if', 'or', 'because', 'as', 'until', 'while', 'of', 'at', 'by', 'for', 'with', 'about', 'against', 'between', 'into', 'through', 'during', 'before', 'after', 'above', 'below', 'to', 'from', 'up', 'down', 'in', 'out', 'on', 'off', 'over', 'under', 'again', 'further', 'then', 'once', 'here', 'there', 'when', 'where', 'why', 'how', 'all', 'any', 'both', 'each', 'few', 'more', 'most', 'other', 'some', 'such', 'no', 'nor', 'not', 'only', 'own', 'same', 'so', 'than', 'too', 'very', 's', 't', 'can', 'will', 'just', 'don', \"don't\", 'should', \"should've\", 'now', 'd', 'll', 'm', 'o', 're', 've', 'y', 'ain', 'aren', \"aren't\", 'couldn', \"couldn't\", 'didn', \"didn't\", 'doesn', \"doesn't\", 'hadn', \"hadn't\", 'hasn', \"hasn't\", 'haven', \"haven't\", 'isn', \"isn't\", 'ma', 'mightn', \"mightn't\", 'mustn', \"mustn't\", 'needn', \"needn't\", 'shan', \"shan't\", 'shouldn', \"shouldn't\", 'wasn', \"wasn't\", 'weren', \"weren't\", 'won', \"won't\", 'wouldn', \"wouldn't\"]\n"
     ]
    }
   ],
   "source": [
    "# 불용어 개수 및 내역 파악\n",
    "print('불용어 개수 :', len(stopwords.words('english') ))\n",
    "print(stopwords.words('english'))"
   ]
  },
  {
   "cell_type": "code",
   "execution_count": 11,
   "id": "91fe8a29",
   "metadata": {},
   "outputs": [
    {
     "name": "stdout",
     "output_type": "stream",
     "text": [
      "=3\n"
     ]
    }
   ],
   "source": [
    "# 데이터 전처리 함수\n",
    "def preprocess_sentence(sentence, remove_stopwords=True):\n",
    "    sentence = sentence.lower() # 텍스트 소문자화\n",
    "    sentence = BeautifulSoup(sentence, \"lxml\").text # <br />, <a href = ...> 등의 html 태그 제거\n",
    "    sentence = re.sub(r'\\([^)]*\\)', '', sentence) # 괄호로 닫힌 문자열 (...) 제거 Ex) my husband (and myself!) for => my husband for\n",
    "    sentence = re.sub('\"','', sentence) # 쌍따옴표 \" 제거\n",
    "    sentence = ' '.join([contractions[t] if t in contractions else t for t in sentence.split(\" \")]) # 약어 정규화\n",
    "    sentence = re.sub(r\"'s\\b\",\"\", sentence) # 소유격 제거. Ex) roland's -> roland\n",
    "    sentence = re.sub(\"[^a-zA-Z]\", \" \", sentence) # 영어 외 문자(숫자, 특수문자 등) 공백으로 변환\n",
    "    sentence = re.sub('[m]{2,}', 'mm', sentence) # m이 3개 이상이면 2개로 변경. Ex) ummmmmmm yeah -> umm yeah\n",
    "    \n",
    "    # 불용어 제거 (Text)\n",
    "    if remove_stopwords:\n",
    "        tokens = ' '.join(word for word in sentence.split() if not word in stopwords.words('english') if len(word) > 1)\n",
    "    # 불용어 미제거 (Summary)\n",
    "    else:\n",
    "        tokens = ' '.join(word for word in sentence.split() if len(word) > 1)\n",
    "    return tokens\n",
    "print('=3')"
   ]
  },
  {
   "cell_type": "code",
   "execution_count": 12,
   "id": "31d725d8",
   "metadata": {},
   "outputs": [
    {
     "name": "stdout",
     "output_type": "stream",
     "text": [
      "text:  everything bought great infact ordered twice third ordered wasfor mother father\n",
      "summary: great way to start the day\n"
     ]
    }
   ],
   "source": [
    "# 데이터전처리 함수 검증\n",
    "temp_text = 'Everything I bought was great, infact I ordered twice and the third ordered was<br />for my mother and father.'\n",
    "temp_summary = 'Great way to start (or finish) the day!!!'\n",
    "\n",
    "print(\"text: \", preprocess_sentence(temp_text))\n",
    "print(\"summary:\", preprocess_sentence(temp_summary, False))  # 불용어를 제거하지 않습니다."
   ]
  },
  {
   "cell_type": "code",
   "execution_count": 13,
   "id": "216bf854",
   "metadata": {},
   "outputs": [
    {
     "name": "stdout",
     "output_type": "stream",
     "text": [
      "CSV read 완료!\n"
     ]
    }
   ],
   "source": [
    "# 전처리한 파일(CSV)가 없으면 아래를 수행하게끔\n",
    "if os.path.isfile('preprocessed_data.csv') == False:\n",
    "    # 전체 Text 데이터에 대한 전처리 : 10분 이상 시간이 걸릴 수 있습니다. \n",
    "    clean_text = []\n",
    "\n",
    "    # [[YOUR CODE]]\n",
    "    for sentence in tqdm(data['Text'], desc=\"Text 컬럼 전처리..\"):\n",
    "        clean_text.append(preprocess_sentence(sentence, remove_stopwords=True))\n",
    "\n",
    "    # 전처리 한 데이터 길이 보자\n",
    "    print(f\"Length of the `clean_text`: {len(clean_text)}\")\n",
    "\n",
    "    # 전처리 후 출력\n",
    "    print(\"Text 전처리 후 결과: \", clean_text[:5])\n",
    "    \n",
    "    # 전체 Summary 데이터에 대한 전처리 : 5분 이상 시간이 걸릴 수 있습니다. \n",
    "    clean_summary = []\n",
    "\n",
    "    # [[YOUR CODE]]\n",
    "    for sentence in tqdm(data['Summary'], desc=\"Summary 컬럼 전처리..\"):\n",
    "        clean_summary.append(preprocess_sentence(sentence, remove_stopwords=False))\n",
    "\n",
    "    # 전처리 한 데이터 길이 보자\n",
    "    print(f\"Length of the `clean_summary`: {len(clean_summary)}\")\n",
    "\n",
    "    print(\"Summary 전처리 후 결과: \", clean_summary[:5])\n",
    "    \n",
    "    # 데이터를 DataFrame에 저장\n",
    "    data['Text'] = clean_text\n",
    "    data['Summary'] = clean_summary\n",
    "\n",
    "    # 빈 값을 Null 값으로 변환\n",
    "    data.replace('', np.nan, inplace=True)\n",
    "    print('=3')\n",
    "    \n",
    "    # Null 값 여부 체크\n",
    "    data.isnull().sum()\n",
    "    \n",
    "    # Null 값 제거 후, 전체 샘플 수 확인\n",
    "    data.dropna(axis=0, inplace=True)\n",
    "    print('전체 샘플수 :', (len(data)))\n",
    "    \n",
    "    ## preprocessing된 DataFrame을 CSV로 백업\n",
    "    ## 이후 커널을 새로 돌리거나 한다면 전처리과정을 이 파일로 퉁 치자\n",
    "    data.to_csv('preprocessed_data.csv')\n",
    "    print(\"CSV 백업완료\")\n",
    "else:\n",
    "    # 파일 만들어뒀으면 data는 그냥 이거로 퉁\n",
    "    data = pd.read_csv(os.getenv(\"HOME\")+\"/aiffel/preprocessed_data.csv\")\n",
    "    print(\"CSV read 완료!\")\n",
    "    "
   ]
  },
  {
   "cell_type": "code",
   "execution_count": 14,
   "id": "07583c30",
   "metadata": {},
   "outputs": [
    {
     "name": "stdout",
     "output_type": "stream",
     "text": [
      "텍스트의 최소 길이 : 2\n",
      "텍스트의 최대 길이 : 1235\n",
      "텍스트의 평균 길이 : 38.792428272310566\n",
      "요약의 최소 길이 : 1\n",
      "요약의 최대 길이 : 28\n",
      "요약의 평균 길이 : 4.010729443721352\n"
     ]
    },
    {
     "data": {
      "image/png": "[encoded data removed]",
      "text/plain": [
       "<Figure size 432x288 with 2 Axes>"
      ]
     },
     "metadata": {
      "needs_background": "light"
     },
     "output_type": "display_data"
    },
    {
     "data": {
      "image/png": "[encoded data removed]",
      "text/plain": [
       "<Figure size 432x288 with 1 Axes>"
      ]
     },
     "metadata": {
      "needs_background": "light"
     },
     "output_type": "display_data"
    },
    {
     "data": {
      "image/png": "[encoded data removed]",
      "text/plain": [
       "<Figure size 432x288 with 1 Axes>"
      ]
     },
     "metadata": {
      "needs_background": "light"
     },
     "output_type": "display_data"
    }
   ],
   "source": [
    "# Text와 Summary 최소, 최대, 평균 길이 구하기\n",
    "# 길이 분포 시각화 출력\n",
    "import matplotlib.pyplot as plt\n",
    "\n",
    "text_len = [len(s.split()) for s in data['Text']]\n",
    "summary_len = [len(s.split()) for s in data['Summary']]\n",
    "\n",
    "print('텍스트의 최소 길이 : {}'.format(np.min(text_len)))\n",
    "print('텍스트의 최대 길이 : {}'.format(np.max(text_len)))\n",
    "print('텍스트의 평균 길이 : {}'.format(np.mean(text_len)))\n",
    "print('요약의 최소 길이 : {}'.format(np.min(summary_len)))\n",
    "print('요약의 최대 길이 : {}'.format(np.max(summary_len)))\n",
    "print('요약의 평균 길이 : {}'.format(np.mean(summary_len)))\n",
    "\n",
    "plt.subplot(1,2,1)\n",
    "plt.boxplot(text_len)\n",
    "plt.title('Text')\n",
    "plt.subplot(1,2,2)\n",
    "plt.boxplot(summary_len)\n",
    "plt.title('Summary')\n",
    "plt.tight_layout()\n",
    "plt.show()\n",
    "\n",
    "plt.title('Text')\n",
    "plt.hist(text_len, bins = 40)\n",
    "plt.xlabel('length of samples')\n",
    "plt.ylabel('number of samples')\n",
    "plt.show()\n",
    "\n",
    "plt.title('Summary')\n",
    "plt.hist(summary_len, bins = 40)\n",
    "plt.xlabel('length of samples')\n",
    "plt.ylabel('number of samples')\n",
    "plt.show()"
   ]
  },
  {
   "cell_type": "code",
   "execution_count": 15,
   "id": "4b6ff501",
   "metadata": {},
   "outputs": [
    {
     "name": "stdout",
     "output_type": "stream",
     "text": [
      "=3\n"
     ]
    }
   ],
   "source": [
    "# Text, Summary 최대 길이 임의 세팅\n",
    "text_max_len = 50\n",
    "summary_max_len = 8\n",
    "print('=3')"
   ]
  },
  {
   "cell_type": "code",
   "execution_count": 16,
   "id": "90420f0f",
   "metadata": {},
   "outputs": [
    {
     "name": "stdout",
     "output_type": "stream",
     "text": [
      "=3\n"
     ]
    }
   ],
   "source": [
    "# 데이터 비율 (최대길이 설정값 이하인 데이터들이 얼마나 있는지를 비율로 표시)\n",
    "def below_threshold_len(max_len, nested_list):\n",
    "  cnt = 0\n",
    "  for s in nested_list:\n",
    "    if(len(s.split()) <= max_len):\n",
    "        cnt = cnt + 1\n",
    "  print('전체 샘플 중 길이가 %s 이하인 샘플의 비율: %s'%(max_len, (cnt / len(nested_list))))\n",
    "print('=3')"
   ]
  },
  {
   "cell_type": "code",
   "execution_count": 17,
   "id": "07d1bb51",
   "metadata": {},
   "outputs": [
    {
     "name": "stdout",
     "output_type": "stream",
     "text": [
      "전체 샘플 중 길이가 50 이하인 샘플의 비율: 0.7745119121724859\n",
      "전체 샘플 중 길이가 8 이하인 샘플의 비율: 0.9424593967517402\n"
     ]
    }
   ],
   "source": [
    "# 비율 확인\n",
    "below_threshold_len(text_max_len, data['Text'])\n",
    "below_threshold_len(summary_max_len,  data['Summary'])"
   ]
  },
  {
   "cell_type": "code",
   "execution_count": 18,
   "id": "21189aaf",
   "metadata": {},
   "outputs": [
    {
     "name": "stdout",
     "output_type": "stream",
     "text": [
      "전체 샘플수 : 65818\n"
     ]
    }
   ],
   "source": [
    "# [[YOUR CODE]]\n",
    "## 모든 구현은 apply()와 lambda 식을 사용\n",
    "\n",
    "# data['Text'] 데이터 중에서 text_max_len = 50 길이보다 큰 샘플은 제외하기\n",
    "## df.apply()는 Series를 반환\n",
    "### df.apply()로 획득한 값은 데이터프레임의 특정 컬럼에 들어가야 값이 변경(update)됨\n",
    "#### 50 길이보다 길면 None (Null 값)이 들어감\n",
    "data['Text'] = data['Text'].apply(lambda x:x if len(x.split()) <= text_max_len else None)\n",
    "\n",
    "# data['Summary'] 데이터 중에서 summary_max_len = 8 길이보다 큰 샘플은 제외하기\n",
    "## df.apply()는 Series를 반환\n",
    "### df.apply()로 획득한 값은 데이터프레임의 특정 컬럼에 들어가야 값이 변경(update)됨\n",
    "data['Summary'] = data['Summary'].apply(lambda x:x if len(x.split()) <= summary_max_len else None)\n",
    "\n",
    "# Null 값 여부 체크\n",
    "data.isnull().sum()\n",
    "\n",
    "# 모든 열의 Null 값 제거\n",
    "data.dropna(axis=0, inplace=True)\n",
    "\n",
    "# 이전이랑 같은거 같다?..\n",
    "print('전체 샘플수 :', (len(data)))"
   ]
  },
  {
   "cell_type": "code",
   "execution_count": 19,
   "id": "77181066",
   "metadata": {},
   "outputs": [
    {
     "data": {
      "text/html": [
       "<div>\n",
       "<style scoped>\n",
       "    .dataframe tbody tr th:only-of-type {\n",
       "        vertical-align: middle;\n",
       "    }\n",
       "\n",
       "    .dataframe tbody tr th {\n",
       "        vertical-align: top;\n",
       "    }\n",
       "\n",
       "    .dataframe thead th {\n",
       "        text-align: right;\n",
       "    }\n",
       "</style>\n",
       "<table border=\"1\" class=\"dataframe\">\n",
       "  <thead>\n",
       "    <tr style=\"text-align: right;\">\n",
       "      <th></th>\n",
       "      <th>Unnamed: 0</th>\n",
       "      <th>Text</th>\n",
       "      <th>Summary</th>\n",
       "      <th>decoder_input</th>\n",
       "      <th>decoder_target</th>\n",
       "    </tr>\n",
       "  </thead>\n",
       "  <tbody>\n",
       "    <tr>\n",
       "      <th>0</th>\n",
       "      <td>0</td>\n",
       "      <td>bought several vitality canned dog food produc...</td>\n",
       "      <td>good quality dog food</td>\n",
       "      <td>sostoken good quality dog food</td>\n",
       "      <td>good quality dog food eostoken</td>\n",
       "    </tr>\n",
       "    <tr>\n",
       "      <th>1</th>\n",
       "      <td>1</td>\n",
       "      <td>product arrived labeled jumbo salted peanuts p...</td>\n",
       "      <td>not as advertised</td>\n",
       "      <td>sostoken not as advertised</td>\n",
       "      <td>not as advertised eostoken</td>\n",
       "    </tr>\n",
       "    <tr>\n",
       "      <th>2</th>\n",
       "      <td>2</td>\n",
       "      <td>confection around centuries light pillowy citr...</td>\n",
       "      <td>delight says it all</td>\n",
       "      <td>sostoken delight says it all</td>\n",
       "      <td>delight says it all eostoken</td>\n",
       "    </tr>\n",
       "    <tr>\n",
       "      <th>3</th>\n",
       "      <td>3</td>\n",
       "      <td>looking secret ingredient robitussin believe f...</td>\n",
       "      <td>cough medicine</td>\n",
       "      <td>sostoken cough medicine</td>\n",
       "      <td>cough medicine eostoken</td>\n",
       "    </tr>\n",
       "    <tr>\n",
       "      <th>4</th>\n",
       "      <td>4</td>\n",
       "      <td>great taffy great price wide assortment yummy ...</td>\n",
       "      <td>great taffy</td>\n",
       "      <td>sostoken great taffy</td>\n",
       "      <td>great taffy eostoken</td>\n",
       "    </tr>\n",
       "  </tbody>\n",
       "</table>\n",
       "</div>"
      ],
      "text/plain": [
       "   Unnamed: 0                                               Text  \\\n",
       "0           0  bought several vitality canned dog food produc...   \n",
       "1           1  product arrived labeled jumbo salted peanuts p...   \n",
       "2           2  confection around centuries light pillowy citr...   \n",
       "3           3  looking secret ingredient robitussin believe f...   \n",
       "4           4  great taffy great price wide assortment yummy ...   \n",
       "\n",
       "                 Summary                   decoder_input  \\\n",
       "0  good quality dog food  sostoken good quality dog food   \n",
       "1      not as advertised      sostoken not as advertised   \n",
       "2    delight says it all    sostoken delight says it all   \n",
       "3         cough medicine         sostoken cough medicine   \n",
       "4            great taffy            sostoken great taffy   \n",
       "\n",
       "                   decoder_target  \n",
       "0  good quality dog food eostoken  \n",
       "1      not as advertised eostoken  \n",
       "2    delight says it all eostoken  \n",
       "3         cough medicine eostoken  \n",
       "4            great taffy eostoken  "
      ]
     },
     "execution_count": 19,
     "metadata": {},
     "output_type": "execute_result"
    }
   ],
   "source": [
    "# 요약 데이터에는 시작 토큰과 종료 토큰을 추가한다.\n",
    "data['decoder_input'] = data['Summary'].apply(lambda x : 'sostoken '+ x)\n",
    "data['decoder_target'] = data['Summary'].apply(lambda x : x + ' eostoken')\n",
    "data.head()"
   ]
  },
  {
   "cell_type": "code",
   "execution_count": 20,
   "id": "c117de65",
   "metadata": {},
   "outputs": [
    {
     "name": "stdout",
     "output_type": "stream",
     "text": [
      "=3\n"
     ]
    }
   ],
   "source": [
    "# 인코더의 입력, 디코더의 입력과 레이블을 각각 다시 Numpy 타입으로 저장\n",
    "encoder_input = np.array(data['Text']) # 인코더의 입력\n",
    "decoder_input = np.array(data['decoder_input']) # 디코더의 입력\n",
    "decoder_target = np.array(data['decoder_target']) # 디코더의 레이블\n",
    "print('=3')"
   ]
  },
  {
   "cell_type": "code",
   "execution_count": 21,
   "id": "c10599e7",
   "metadata": {},
   "outputs": [
    {
     "name": "stdout",
     "output_type": "stream",
     "text": [
      "[17399 36030 36963 ... 39496 10332 58069]\n"
     ]
    }
   ],
   "source": [
    "# 훈련 데이터와 테스트 데이터 분리\n",
    "indices = np.arange(encoder_input.shape[0])\n",
    "np.random.shuffle(indices)\n",
    "print(indices)"
   ]
  },
  {
   "cell_type": "code",
   "execution_count": 22,
   "id": "4dd26214",
   "metadata": {},
   "outputs": [
    {
     "name": "stdout",
     "output_type": "stream",
     "text": [
      "=3\n"
     ]
    }
   ],
   "source": [
    "# 정수 시퀀스를 이용해 다시 데이터 샘플 순서 정의\n",
    "encoder_input = encoder_input[indices]\n",
    "decoder_input = decoder_input[indices]\n",
    "decoder_target = decoder_target[indices]\n",
    "print('=3')"
   ]
  },
  {
   "cell_type": "code",
   "execution_count": 23,
   "id": "d973f45f",
   "metadata": {},
   "outputs": [
    {
     "name": "stdout",
     "output_type": "stream",
     "text": [
      "테스트 데이터의 수 : 13163\n"
     ]
    }
   ],
   "source": [
    "# 섞인 데이터를 8:2 비율로 분리 (train_set : test_set = 8:2)\n",
    "n_of_val = int(len(encoder_input)*0.2)\n",
    "print('테스트 데이터의 수 :', n_of_val)"
   ]
  },
  {
   "cell_type": "code",
   "execution_count": 24,
   "id": "2ff49070",
   "metadata": {},
   "outputs": [
    {
     "name": "stdout",
     "output_type": "stream",
     "text": [
      "훈련 데이터의 개수 : 52655\n",
      "훈련 레이블의 개수 : 52655\n",
      "테스트 데이터의 개수 : 13163\n",
      "테스트 레이블의 개수 : 13163\n"
     ]
    }
   ],
   "source": [
    "# 정의한 테스트 데이터 개수\n",
    "# 이용하여 전체 데이터 양분\n",
    "encoder_input_train = encoder_input[:-n_of_val]\n",
    "decoder_input_train = decoder_input[:-n_of_val]\n",
    "decoder_target_train = decoder_target[:-n_of_val]\n",
    "\n",
    "encoder_input_test = encoder_input[-n_of_val:]\n",
    "decoder_input_test = decoder_input[-n_of_val:]\n",
    "decoder_target_test = decoder_target[-n_of_val:]\n",
    "\n",
    "print('훈련 데이터의 개수 :', len(encoder_input_train))\n",
    "print('훈련 레이블의 개수 :', len(decoder_input_train))\n",
    "print('테스트 데이터의 개수 :', len(encoder_input_test))\n",
    "print('테스트 레이블의 개수 :', len(decoder_input_test))\n",
    "\n",
    "## 노드기준 다음 값이 나와야 한다.\n",
    "## 훈련 데이터 : 52,655개\n",
    "## 테스트 데이터 13,163개"
   ]
  },
  {
   "cell_type": "code",
   "execution_count": 25,
   "id": "9848a1da",
   "metadata": {},
   "outputs": [
    {
     "name": "stdout",
     "output_type": "stream",
     "text": [
      "=3\n"
     ]
    }
   ],
   "source": [
    "# Keras 토크나이저 사용\n",
    "## 입력된 훈련 데이터로부터 단어 집합 만들기\n",
    "src_tokenizer = Tokenizer() # 토크나이저 정의\n",
    "src_tokenizer.fit_on_texts(encoder_input_train) # 입력된 데이터로부터 단어 집합 생성\n",
    "print('=3')"
   ]
  },
  {
   "cell_type": "code",
   "execution_count": 26,
   "id": "9a8fd064",
   "metadata": {},
   "outputs": [
    {
     "name": "stdout",
     "output_type": "stream",
     "text": [
      "단어 집합(vocabulary)의 크기 : 31927\n",
      "등장 빈도가 6번 이하인 희귀 단어의 수: 23695\n",
      "단어 집합에서 희귀 단어를 제외시킬 경우의 단어 집합의 크기 8232\n",
      "단어 집합에서 희귀 단어의 비율: 74.2161806621355\n",
      "전체 등장 빈도에서 희귀 단어 등장 빈도 비율: 3.3893270042992043\n"
     ]
    }
   ],
   "source": [
    "# 빈도수 낮은 단어들 제외하기\n",
    "## 7회 미만인 단어들은 훈련하지 않음(훈련데이터에서 제외처리)\n",
    "threshold = 7\n",
    "total_cnt = len(src_tokenizer.word_index) # 단어의 수\n",
    "rare_cnt = 0 # 등장 빈도수가 threshold보다 작은 단어의 개수를 카운트\n",
    "total_freq = 0 # 훈련 데이터의 전체 단어 빈도수 총 합\n",
    "rare_freq = 0 # 등장 빈도수가 threshold보다 작은 단어의 등장 빈도수의 총 합\n",
    "\n",
    "# 단어와 빈도수의 쌍(pair)을 key와 value로 받는다.\n",
    "for key, value in src_tokenizer.word_counts.items():\n",
    "    total_freq = total_freq + value\n",
    "\n",
    "    # 단어의 등장 빈도수가 threshold보다 작으면\n",
    "    if(value < threshold):\n",
    "        rare_cnt = rare_cnt + 1\n",
    "        rare_freq = rare_freq + value\n",
    "\n",
    "print('단어 집합(vocabulary)의 크기 :', total_cnt)\n",
    "print('등장 빈도가 %s번 이하인 희귀 단어의 수: %s'%(threshold - 1, rare_cnt))\n",
    "print('단어 집합에서 희귀 단어를 제외시킬 경우의 단어 집합의 크기 %s'%(total_cnt - rare_cnt))\n",
    "print(\"단어 집합에서 희귀 단어의 비율:\", (rare_cnt / total_cnt)*100)\n",
    "print(\"전체 등장 빈도에서 희귀 단어 등장 빈도 비율:\", (rare_freq / total_freq)*100)"
   ]
  },
  {
   "cell_type": "code",
   "execution_count": 27,
   "id": "67c47799",
   "metadata": {},
   "outputs": [
    {
     "name": "stdout",
     "output_type": "stream",
     "text": [
      "=3\n"
     ]
    }
   ],
   "source": [
    "# 위에서 단어집합의 크기가 8x00개 정도 나와서\n",
    "## src_vocab을 8,000으로 세팅\n",
    "src_vocab = 8000\n",
    "src_tokenizer = Tokenizer(num_words=src_vocab) # 단어 집합의 크기를 8,000으로 제한\n",
    "src_tokenizer.fit_on_texts(encoder_input_train) # 단어 집합 재생성\n",
    "print('=3')"
   ]
  },
  {
   "cell_type": "code",
   "execution_count": 28,
   "id": "e6be8b1b",
   "metadata": {},
   "outputs": [
    {
     "name": "stdout",
     "output_type": "stream",
     "text": [
      "[[6, 2410, 235, 459, 114, 340, 1508, 283, 2410, 9, 115, 1814, 1145, 167, 90, 196, 23, 96, 410, 137, 88, 56, 964, 177, 91, 98, 319, 281, 354, 205, 35, 26, 4905, 7, 46, 116, 3971, 114, 186, 257, 21, 996], [61, 21, 600, 231, 19, 43, 1, 669, 159, 194, 3972, 4068, 564, 1959, 3193, 600, 19, 7, 101, 2437, 21, 600, 91, 453, 17], [50, 373, 1401, 196, 277, 183, 1, 347, 3298, 2295, 31, 174, 31, 4621, 4757, 1349, 1019, 38, 131, 3398, 2411]]\n"
     ]
    }
   ],
   "source": [
    "# 텍스트 시퀀스를 정수 시퀀스로 변환\n",
    "encoder_input_train = src_tokenizer.texts_to_sequences(encoder_input_train) \n",
    "encoder_input_test = src_tokenizer.texts_to_sequences(encoder_input_test)\n",
    "\n",
    "# 잘 진행되었는지 샘플 출력\n",
    "print(encoder_input_train[:3])"
   ]
  },
  {
   "cell_type": "code",
   "execution_count": 29,
   "id": "5eb1d37a",
   "metadata": {},
   "outputs": [
    {
     "name": "stdout",
     "output_type": "stream",
     "text": [
      "=3\n"
     ]
    }
   ],
   "source": [
    "# Summary 데이터도 다음을 수행\n",
    "## Keras의 토크나이저 사용해서 decoder_input_train을 입력으로\n",
    "## 전체 단어 집합과 각 단어에 대한 빈도수 계산\n",
    "tar_tokenizer = Tokenizer()\n",
    "tar_tokenizer.fit_on_texts(decoder_input_train)\n",
    "print('=3')"
   ]
  },
  {
   "cell_type": "code",
   "execution_count": 30,
   "id": "b4b7c348",
   "metadata": {},
   "outputs": [
    {
     "name": "stdout",
     "output_type": "stream",
     "text": [
      "단어 집합(vocabulary)의 크기 : 10504\n",
      "등장 빈도가 5번 이하인 희귀 단어의 수: 8118\n",
      "단어 집합에서 희귀 단어를 제외시킬 경우의 단어 집합의 크기 2386\n",
      "단어 집합에서 희귀 단어의 비율: 77.28484386900229\n",
      "전체 등장 빈도에서 희귀 단어 등장 빈도 비율: 5.890030929877917\n"
     ]
    }
   ],
   "source": [
    "# 등장 빈도수가 6회 미만인 단어들의 비중 확인\n",
    "threshold = 6\n",
    "total_cnt = len(tar_tokenizer.word_index) # 단어의 수\n",
    "rare_cnt = 0 # 등장 빈도수가 threshold보다 작은 단어의 개수를 카운트\n",
    "total_freq = 0 # 훈련 데이터의 전체 단어 빈도수 총 합\n",
    "rare_freq = 0 # 등장 빈도수가 threshold보다 작은 단어의 등장 빈도수의 총 합\n",
    "\n",
    "# 단어와 빈도수의 쌍(pair)을 key와 value로 받는다.\n",
    "for key, value in tar_tokenizer.word_counts.items():\n",
    "    total_freq = total_freq + value\n",
    "\n",
    "    # 단어의 등장 빈도수가 threshold보다 작으면\n",
    "    if(value < threshold):\n",
    "        rare_cnt = rare_cnt + 1\n",
    "        rare_freq = rare_freq + value\n",
    "\n",
    "print('단어 집합(vocabulary)의 크기 :', total_cnt)\n",
    "print('등장 빈도가 %s번 이하인 희귀 단어의 수: %s'%(threshold - 1, rare_cnt))\n",
    "print('단어 집합에서 희귀 단어를 제외시킬 경우의 단어 집합의 크기 %s'%(total_cnt - rare_cnt))\n",
    "print(\"단어 집합에서 희귀 단어의 비율:\", (rare_cnt / total_cnt)*100)\n",
    "print(\"전체 등장 빈도에서 희귀 단어 등장 빈도 비율:\", (rare_freq / total_freq)*100)"
   ]
  },
  {
   "cell_type": "code",
   "execution_count": 31,
   "id": "e26fe36d",
   "metadata": {},
   "outputs": [
    {
     "name": "stdout",
     "output_type": "stream",
     "text": [
      "input\n",
      "input  [[1, 28, 45, 16], [1, 61, 237, 25, 35], [1, 12, 110, 6, 141, 28], [1, 1155, 629], [1, 3, 14, 191, 259, 56, 118]]\n",
      "target\n",
      "decoder  [[28, 45, 16, 2], [61, 237, 25, 35, 2], [12, 110, 6, 141, 28, 2], [1155, 629, 2], [3, 14, 191, 259, 56, 118, 2]]\n"
     ]
    }
   ],
   "source": [
    "# 희귀 단어 제외시킬 경우의 단어 집합 크기가 2300~2400정도니\n",
    "## 제거할 단어 크기 2000으로 설정\n",
    "tar_vocab = 2000\n",
    "tar_tokenizer = Tokenizer(num_words=tar_vocab) \n",
    "tar_tokenizer.fit_on_texts(decoder_input_train)\n",
    "tar_tokenizer.fit_on_texts(decoder_target_train)\n",
    "\n",
    "# 텍스트 시퀀스를 정수 시퀀스로 변환\n",
    "decoder_input_train = tar_tokenizer.texts_to_sequences(decoder_input_train) \n",
    "decoder_target_train = tar_tokenizer.texts_to_sequences(decoder_target_train)\n",
    "decoder_input_test = tar_tokenizer.texts_to_sequences(decoder_input_test)\n",
    "decoder_target_test = tar_tokenizer.texts_to_sequences(decoder_target_test)\n",
    "\n",
    "# 잘 변환되었는지 확인\n",
    "print('input')\n",
    "print('input ',decoder_input_train[:5])\n",
    "print('target')\n",
    "print('decoder ',decoder_target_train[:5])"
   ]
  },
  {
   "cell_type": "code",
   "execution_count": 32,
   "id": "aa6aa67f",
   "metadata": {},
   "outputs": [
    {
     "name": "stdout",
     "output_type": "stream",
     "text": [
      "삭제할 훈련 데이터의 개수 : 1256\n",
      "삭제할 테스트 데이터의 개수 : 362\n",
      "훈련 데이터의 개수 : 51399\n",
      "훈련 레이블의 개수 : 51399\n",
      "테스트 데이터의 개수 : 12801\n",
      "테스트 레이블의 개수 : 12801\n"
     ]
    }
   ],
   "source": [
    "# 빈 데이터들을 추출; 실제 길이는 1\n",
    "## drop_train, drop_test에 각각 저장\n",
    "drop_train = [index for index, sentence in enumerate(decoder_input_train) if len(sentence) == 1]\n",
    "drop_test = [index for index, sentence in enumerate(decoder_input_test) if len(sentence) == 1]\n",
    "\n",
    "print('삭제할 훈련 데이터의 개수 :', len(drop_train))\n",
    "print('삭제할 테스트 데이터의 개수 :', len(drop_test))\n",
    "\n",
    "encoder_input_train = [sentence for index, sentence in enumerate(encoder_input_train) if index not in drop_train]\n",
    "decoder_input_train = [sentence for index, sentence in enumerate(decoder_input_train) if index not in drop_train]\n",
    "decoder_target_train = [sentence for index, sentence in enumerate(decoder_target_train) if index not in drop_train]\n",
    "\n",
    "encoder_input_test = [sentence for index, sentence in enumerate(encoder_input_test) if index not in drop_test]\n",
    "decoder_input_test = [sentence for index, sentence in enumerate(decoder_input_test) if index not in drop_test]\n",
    "decoder_target_test = [sentence for index, sentence in enumerate(decoder_target_test) if index not in drop_test]\n",
    "\n",
    "print('훈련 데이터의 개수 :', len(encoder_input_train))\n",
    "print('훈련 레이블의 개수 :', len(decoder_input_train))\n",
    "print('테스트 데이터의 개수 :', len(encoder_input_test))\n",
    "print('테스트 레이블의 개수 :', len(decoder_input_test))"
   ]
  },
  {
   "cell_type": "code",
   "execution_count": 33,
   "id": "f6f10701",
   "metadata": {},
   "outputs": [
    {
     "name": "stdout",
     "output_type": "stream",
     "text": [
      "=3\n"
     ]
    }
   ],
   "source": [
    "# 서로 다른 길이의 샘플들을 병렬 처리\n",
    "## Padding 작업 수행\n",
    "encoder_input_train = pad_sequences(encoder_input_train, maxlen=text_max_len, padding='post')\n",
    "encoder_input_test = pad_sequences(encoder_input_test, maxlen=text_max_len, padding='post')\n",
    "decoder_input_train = pad_sequences(decoder_input_train, maxlen=summary_max_len, padding='post')\n",
    "decoder_target_train = pad_sequences(decoder_target_train, maxlen=summary_max_len, padding='post')\n",
    "decoder_input_test = pad_sequences(decoder_input_test, maxlen=summary_max_len, padding='post')\n",
    "decoder_target_test = pad_sequences(decoder_target_test, maxlen=summary_max_len, padding='post')\n",
    "print('=3')"
   ]
  },
  {
   "cell_type": "code",
   "execution_count": 34,
   "id": "6bb4b550",
   "metadata": {},
   "outputs": [
    {
     "name": "stdout",
     "output_type": "stream",
     "text": [
      "WARNING:tensorflow:Layer lstm_1 will not use cuDNN kernels since it doesn't meet the criteria. It will use a generic GPU kernel as fallback when running on GPU.\n",
      "WARNING:tensorflow:Layer lstm_2 will not use cuDNN kernels since it doesn't meet the criteria. It will use a generic GPU kernel as fallback when running on GPU.\n"
     ]
    }
   ],
   "source": [
    "# 모델 설계하기\n",
    "# 함수형 API 이용 (LSTM 1, 2, 3)\n",
    "from tensorflow.keras.layers import Input, LSTM, Embedding, Dense, Concatenate, TimeDistributed\n",
    "from tensorflow.keras.models import Model\n",
    "from tensorflow.keras.callbacks import EarlyStopping, ModelCheckpoint\n",
    "# Warning 메시지 무시하기\n",
    "import warnings\n",
    "warnings.filterwarnings('ignore')\n",
    "\n",
    "\n",
    "# 인코더 설계 시작\n",
    "embedding_dim = 128\n",
    "hidden_size = 256\n",
    "\n",
    "# 인코더\n",
    "encoder_inputs = Input(shape=(text_max_len,))\n",
    "\n",
    "# 인코더의 임베딩 층\n",
    "enc_emb = Embedding(src_vocab, embedding_dim)(encoder_inputs)\n",
    "\n",
    "# 인코더의 LSTM 1\n",
    "# encoder_lstm1 = LSTM(hidden_size, return_sequences=True, return_state=True ,dropout = 0.4, recurrent_dropout = 0.4)\n",
    "encoder_lstm1 = LSTM(hidden_size, return_sequences=True, return_state=True ,dropout = 0.4)\n",
    "encoder_output1, state_h1, state_c1 = encoder_lstm1(enc_emb)\n",
    "\n",
    "# 인코더의 LSTM 2\n",
    "# [[YOUR CODE]]\n",
    "encoder_lstm2 = LSTM(hidden_size, return_sequences=True, return_state=True, dropout=0.4, recurrent_dropout=0.4)\n",
    "encoder_output2, state_h2, state_c2 = encoder_lstm2(encoder_output1)\n",
    "\n",
    "# 인코더의 LSTM 3\n",
    "# [[YOUR CODE]]\n",
    "encoder_lstm3 = LSTM(hidden_size, return_state=True, return_sequences=True, dropout=0.4, recurrent_dropout=0.4)\n",
    "encoder_outputs, state_h, state_c= encoder_lstm3(encoder_output2)"
   ]
  },
  {
   "cell_type": "code",
   "execution_count": 35,
   "id": "53175cca",
   "metadata": {},
   "outputs": [],
   "source": [
    "# 디코더 설계\n",
    "decoder_inputs = Input(shape=(None,))\n",
    "\n",
    "# 디코더의 임베딩 층\n",
    "dec_emb_layer = Embedding(tar_vocab, embedding_dim)\n",
    "dec_emb = dec_emb_layer(decoder_inputs)\n",
    "\n",
    "# 디코더의 LSTM\n",
    "# decoder_lstm = LSTM(hidden_size, return_sequences=True, return_state=True, dropout=0.4, recurrent_dropout=0.2)\n",
    "decoder_lstm = LSTM(hidden_size, return_sequences=True, return_state=True, dropout=0.4)\n",
    "decoder_outputs, _, _ = decoder_lstm(dec_emb, initial_state=[state_h, state_c])"
   ]
  },
  {
   "cell_type": "code",
   "execution_count": 36,
   "id": "bae22149",
   "metadata": {},
   "outputs": [
    {
     "name": "stdout",
     "output_type": "stream",
     "text": [
      "Model: \"model\"\n",
      "__________________________________________________________________________________________________\n",
      "Layer (type)                    Output Shape         Param #     Connected to                     \n",
      "==================================================================================================\n",
      "input_1 (InputLayer)            [(None, 50)]         0                                            \n",
      "__________________________________________________________________________________________________\n",
      "embedding (Embedding)           (None, 50, 128)      1024000     input_1[0][0]                    \n",
      "__________________________________________________________________________________________________\n",
      "lstm (LSTM)                     [(None, 50, 256), (N 394240      embedding[0][0]                  \n",
      "__________________________________________________________________________________________________\n",
      "input_2 (InputLayer)            [(None, None)]       0                                            \n",
      "__________________________________________________________________________________________________\n",
      "lstm_1 (LSTM)                   [(None, 50, 256), (N 525312      lstm[0][0]                       \n",
      "__________________________________________________________________________________________________\n",
      "embedding_1 (Embedding)         (None, None, 128)    256000      input_2[0][0]                    \n",
      "__________________________________________________________________________________________________\n",
      "lstm_2 (LSTM)                   [(None, 50, 256), (N 525312      lstm_1[0][0]                     \n",
      "__________________________________________________________________________________________________\n",
      "lstm_3 (LSTM)                   [(None, None, 256),  394240      embedding_1[0][0]                \n",
      "                                                                 lstm_2[0][1]                     \n",
      "                                                                 lstm_2[0][2]                     \n",
      "__________________________________________________________________________________________________\n",
      "dense (Dense)                   (None, None, 2000)   514000      lstm_3[0][0]                     \n",
      "==================================================================================================\n",
      "Total params: 3,633,104\n",
      "Trainable params: 3,633,104\n",
      "Non-trainable params: 0\n",
      "__________________________________________________________________________________________________\n"
     ]
    }
   ],
   "source": [
    "# 디코더의 출력층\n",
    "decoder_softmax_layer = Dense(tar_vocab, activation='softmax')\n",
    "decoder_softmax_outputs = decoder_softmax_layer(decoder_outputs) \n",
    "\n",
    "# 모델 정의\n",
    "model = Model([encoder_inputs, decoder_inputs], decoder_softmax_outputs)\n",
    "model.summary()"
   ]
  },
  {
   "cell_type": "code",
   "execution_count": 37,
   "id": "7a4134bb",
   "metadata": {},
   "outputs": [
    {
     "name": "stdout",
     "output_type": "stream",
     "text": [
      "Model: \"model_1\"\n",
      "__________________________________________________________________________________________________\n",
      "Layer (type)                    Output Shape         Param #     Connected to                     \n",
      "==================================================================================================\n",
      "input_1 (InputLayer)            [(None, 50)]         0                                            \n",
      "__________________________________________________________________________________________________\n",
      "embedding (Embedding)           (None, 50, 128)      1024000     input_1[0][0]                    \n",
      "__________________________________________________________________________________________________\n",
      "lstm (LSTM)                     [(None, 50, 256), (N 394240      embedding[0][0]                  \n",
      "__________________________________________________________________________________________________\n",
      "input_2 (InputLayer)            [(None, None)]       0                                            \n",
      "__________________________________________________________________________________________________\n",
      "lstm_1 (LSTM)                   [(None, 50, 256), (N 525312      lstm[0][0]                       \n",
      "__________________________________________________________________________________________________\n",
      "embedding_1 (Embedding)         (None, None, 128)    256000      input_2[0][0]                    \n",
      "__________________________________________________________________________________________________\n",
      "lstm_2 (LSTM)                   [(None, 50, 256), (N 525312      lstm_1[0][0]                     \n",
      "__________________________________________________________________________________________________\n",
      "lstm_3 (LSTM)                   [(None, None, 256),  394240      embedding_1[0][0]                \n",
      "                                                                 lstm_2[0][1]                     \n",
      "                                                                 lstm_2[0][2]                     \n",
      "__________________________________________________________________________________________________\n",
      "attention_layer (AdditiveAttent (None, None, 256)    256         lstm_3[0][0]                     \n",
      "                                                                 lstm_2[0][0]                     \n",
      "__________________________________________________________________________________________________\n",
      "concat_layer (Concatenate)      (None, None, 512)    0           lstm_3[0][0]                     \n",
      "                                                                 attention_layer[0][0]            \n",
      "__________________________________________________________________________________________________\n",
      "dense_1 (Dense)                 (None, None, 2000)   1026000     concat_layer[0][0]               \n",
      "==================================================================================================\n",
      "Total params: 4,145,360\n",
      "Trainable params: 4,145,360\n",
      "Non-trainable params: 0\n",
      "__________________________________________________________________________________________________\n"
     ]
    }
   ],
   "source": [
    "## 어텐션 메커니즘을 수행하는 함수 추가\n",
    "from tensorflow.keras.layers import AdditiveAttention\n",
    "\n",
    "# 어텐션 층(어텐션 함수)\n",
    "attn_layer = AdditiveAttention(name='attention_layer')\n",
    "\n",
    "# 인코더와 디코더의 모든 time step의 hidden state를 어텐션 층에 전달하고 결과를 리턴\n",
    "attn_out = attn_layer([decoder_outputs, encoder_outputs])\n",
    "\n",
    "\n",
    "# 어텐션의 결과와 디코더의 hidden state들을 연결\n",
    "decoder_concat_input = Concatenate(axis=-1, name='concat_layer')([decoder_outputs, attn_out])\n",
    "\n",
    "# 디코더의 출력층\n",
    "decoder_softmax_layer = Dense(tar_vocab, activation='softmax')\n",
    "decoder_softmax_outputs = decoder_softmax_layer(decoder_concat_input)\n",
    "\n",
    "# 모델 정의\n",
    "model = Model([encoder_inputs, decoder_inputs], decoder_softmax_outputs)\n",
    "model.summary()"
   ]
  },
  {
   "cell_type": "code",
   "execution_count": 38,
   "id": "928a5159",
   "metadata": {},
   "outputs": [
    {
     "name": "stdout",
     "output_type": "stream",
     "text": [
      "Epoch 1/50\n",
      "201/201 [==============================] - 152s 696ms/step - loss: 2.7008 - val_loss: 2.4249\n",
      "Epoch 2/50\n",
      "201/201 [==============================] - 139s 692ms/step - loss: 2.3642 - val_loss: 2.2777\n",
      "Epoch 3/50\n",
      "201/201 [==============================] - 139s 691ms/step - loss: 2.2100 - val_loss: 2.1589\n",
      "Epoch 4/50\n",
      "201/201 [==============================] - 138s 684ms/step - loss: 2.1023 - val_loss: 2.0761\n",
      "Epoch 5/50\n",
      "201/201 [==============================] - 139s 693ms/step - loss: 2.0205 - val_loss: 2.0205\n",
      "Epoch 6/50\n",
      "201/201 [==============================] - 139s 694ms/step - loss: 1.9571 - val_loss: 1.9822\n",
      "Epoch 7/50\n",
      "201/201 [==============================] - 136s 678ms/step - loss: 1.9034 - val_loss: 1.9518\n",
      "Epoch 8/50\n",
      "201/201 [==============================] - 134s 667ms/step - loss: 1.8597 - val_loss: 1.9267\n",
      "Epoch 9/50\n",
      "201/201 [==============================] - 96s 478ms/step - loss: 1.8193 - val_loss: 1.9108\n",
      "Epoch 10/50\n",
      "201/201 [==============================] - 96s 477ms/step - loss: 1.7835 - val_loss: 1.8999\n",
      "Epoch 11/50\n",
      "201/201 [==============================] - 96s 476ms/step - loss: 1.7506 - val_loss: 1.8853\n",
      "Epoch 12/50\n",
      "201/201 [==============================] - 96s 478ms/step - loss: 1.7192 - val_loss: 1.8774\n",
      "Epoch 13/50\n",
      "201/201 [==============================] - 96s 478ms/step - loss: 1.6906 - val_loss: 1.8693\n",
      "Epoch 14/50\n",
      "201/201 [==============================] - 96s 476ms/step - loss: 1.6623 - val_loss: 1.8686\n",
      "Epoch 15/50\n",
      "201/201 [==============================] - 96s 476ms/step - loss: 1.6359 - val_loss: 1.8659\n",
      "Epoch 16/50\n",
      "201/201 [==============================] - 96s 477ms/step - loss: 1.6117 - val_loss: 1.8669\n",
      "Epoch 17/50\n",
      "201/201 [==============================] - 96s 477ms/step - loss: 1.5880 - val_loss: 1.8663\n",
      "Epoch 00017: early stopping\n"
     ]
    }
   ],
   "source": [
    "# 설계한 모델로 훈련하기\n",
    "model.compile(optimizer='rmsprop', loss='sparse_categorical_crossentropy')\n",
    "es = EarlyStopping(monitor='val_loss', patience=2, verbose=1)\n",
    "history = model.fit(x=[encoder_input_train, decoder_input_train], y=decoder_target_train, \\\n",
    "          validation_data=([encoder_input_test, decoder_input_test], decoder_target_test), \\\n",
    "          batch_size=256, callbacks=[es], epochs=50)"
   ]
  },
  {
   "cell_type": "code",
   "execution_count": 39,
   "id": "45a15650",
   "metadata": {},
   "outputs": [
    {
     "data": {
      "image/png": "[encoded data removed]",
      "text/plain": [
       "<Figure size 432x288 with 1 Axes>"
      ]
     },
     "metadata": {
      "needs_background": "light"
     },
     "output_type": "display_data"
    }
   ],
   "source": [
    "# 훈련 데이터의 손실과 검증 데이터의 손실이 줄어드는 과정을 시각화\n",
    "plt.plot(history.history['loss'], label='train')\n",
    "plt.plot(history.history['val_loss'], label='test')\n",
    "plt.legend()\n",
    "plt.show()"
   ]
  },
  {
   "cell_type": "code",
   "execution_count": 40,
   "id": "83a1c99b",
   "metadata": {},
   "outputs": [
    {
     "name": "stdout",
     "output_type": "stream",
     "text": [
      "=3\n"
     ]
    }
   ],
   "source": [
    "# 테스트 단계\n",
    "## 정수 인덱스 행렬이던 텍스트 데이터를 실제 데이터로 복원해야함\n",
    "# 필요한 3개의 사전 준비\n",
    "src_index_to_word = src_tokenizer.index_word # 원문 단어 집합에서 정수 -> 단어를 얻음\n",
    "tar_word_to_index = tar_tokenizer.word_index # 요약 단어 집합에서 단어 -> 정수를 얻음\n",
    "tar_index_to_word = tar_tokenizer.index_word # 요약 단어 집합에서 정수 -> 단어를 얻음\n",
    "\n",
    "print('=3')"
   ]
  },
  {
   "cell_type": "code",
   "execution_count": 41,
   "id": "b4867c61",
   "metadata": {},
   "outputs": [
    {
     "name": "stdout",
     "output_type": "stream",
     "text": [
      "=3\n"
     ]
    }
   ],
   "source": [
    "# 정답이 없는 인퍼런스 모델에서는 별도 모델을 설계해야함\n",
    "## 만들어야 할 문장의 길이만큼 디코더가 반복 구조로 동작해야하기 때문\n",
    "# 인코더 설계\n",
    "encoder_model = Model(inputs=encoder_inputs, outputs=[encoder_outputs, state_h, state_c])\n",
    "\n",
    "# 이전 시점의 상태들을 저장하는 텐서\n",
    "decoder_state_input_h = Input(shape=(hidden_size,))\n",
    "decoder_state_input_c = Input(shape=(hidden_size,))\n",
    "\n",
    "dec_emb2 = dec_emb_layer(decoder_inputs)\n",
    "\n",
    "# 문장의 다음 단어를 예측하기 위해서 초기 상태(initial_state)를 이전 시점의 상태로 사용. 이는 뒤의 함수 decode_sequence()에 구현\n",
    "# 훈련 과정에서와 달리 LSTM의 리턴하는 은닉 상태와 셀 상태인 state_h와 state_c를 버리지 않음.\n",
    "decoder_outputs2, state_h2, state_c2 = decoder_lstm(dec_emb2, initial_state=[decoder_state_input_h, decoder_state_input_c])\n",
    "\n",
    "print('=3')"
   ]
  },
  {
   "cell_type": "code",
   "execution_count": 42,
   "id": "30fcf9f7",
   "metadata": {},
   "outputs": [
    {
     "name": "stdout",
     "output_type": "stream",
     "text": [
      "=3\n"
     ]
    }
   ],
   "source": [
    "## 어텐션 메커니즘을 사용하는 출력층\n",
    "# 어텐션 함수\n",
    "decoder_hidden_state_input = Input(shape=(text_max_len, hidden_size))\n",
    "attn_out_inf = attn_layer([decoder_outputs2, decoder_hidden_state_input])\n",
    "decoder_inf_concat = Concatenate(axis=-1, name='concat')([decoder_outputs2, attn_out_inf])\n",
    "\n",
    "# 디코더의 출력층\n",
    "decoder_outputs2 = decoder_softmax_layer(decoder_inf_concat) \n",
    "\n",
    "# 최종 디코더 모델\n",
    "decoder_model = Model(\n",
    "    [decoder_inputs] + [decoder_hidden_state_input,decoder_state_input_h, decoder_state_input_c],\n",
    "    [decoder_outputs2] + [state_h2, state_c2])\n",
    "\n",
    "print('=3')"
   ]
  },
  {
   "cell_type": "code",
   "execution_count": 43,
   "id": "f61e9b26",
   "metadata": {},
   "outputs": [
    {
     "name": "stdout",
     "output_type": "stream",
     "text": [
      "=3\n"
     ]
    }
   ],
   "source": [
    "# 인퍼런스 단계에서 단어 시퀀스를 완성하는 함수\n",
    "def decode_sequence(input_seq):\n",
    "    # 입력으로부터 인코더의 상태를 얻음\n",
    "    e_out, e_h, e_c = encoder_model.predict(input_seq)\n",
    "\n",
    "     # <SOS>에 해당하는 토큰 생성\n",
    "    target_seq = np.zeros((1,1))\n",
    "    target_seq[0, 0] = tar_word_to_index['sostoken']\n",
    "\n",
    "    stop_condition = False\n",
    "    decoded_sentence = ''\n",
    "    while not stop_condition: # stop_condition이 True가 될 때까지 루프 반복\n",
    "\n",
    "        output_tokens, h, c = decoder_model.predict([target_seq] + [e_out, e_h, e_c])\n",
    "        sampled_token_index = np.argmax(output_tokens[0, -1, :])\n",
    "        sampled_token = tar_index_to_word[sampled_token_index]\n",
    "\n",
    "        if (sampled_token!='eostoken'):\n",
    "            decoded_sentence += ' '+sampled_token\n",
    "\n",
    "        #  <eos>에 도달하거나 최대 길이를 넘으면 중단.\n",
    "        if (sampled_token == 'eostoken'  or len(decoded_sentence.split()) >= (summary_max_len-1)):\n",
    "            stop_condition = True\n",
    "\n",
    "        # 길이가 1인 타겟 시퀀스를 업데이트\n",
    "        target_seq = np.zeros((1,1))\n",
    "        target_seq[0, 0] = sampled_token_index\n",
    "\n",
    "        # 상태를 업데이트 합니다.\n",
    "        e_h, e_c = h, c\n",
    "\n",
    "    return decoded_sentence\n",
    "print('=3')"
   ]
  },
  {
   "cell_type": "code",
   "execution_count": 44,
   "id": "bd46ce56",
   "metadata": {},
   "outputs": [
    {
     "name": "stdout",
     "output_type": "stream",
     "text": [
      "=3\n"
     ]
    }
   ],
   "source": [
    "# seq2text 함수처럼 요약문이 정수 시퀀스를 텍스트로 변환하는 seq2summary 함수 코드\n",
    "## 작성 (Hint. 요약문에는 sostoken, eostoken을 고려해야함)\\\n",
    "# 원문의 정수 시퀀스를 텍스트 시퀀스로 변환\n",
    "def seq2text(input_seq):\n",
    "    temp=''\n",
    "    for i in input_seq:\n",
    "        if (i!=0):\n",
    "            temp = temp + src_index_to_word[i]+' '\n",
    "    return temp\n",
    "\n",
    "# 요약문의 정수 시퀀스를 텍스트 시퀀스로 변환\n",
    "def seq2summary(input_seq):\n",
    "    # [[YOUR CODE]]\n",
    "    temp=''\n",
    "    for i in input_seq:\n",
    "        if((i!=0 and i!=tar_word_to_index['sostoken']) and i!=tar_word_to_index['eostoken']):\n",
    "            temp = temp + tar_index_to_word[i] + ' '\n",
    "    return temp\n",
    "\n",
    "print('=3')"
   ]
  },
  {
   "cell_type": "code",
   "execution_count": 45,
   "id": "cd6e66cb",
   "metadata": {},
   "outputs": [
    {
     "name": "stdout",
     "output_type": "stream",
     "text": [
      "원문 : nd purchase amazon im disappointed receive package oatmeal squares indicate best buy date least two boxes date \n",
      "실제 요약 : months to expiration \n",
      "예측 요약 :  not as good as the\n",
      "\n",
      "\n",
      "원문 : wheat free bread mix better expected bread moist tasty makes pie crust \n",
      "실제 요약 : moist and tasty \n",
      "예측 요약 :  pamela bread mix\n",
      "\n",
      "\n",
      "원문 : enjoyed cereal long remember found difficult find tried brands terrible thrilled find reliable source product amazon \n",
      "실제 요약 : the only true raisin bran \n",
      "예측 요약 :  great product\n",
      "\n",
      "\n",
      "원문 : purchased ounce containers flavored salt september paying ship worth merchandise still waiting people seem interested customer service \n",
      "실제 요약 : still waiting \n",
      "예측 요약 :  not what ordered\n",
      "\n",
      "\n",
      "원문 : robust roast definitely morning coffee love flavor value sure store airtight container maintain flavor \n",
      "실제 요약 : robust and \n",
      "예측 요약 :  good coffee\n",
      "\n",
      "\n",
      "원문 : coffee become one daily favorites quite strong many french roasts also bitter good way start day \n",
      "실제 요약 : good daily roast \n",
      "예측 요약 :  great coffee\n",
      "\n",
      "\n",
      "원문 : caution good earth original caffeine free taste one best made mistake bought natural good earth original weaker less tangy taste need purchase tea look design box even check number best way ordering amazon auto shipping every three months best tasting tea tea lover wonderful \n",
      "실제 요약 : not all good earth original taste the same \n",
      "예측 요약 :  good but not great\n",
      "\n",
      "\n",
      "원문 : believe sun maid raisins one time favorite snacks since childhood lately passing high price local stores buying site best deal anywhere order came quickly raisins came well packaged soft fresh also reasonable priced fantastic amount raisin everything oatmeal cereal cookies fruit cakes simply delicious definitely ordering \n",
      "실제 요약 : great deal great product great health snack \n",
      "예측 요약 :  great snack\n",
      "\n",
      "\n",
      "원문 : well dogs would eat glad know benefits animals get chewing teeth cleaning breathe safety us always issue \n",
      "실제 요약 : greenies for dogs \n",
      "예측 요약 :  dogs love it\n",
      "\n",
      "\n",
      "원문 : candy opened chocolate white spots looked like thick chalk later noticed box snow flake like sold around xmas time good \n",
      "실제 요약 : old candy with white all over \n",
      "예측 요약 :  not the same as the\n",
      "\n",
      "\n",
      "원문 : best ginger cookie ever perfect blend sweetness creme ginger small dash lemony aftertaste someone else said official cookie highly recommended got recently costco selling \n",
      "실제 요약 : awesome cookies back at costco too \n",
      "예측 요약 :  delicious\n",
      "\n",
      "\n",
      "원문 : make lot smoothies wanted low calorie way add caramel flavor extract great comes nice oz size lasts long time \n",
      "실제 요약 : just what needed \n",
      "예측 요약 :  great product\n",
      "\n",
      "\n",
      "원문 : tried several dried apple brands available bulk online warehouse stores far best prefer slightly soft dried apples brands crunchy filled preservatives \n",
      "실제 요약 : glad found these \n",
      "예측 요약 :  love these\n",
      "\n",
      "\n",
      "원문 : recently supply discover box change flavor addictive spearmint altoids taste like cut rate wintergreen say hate see nearly three decades altoids pleasure come end plain lousy \n",
      "실제 요약 : mint in \n",
      "예측 요약 :  not bad\n",
      "\n",
      "\n",
      "원문 : usually get wine gummies special deal gustaf gave try although okay good maynards still plenty left usually gummies gone make mistake future \n",
      "실제 요약 : wine gums \n",
      "예측 요약 :  not what expected\n",
      "\n",
      "\n",
      "원문 : searched years decaf coffee kept wonderful flavor full bodied coffee finally found tried newman decaf great taste great company happy customer \n",
      "실제 요약 : best decaf have tried \n",
      "예측 요약 :  best decaf coffee ever\n",
      "\n",
      "\n",
      "원문 : really love cereal warming comforting great anytime cracked wheat rye perfectly balanced softer oats barley flax seeds add health benefits without even realizing save seeing quick cook even quicker gobble like flavor whole grains highly recommend try price subscribe save fine \n",
      "실제 요약 : breakfast \n",
      "예측 요약 :  great product\n",
      "\n",
      "\n",
      "원문 : tryed dessert several years ago amazing thing ever sadly never saw shelves happy get amazon even though pkgs \n",
      "실제 요약 : thought it was gone \n",
      "예측 요약 :  best brownies ever\n",
      "\n",
      "\n",
      "원문 : switch tangy drink reminiscent orange juice carbonated way even would consuming soft drink drink feel sugary quick glance nutritional facts contains grams sugar claim additional sugars added assuming sugar orange tangerine \n",
      "실제 요약 : with vitamin \n",
      "예측 요약 :  great taste\n",
      "\n",
      "\n",
      "원문 : sister turned brand quality using cooking morning eggs body moisturizer takes minutes wonderful opportunity slow appreciate take care disappointed \n",
      "실제 요약 : excellent product \n",
      "예측 요약 :  great product\n",
      "\n",
      "\n",
      "원문 : nothing wrong please keep mind haribo gummies purchased different countries drastically different ingredients considered healthy snacks germany made real fruit juice even haribo brand gummies purchased made fruit juice disappointed cannot get niece eating germany best gummi \n",
      "실제 요약 : buyer beware \n",
      "예측 요약 :  not bad\n",
      "\n",
      "\n",
      "원문 : time water favorite drink orange mango flavor opinion best flavor \n",
      "실제 요약 : excellent flavor \n",
      "예측 요약 :  love this stuff\n",
      "\n",
      "\n",
      "원문 : cups brew excellent cup decaf tea wonderful fresh brewed taste seconds keurig brewer disappointed \n",
      "실제 요약 : twinings english breakfast tea \n",
      "예측 요약 :  good coffee\n",
      "\n",
      "\n",
      "원문 : received tassimo coffee machine christmas enjoying taste wonderful disc wife really enjoys lattes convenient way enjoy one \n",
      "실제 요약 : gevalia discs \n",
      "예측 요약 :  great coffee\n",
      "\n",
      "\n",
      "원문 : bought pumps use teh torani syrups fit bottles perfectly quite durable really easy clean seem rarely mention reasonable price would recommend product \n",
      "실제 요약 : love them \n",
      "예측 요약 :  great product\n",
      "\n",
      "\n",
      "원문 : chocolate good expected preferring darker nutrition dense foods met expectations purchase products company need \n",
      "실제 요약 : great chocolate \n",
      "예측 요약 :  not as good as the\n",
      "\n",
      "\n",
      "원문 : elite always looking healthy nutrition tastes great tried lot bars larabar become choice riding great tasting soft easy chew riding best loaded artificial crap fillers \n",
      "실제 요약 : larabar simply the best \n",
      "예측 요약 :  great tasting and healthy snack\n",
      "\n",
      "\n",
      "원문 : chips super yummy buy amazon pretty weird buy walmart love really really yummy \n",
      "실제 요약 : super yummy \n",
      "예측 요약 :  great chips\n",
      "\n",
      "\n",
      "원문 : could believe wonderful flavor salt doctor tells trace minerals actually good made use every morning great \n",
      "실제 요약 : himalayan salt \n",
      "예측 요약 :  great product\n",
      "\n",
      "\n",
      "원문 : great side dish lipton knorr easy prepare tastes good usually serve mine grilled chicken even fix quick lunch butter herb lipton knorr winner book usually find local grocer sale usually coupons sunday paper save even smart shopper \n",
      "실제 요약 : great side from lipton knorr \n",
      "예측 요약 :  great product\n",
      "\n",
      "\n",
      "원문 : perhaps favorite flavors eat spicy hot foods perfect sweet salt taste good snack appetizer \n",
      "실제 요약 : favorite flavor sweet and not too spicy \n",
      "예측 요약 :  spicy\n",
      "\n",
      "\n",
      "원문 : guess little like tortilla chip found tasty quite salty grocery store type tortilla corn chips taste anything olives though natural foods might attracted lack gmo ingredients artificial colors flavors preservatives etc selling point though age need preservatives get \n",
      "실제 요약 : between and tortilla chip \n",
      "예측 요약 :  not bad\n",
      "\n",
      "\n",
      "원문 : best good like products without splenda corn syrup none makes stomach aches go away kids love well everyone else one far ive tasted thats better horchata hard come horchata except splenda stores would buy \n",
      "실제 요약 : yummy \n",
      "예측 요약 :  love this stuff\n",
      "\n",
      "\n",
      "원문 : cannot say enough products daughter throws back like nothing absolutely loves wish stage readily available \n",
      "실제 요약 : love \n",
      "예측 요약 :  love it\n",
      "\n",
      "\n",
      "원문 : tried use grocery store oil popcorn popper always tasted stale bit like movie theater popcorn decided try party made world difference tasted like fresh popped corn theater packs easy use cut across top dump packets heated popper definitely buy \n",
      "실제 요약 : great taste and easy to use \n",
      "예측 요약 :  great popcorn\n",
      "\n",
      "\n",
      "원문 : wife uses complains makes smell nice clean well great moisturizer inside personally care feels slimy skin use guess moisturizer working good smell though \n",
      "실제 요약 : great body \n",
      "예측 요약 :  good product\n",
      "\n",
      "\n",
      "원문 : take regular old salted cashews add pepper taste like sea salt alter taste however salted cashews pepper tasty snack good nothing special \n",
      "실제 요약 : nothing special \n",
      "예측 요약 :  not that great\n",
      "\n",
      "\n",
      "원문 : really good tasting mean healthy many things taste good good use treat lots sugar syrup fiber looking healthy snack good choice looking sweet yummy snack fiber \n",
      "실제 요약 : very good but lots of sugar and syrup \n",
      "예측 요약 :  great snack\n",
      "\n",
      "\n",
      "원문 : new fav great flavor acid great love comes containers also good buy \n",
      "실제 요약 : fantastic robust flavor \n",
      "예측 요약 :  great taste\n",
      "\n",
      "\n",
      "원문 : seriously get marinade pork needs freakin love products thing use ribs prices bit high worth \n",
      "실제 요약 : amazing marinade \n",
      "예측 요약 :  great product\n",
      "\n",
      "\n",
      "원문 : use powdered peanut butter cooking smoothies crazy pb definitely works dishes like thai peanut sauce peanut butter pie saving calories however cost small jar stuff ridiculous buy pounds shipping amount search powdered peanut butter stuff last years sealed comes \n",
      "실제 요약 : great but buy in bulk for much cheaper \n",
      "예측 요약 :  great for pork\n",
      "\n",
      "\n",
      "원문 : tried love chips local store carries dollars save dollars every case trying salt free next \n",
      "실제 요약 : fantastic snack \n",
      "예측 요약 :  great chips\n",
      "\n",
      "\n",
      "원문 : introduced years ago child loved ever since first steaks put fish vegetables love sprinkle steamed really good ton ingredients natural \n",
      "실제 요약 : excellent high quality seasoning with great flavor \n",
      "예측 요약 :  love this rub\n",
      "\n",
      "\n",
      "원문 : great diabetics want little sweet sugar per serving serving per oz bar one bar lasts \n",
      "실제 요약 : delicious and not that sweet \n",
      "예측 요약 :  great taste\n",
      "\n",
      "\n",
      "원문 : icicle pretty good price easy setup cool design definitely light made plastic one things like noise fair amount buzz along cheap price get pay \n",
      "실제 요약 : not bad not great \n",
      "예측 요약 :  good product\n",
      "\n",
      "\n",
      "원문 : apples dried good watch occasional seeds stems even core tastes good dried cannot get enough thought bag month enough find bags month enough need order \n",
      "실제 요약 : organic dried apples \n",
      "예측 요약 :  good but not great\n",
      "\n",
      "\n",
      "원문 : dog loves gotten bigger bag also great size stuffing roller ball raspberry \n",
      "실제 요약 : awesome treats \n",
      "예측 요약 :  great dog food\n",
      "\n",
      "\n",
      "원문 : see item priced sold buy oz bottle health food store going \n",
      "실제 요약 : how much \n",
      "예측 요약 :  good product\n",
      "\n",
      "\n",
      "원문 : found recent trip england find soon got home standard us around forever use many ways pies donuts cakes fresh fruit whipped cream even french toast \n",
      "실제 요약 : delicious best ever \n",
      "예측 요약 :  great product\n",
      "\n",
      "\n",
      "원문 : delicious light white tea sweet peach flavor great relax evening naturally little caffeine tastes like summer \n",
      "실제 요약 : delicious \n",
      "예측 요약 :  love this tea\n",
      "\n",
      "\n"
     ]
    }
   ],
   "source": [
    "# 테스트 데이터 약 50개 샘플\n",
    "## 실제 요약과 예측된 요약을 비교하시오\n",
    "for i in range(50, 100):\n",
    "    print(\"원문 :\", seq2text(encoder_input_test[i]))\n",
    "    print(\"실제 요약 :\", seq2summary(decoder_input_test[i]))\n",
    "    print(\"예측 요약 :\", decode_sequence(encoder_input_test[i].reshape(1, text_max_len)))\n",
    "    print(\"\\n\")"
   ]
  },
  {
   "cell_type": "code",
   "execution_count": 46,
   "id": "9f9a996f",
   "metadata": {},
   "outputs": [],
   "source": [
    "# 매트릭스 시놉시스 데이터 다운로드\n",
    "import requests\n",
    "from summa.summarizer import summarize\n",
    "\n",
    "text = requests.get('http://rare-technologies.com/the_matrix_synopsis.txt').text"
   ]
  },
  {
   "cell_type": "code",
   "execution_count": 47,
   "id": "808f6a3a",
   "metadata": {},
   "outputs": [
    {
     "name": "stdout",
     "output_type": "stream",
     "text": [
      "The screen is filled with green, cascading code which gives way to the title, The Matrix.\r\n",
      "\r\n",
      "A phone rings and text appears on the screen: \"Call trans opt: received. 2-19-98 13:24:18 REC: Log>\" As a conversation takes place between Trinity (Carrie-Anne Moss) and Cypher (Joe Pantoliano), two free humans, a table of random green numbers are being scanned and individual numbers selected, creating a series of digits not unlike an ordinary phone number, as if a code is being deciphered or a call is being traced.\r\n",
      "\r\n",
      "Trinity discusses some unknown person. Cypher taunts Trinity, suggesting she enjoys watching him. Trinity counters that \"Morpheus (Laurence Fishburne) says he may be 'the One',\" just as the sound of a number being selected alerts Trinity that someone may be tracing their call. She ends the call.\r\n",
      "\r\n",
      "Armed policemen move down a darkened, decrepit hallway in the Heart O' the City Hotel, their flashlight beam bouncing just ahead of them. They come to room 303, kick down the door and find a woman dressed in black, facing away from them. It's Trinity. She brings her hands up from the laptop she's working on at their command.\r\n",
      "\r\n",
      "Outside the hotel a car drives up and three agents appear in neatly pressed black suits. They are Agent Smith (Hugo Weaving), Agent Brown (Paul Goddard), and Agent Jones (Robert Taylor). Agent Smith and the presiding police lieutenant argue. Agent Smith admonishes the policeman that they were given specific orders to contact the agents first, for their\n"
     ]
    }
   ],
   "source": [
    "# 매트릭스 시놉세스 데이터 일부 출력\n",
    "print(text[:1500])"
   ]
  },
  {
   "cell_type": "code",
   "execution_count": 48,
   "id": "757c1b80",
   "metadata": {},
   "outputs": [
    {
     "name": "stdout",
     "output_type": "stream",
     "text": [
      "Summary:\n",
      "Morpheus, Trinity, Neo, Apoc, Switch, Mouse and Cypher are jacked into the Matrix.\n",
      "Trinity brings the helicopter down to the floor that Morpheus is on and Neo opens fire on the three Agents.\n"
     ]
    }
   ],
   "source": [
    "# Summa summarize()의 args\n",
    "# text(str) : 요약할 텍스트\n",
    "# words (int or None, optional) : 출력에 포함할 단어 수\n",
    "# 만약 ratio와 함께 위 두 파라미터가 모두 제공되면, ratio는 무시함\n",
    "# split(bool, optional) - True일 경우, 문장 list, False일 경우 join된 문자열을 반환\n",
    "\n",
    "# 원문의 0.005%만을 요약해서 출력\n",
    "print('Summary:')\n",
    "print(summarize(text, ratio=0.005))"
   ]
  },
  {
   "cell_type": "code",
   "execution_count": 49,
   "id": "f97aa9c9",
   "metadata": {},
   "outputs": [
    {
     "name": "stdout",
     "output_type": "stream",
     "text": [
      "Summary:\n",
      "['Morpheus, Trinity, Neo, Apoc, Switch, Mouse and Cypher are jacked into the Matrix.', 'Trinity brings the helicopter down to the floor that Morpheus is on and Neo opens fire on the three Agents.']\n"
     ]
    }
   ],
   "source": [
    "# 요약결과를 list로 받고 싶은 경우\n",
    "# split 인자의 값을 True로\n",
    "print('Summary:')\n",
    "print(summarize(text, ratio=0.005, split=True))"
   ]
  },
  {
   "cell_type": "code",
   "execution_count": 50,
   "id": "4d856b57",
   "metadata": {},
   "outputs": [
    {
     "name": "stdout",
     "output_type": "stream",
     "text": [
      "Summary:\n",
      "Trinity takes Neo to Morpheus.\n",
      "Morpheus, Trinity, Neo, Apoc, Switch, Mouse and Cypher are jacked into the Matrix.\n",
      "Trinity brings the helicopter down to the floor that Morpheus is on and Neo opens fire on the three Agents.\n"
     ]
    }
   ],
   "source": [
    "# 단어 수로 요약문 크기 조절\n",
    "# 50개 단어만 선택하는 예시\n",
    "print('Summary:')\n",
    "print(summarize(text, words=50))"
   ]
  },
  {
   "cell_type": "code",
   "execution_count": null,
   "id": "1892443c",
   "metadata": {},
   "outputs": [],
   "source": []
  }
 ],
 "metadata": {
  "kernelspec": {
   "display_name": "Python 3 (ipykernel)",
   "language": "python",
   "name": "python3"
  },
  "language_info": {
   "codemirror_mode": {
    "name": "ipython",
    "version": 3
   },
   "file_extension": ".py",
   "mimetype": "text/x-python",
   "name": "python",
   "nbconvert_exporter": "python",
   "pygments_lexer": "ipython3",
   "version": "3.9.7"
  }
 },
 "nbformat": 4,
 "nbformat_minor": 5
}
